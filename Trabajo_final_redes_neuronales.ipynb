{
  "nbformat": 4,
  "nbformat_minor": 0,
  "metadata": {
    "colab": {
      "provenance": [],
      "gpuType": "T4",
      "include_colab_link": true
    },
    "kernelspec": {
      "name": "python3",
      "display_name": "Python 3"
    },
    "language_info": {
      "name": "python"
    },
    "accelerator": "GPU"
  },
  "cells": [
    {
      "cell_type": "markdown",
      "metadata": {
        "id": "view-in-github",
        "colab_type": "text"
      },
      "source": [
        "<a href=\"https://colab.research.google.com/github/junk151516/RedesNeuronales/blob/main/Trabajo_final_redes_neuronales.ipynb\" target=\"_parent\"><img src=\"https://colab.research.google.com/assets/colab-badge.svg\" alt=\"Open In Colab\"/></a>"
      ]
    },
    {
      "cell_type": "markdown",
      "source": [
        "Trabajo final redes neuronales\n",
        "\n",
        "\n",
        "\n",
        "\n",
        "\n",
        "\n",
        "\n",
        "\n",
        "\n",
        "Juan Carlos Estrada Montoya\n",
        "\n",
        "Ing. de Sistemas\n",
        "\n",
        "Universidad de Antioquía\n",
        "\n",
        "\n",
        "\n",
        "\n",
        "\n",
        "\n",
        "\n",
        "\n",
        "\n",
        "\n"
      ],
      "metadata": {
        "id": "UHe1UE0dE2X1"
      }
    },
    {
      "cell_type": "markdown",
      "source": [
        "<div align=\"left\">\n",
        "<p><img alt=\"Sapiencia\" height=\"140px\" src=\"https://ubicua.ingeniaudea.co/pluginfile.php/32974/coursecat/description/RF_RedesNeuronales.png\"\n",
        "\n",
        "<div align=\"left\">\n",
        "<br></br>\n",
        "<br></br>\n",
        "\n",
        "\n",
        "\n",
        "<hr size=10 noshade color=\"#663398\">\n",
        "</p>\n",
        "\n",
        "<div align=\"right\">\n",
        "\n",
        "<br>\n",
        "\n",
        "\n",
        "**El presente material hace parte de la ruta de formación del talento especializado de SAPIENCIA**\n",
        "\n",
        "**Los documentos que utilizaremos en la presente y proximas clases son una mezcla del trabajo de muchos profesores y académicos.**\n",
        "\n",
        "**En caso de utilizar el presente contenido favor citarlo y brindar los créditos respectivos.**"
      ],
      "metadata": {
        "id": "ysu802rM00Hd"
      }
    },
    {
      "cell_type": "markdown",
      "source": [
        "#**Descripción trabajo final**\n",
        "\n",
        "<p>\n",
        "  1. Analizar el código paso a paso y entenderlo y realizar una breve explicación de como funciona.<br>\n",
        "  2. Realizar módificaciones variando parámetros como la cantidad de neuronas, tipo de optimizador, funciones de activación, funciones de perdida y tamaños de entrada de la imagen.<br>\n",
        "  3. A partir del entendimiento del código en el punto 1 responda las siguientes preguntas: <br>\n",
        "  <ul>\n",
        "    <li> ¿Cual es el objetivo de categorizar los targets o labels correspondientes a cada imagen? </li>\n",
        "    <li> ¿En que me ayuda la normalización a la hora de entrenar los datos? </li>\n",
        "  </ul>\n",
        "  <p>\n",
        "  4. Realice un informe detallando los resultados obtenidos en el punto 2. El informe debe responder las siguiente preguntas:\n",
        "  <ul>\n",
        "    <li> ¿Cómo variaron los resultados con el aumento o disminución de las neuronas?</li>\n",
        "    <li> ¿Cómo cambia la presición del modelo propuesto, al cambiar la función de activación, que se logra observar de los resultados?</li>\n",
        "    <li> ¿Cuál sería a su criterio la función de activación que se adapta al presente análisis ?</li>\n",
        "    <li> ¿Cómo se comportaron los resultados de las funciones de perdidas analizadas?</li>\n",
        "    <li> ¿Mejoraron los resultados al reducir o aumentar el tamaño de entrada de la imagen?</li>\n",
        "    <li> ¿Cuál fue la mejor solución que logró encontrar y por qué?</li>\n",
        "\n",
        "  </ul>\n",
        "\n",
        "  Nota: El informe debe llevar los valores que probaron en el módelo y para lo cuál como minimo se deben analizar 4 optimizadores,4 funciones de activación, 4 funciones de perdida, 4 opciones de neuronas y tamaños de entrada de la imagen. <br>\n",
        "<p>\n",
        "  5. Concluir en que casos se debe utilizar los optimizadores,funciones de perdida, funciones de activación y tener en cuenta que se debe presentar una gráfica representativa de cada función de activación describiendo los rangos de la función y su comportamiento.\n",
        "</p>"
      ],
      "metadata": {
        "id": "RtUNRiakL2zY"
      }
    },
    {
      "cell_type": "markdown",
      "source": [
        "##**Porcentajes de calificación:**\n",
        "\n",
        "\n",
        "1.   Punto 1 : 10%\n",
        "2.   Punto 2 : 10%\n",
        "3.   Punto 3 : 10%\n",
        "4.   Punto 4 : 25%\n",
        "5.   Punto 5 : 15%\n",
        "6.   Sustentación : 30%\n",
        "\n",
        "\n"
      ],
      "metadata": {
        "id": "-oqfHnoyvk2f"
      }
    },
    {
      "cell_type": "markdown",
      "source": [
        "---"
      ],
      "metadata": {
        "id": "FVpTSK0uX6Vx"
      }
    },
    {
      "cell_type": "markdown",
      "source": [
        "### Esto le permite utilizar TensorFlow en el proyecto de aprendizaje automático y\n",
        "###realizar tareas como entrenar modelos de redes neuronales, inferencia y otras\n",
        "###herramientas que tiene la biblioteca de tensorflow."
      ],
      "metadata": {
        "id": "FfVPUqQAQ-3-"
      }
    },
    {
      "cell_type": "code",
      "execution_count": 29,
      "metadata": {
        "id": "ZgbIgNa42evs",
        "colab": {
          "base_uri": "https://localhost:8080/"
        },
        "outputId": "003d0e6c-d3f2-4859-9752-34b1e45c6cb1"
      },
      "outputs": [
        {
          "output_type": "stream",
          "name": "stdout",
          "text": [
            "Requirement already satisfied: tensorflow in /usr/local/lib/python3.10/dist-packages (2.14.0)\n",
            "Requirement already satisfied: absl-py>=1.0.0 in /usr/local/lib/python3.10/dist-packages (from tensorflow) (1.4.0)\n",
            "Requirement already satisfied: astunparse>=1.6.0 in /usr/local/lib/python3.10/dist-packages (from tensorflow) (1.6.3)\n",
            "Requirement already satisfied: flatbuffers>=23.5.26 in /usr/local/lib/python3.10/dist-packages (from tensorflow) (23.5.26)\n",
            "Requirement already satisfied: gast!=0.5.0,!=0.5.1,!=0.5.2,>=0.2.1 in /usr/local/lib/python3.10/dist-packages (from tensorflow) (0.5.4)\n",
            "Requirement already satisfied: google-pasta>=0.1.1 in /usr/local/lib/python3.10/dist-packages (from tensorflow) (0.2.0)\n",
            "Requirement already satisfied: h5py>=2.9.0 in /usr/local/lib/python3.10/dist-packages (from tensorflow) (3.9.0)\n",
            "Requirement already satisfied: libclang>=13.0.0 in /usr/local/lib/python3.10/dist-packages (from tensorflow) (16.0.6)\n",
            "Requirement already satisfied: ml-dtypes==0.2.0 in /usr/local/lib/python3.10/dist-packages (from tensorflow) (0.2.0)\n",
            "Requirement already satisfied: numpy>=1.23.5 in /usr/local/lib/python3.10/dist-packages (from tensorflow) (1.23.5)\n",
            "Requirement already satisfied: opt-einsum>=2.3.2 in /usr/local/lib/python3.10/dist-packages (from tensorflow) (3.3.0)\n",
            "Requirement already satisfied: packaging in /usr/local/lib/python3.10/dist-packages (from tensorflow) (23.2)\n",
            "Requirement already satisfied: protobuf!=4.21.0,!=4.21.1,!=4.21.2,!=4.21.3,!=4.21.4,!=4.21.5,<5.0.0dev,>=3.20.3 in /usr/local/lib/python3.10/dist-packages (from tensorflow) (3.20.3)\n",
            "Requirement already satisfied: setuptools in /usr/local/lib/python3.10/dist-packages (from tensorflow) (67.7.2)\n",
            "Requirement already satisfied: six>=1.12.0 in /usr/local/lib/python3.10/dist-packages (from tensorflow) (1.16.0)\n",
            "Requirement already satisfied: termcolor>=1.1.0 in /usr/local/lib/python3.10/dist-packages (from tensorflow) (2.3.0)\n",
            "Requirement already satisfied: typing-extensions>=3.6.6 in /usr/local/lib/python3.10/dist-packages (from tensorflow) (4.5.0)\n",
            "Requirement already satisfied: wrapt<1.15,>=1.11.0 in /usr/local/lib/python3.10/dist-packages (from tensorflow) (1.14.1)\n",
            "Requirement already satisfied: tensorflow-io-gcs-filesystem>=0.23.1 in /usr/local/lib/python3.10/dist-packages (from tensorflow) (0.34.0)\n",
            "Requirement already satisfied: grpcio<2.0,>=1.24.3 in /usr/local/lib/python3.10/dist-packages (from tensorflow) (1.59.0)\n",
            "Requirement already satisfied: tensorboard<2.15,>=2.14 in /usr/local/lib/python3.10/dist-packages (from tensorflow) (2.14.1)\n",
            "Requirement already satisfied: tensorflow-estimator<2.15,>=2.14.0 in /usr/local/lib/python3.10/dist-packages (from tensorflow) (2.14.0)\n",
            "Requirement already satisfied: keras<2.15,>=2.14.0 in /usr/local/lib/python3.10/dist-packages (from tensorflow) (2.14.0)\n",
            "Requirement already satisfied: wheel<1.0,>=0.23.0 in /usr/local/lib/python3.10/dist-packages (from astunparse>=1.6.0->tensorflow) (0.41.2)\n",
            "Requirement already satisfied: google-auth<3,>=1.6.3 in /usr/local/lib/python3.10/dist-packages (from tensorboard<2.15,>=2.14->tensorflow) (2.17.3)\n",
            "Requirement already satisfied: google-auth-oauthlib<1.1,>=0.5 in /usr/local/lib/python3.10/dist-packages (from tensorboard<2.15,>=2.14->tensorflow) (1.0.0)\n",
            "Requirement already satisfied: markdown>=2.6.8 in /usr/local/lib/python3.10/dist-packages (from tensorboard<2.15,>=2.14->tensorflow) (3.5)\n",
            "Requirement already satisfied: requests<3,>=2.21.0 in /usr/local/lib/python3.10/dist-packages (from tensorboard<2.15,>=2.14->tensorflow) (2.31.0)\n",
            "Requirement already satisfied: tensorboard-data-server<0.8.0,>=0.7.0 in /usr/local/lib/python3.10/dist-packages (from tensorboard<2.15,>=2.14->tensorflow) (0.7.2)\n",
            "Requirement already satisfied: werkzeug>=1.0.1 in /usr/local/lib/python3.10/dist-packages (from tensorboard<2.15,>=2.14->tensorflow) (3.0.1)\n",
            "Requirement already satisfied: cachetools<6.0,>=2.0.0 in /usr/local/lib/python3.10/dist-packages (from google-auth<3,>=1.6.3->tensorboard<2.15,>=2.14->tensorflow) (5.3.2)\n",
            "Requirement already satisfied: pyasn1-modules>=0.2.1 in /usr/local/lib/python3.10/dist-packages (from google-auth<3,>=1.6.3->tensorboard<2.15,>=2.14->tensorflow) (0.3.0)\n",
            "Requirement already satisfied: rsa<5,>=3.1.4 in /usr/local/lib/python3.10/dist-packages (from google-auth<3,>=1.6.3->tensorboard<2.15,>=2.14->tensorflow) (4.9)\n",
            "Requirement already satisfied: requests-oauthlib>=0.7.0 in /usr/local/lib/python3.10/dist-packages (from google-auth-oauthlib<1.1,>=0.5->tensorboard<2.15,>=2.14->tensorflow) (1.3.1)\n",
            "Requirement already satisfied: charset-normalizer<4,>=2 in /usr/local/lib/python3.10/dist-packages (from requests<3,>=2.21.0->tensorboard<2.15,>=2.14->tensorflow) (3.3.1)\n",
            "Requirement already satisfied: idna<4,>=2.5 in /usr/local/lib/python3.10/dist-packages (from requests<3,>=2.21.0->tensorboard<2.15,>=2.14->tensorflow) (3.4)\n",
            "Requirement already satisfied: urllib3<3,>=1.21.1 in /usr/local/lib/python3.10/dist-packages (from requests<3,>=2.21.0->tensorboard<2.15,>=2.14->tensorflow) (2.0.7)\n",
            "Requirement already satisfied: certifi>=2017.4.17 in /usr/local/lib/python3.10/dist-packages (from requests<3,>=2.21.0->tensorboard<2.15,>=2.14->tensorflow) (2023.7.22)\n",
            "Requirement already satisfied: MarkupSafe>=2.1.1 in /usr/local/lib/python3.10/dist-packages (from werkzeug>=1.0.1->tensorboard<2.15,>=2.14->tensorflow) (2.1.3)\n",
            "Requirement already satisfied: pyasn1<0.6.0,>=0.4.6 in /usr/local/lib/python3.10/dist-packages (from pyasn1-modules>=0.2.1->google-auth<3,>=1.6.3->tensorboard<2.15,>=2.14->tensorflow) (0.5.0)\n",
            "Requirement already satisfied: oauthlib>=3.0.0 in /usr/local/lib/python3.10/dist-packages (from requests-oauthlib>=0.7.0->google-auth-oauthlib<1.1,>=0.5->tensorboard<2.15,>=2.14->tensorflow) (3.2.2)\n"
          ]
        }
      ],
      "source": [
        "pip install tensorflow"
      ]
    },
    {
      "cell_type": "markdown",
      "source": [
        "### Aquí se instala la librería de Keras, según Platzi \"se usa para crear prototipos\n",
        "### rápidamente y de manera fácil, pues está pensada para que sea fácil de usar\",\n",
        "### por lo tanto funciona como puente a repositorios donde se alojan ejemplos de redes a usar"
      ],
      "metadata": {
        "id": "SfJzQX_PAffF"
      }
    },
    {
      "cell_type": "code",
      "source": [
        "pip install keras"
      ],
      "metadata": {
        "colab": {
          "base_uri": "https://localhost:8080/"
        },
        "id": "oOKDrhs049Ti",
        "outputId": "5cdc71fc-ec31-4e62-f228-110b9694fcbb"
      },
      "execution_count": 30,
      "outputs": [
        {
          "output_type": "stream",
          "name": "stdout",
          "text": [
            "Requirement already satisfied: keras in /usr/local/lib/python3.10/dist-packages (2.14.0)\n"
          ]
        }
      ]
    },
    {
      "cell_type": "code",
      "source": [
        "## aqui se instancia a numpy como np, para poder usar calculos numericos y el analisis de datos\n",
        "import numpy as np\n",
        "# se importa las capas(layers) y modelos(models) de Keras\n",
        "from keras import layers, models\n",
        "# La función to_categorical se utiliza para convertir etiquetas categóricas en un formato apropiado para entrenar modelos de aprendizaje profundo.\n",
        "from keras.utils import to_categorical\n",
        "# aqui importa el dataset mnist, que es un conjunto de datos para reconocimiento de dijitos escritos a mano\n",
        "from keras.datasets import mnist\n",
        "#se importa pyplot como plt para la creacion de graficos y vusualizacion de datos\n",
        "import matplotlib.pyplot as plt\n",
        "#se importa pandas como pd para la manipulación y análisis de datos\n",
        "import pandas as pd"
      ],
      "metadata": {
        "id": "GDOSj3865Syn"
      },
      "execution_count": 31,
      "outputs": []
    },
    {
      "cell_type": "code",
      "source": [
        "#con esta línea descargo de los datos de entrenamientos y de test de la librería mnist dichos datos estan divididos por tuplas donde cada dato se corresponde con su etiqueta\n",
        "(train_data, train_labels), (test_data, test_labels) =mnist.load_data()\n",
        "# Aplana las imágenes ; convierte cada imagen bidimensional en un vector unidimensional.\n",
        "train_data_flattened = train_data.reshape(train_data.shape[0], -1)\n",
        "#se crea un DataFrame en el que se pueden realizar diversas operaciones de análisis de datos.\n",
        "train_data_df = pd.DataFrame(train_data_flattened)"
      ],
      "metadata": {
        "id": "UzDwuO3CLHRP"
      },
      "execution_count": 32,
      "outputs": []
    },
    {
      "cell_type": "code",
      "source": [
        "#se muestra el arreglo de matrices que contiene los datos de entrenamiento\n",
        "train_data"
      ],
      "metadata": {
        "id": "0ID-YTAHLNUm",
        "colab": {
          "base_uri": "https://localhost:8080/"
        },
        "outputId": "8180d72f-d9ea-452e-8fb4-4f3eb5acd9ea"
      },
      "execution_count": 33,
      "outputs": [
        {
          "output_type": "execute_result",
          "data": {
            "text/plain": [
              "array([[[0, 0, 0, ..., 0, 0, 0],\n",
              "        [0, 0, 0, ..., 0, 0, 0],\n",
              "        [0, 0, 0, ..., 0, 0, 0],\n",
              "        ...,\n",
              "        [0, 0, 0, ..., 0, 0, 0],\n",
              "        [0, 0, 0, ..., 0, 0, 0],\n",
              "        [0, 0, 0, ..., 0, 0, 0]],\n",
              "\n",
              "       [[0, 0, 0, ..., 0, 0, 0],\n",
              "        [0, 0, 0, ..., 0, 0, 0],\n",
              "        [0, 0, 0, ..., 0, 0, 0],\n",
              "        ...,\n",
              "        [0, 0, 0, ..., 0, 0, 0],\n",
              "        [0, 0, 0, ..., 0, 0, 0],\n",
              "        [0, 0, 0, ..., 0, 0, 0]],\n",
              "\n",
              "       [[0, 0, 0, ..., 0, 0, 0],\n",
              "        [0, 0, 0, ..., 0, 0, 0],\n",
              "        [0, 0, 0, ..., 0, 0, 0],\n",
              "        ...,\n",
              "        [0, 0, 0, ..., 0, 0, 0],\n",
              "        [0, 0, 0, ..., 0, 0, 0],\n",
              "        [0, 0, 0, ..., 0, 0, 0]],\n",
              "\n",
              "       ...,\n",
              "\n",
              "       [[0, 0, 0, ..., 0, 0, 0],\n",
              "        [0, 0, 0, ..., 0, 0, 0],\n",
              "        [0, 0, 0, ..., 0, 0, 0],\n",
              "        ...,\n",
              "        [0, 0, 0, ..., 0, 0, 0],\n",
              "        [0, 0, 0, ..., 0, 0, 0],\n",
              "        [0, 0, 0, ..., 0, 0, 0]],\n",
              "\n",
              "       [[0, 0, 0, ..., 0, 0, 0],\n",
              "        [0, 0, 0, ..., 0, 0, 0],\n",
              "        [0, 0, 0, ..., 0, 0, 0],\n",
              "        ...,\n",
              "        [0, 0, 0, ..., 0, 0, 0],\n",
              "        [0, 0, 0, ..., 0, 0, 0],\n",
              "        [0, 0, 0, ..., 0, 0, 0]],\n",
              "\n",
              "       [[0, 0, 0, ..., 0, 0, 0],\n",
              "        [0, 0, 0, ..., 0, 0, 0],\n",
              "        [0, 0, 0, ..., 0, 0, 0],\n",
              "        ...,\n",
              "        [0, 0, 0, ..., 0, 0, 0],\n",
              "        [0, 0, 0, ..., 0, 0, 0],\n",
              "        [0, 0, 0, ..., 0, 0, 0]]], dtype=uint8)"
            ]
          },
          "metadata": {},
          "execution_count": 33
        }
      ]
    },
    {
      "cell_type": "code",
      "source": [
        "#muestra las primeras 10 filas del dataframe, se puede visualizar que tiene 783 columnas que corresponden la imagen aplanada de 28 x 28 = 784 y como la columna 0 ....\n",
        "train_data_df.head(10)"
      ],
      "metadata": {
        "colab": {
          "base_uri": "https://localhost:8080/",
          "height": 392
        },
        "id": "GXfjzxnzIuQA",
        "outputId": "1cfffb7b-076f-4af9-f8ef-5330276f3fd6"
      },
      "execution_count": 34,
      "outputs": [
        {
          "output_type": "execute_result",
          "data": {
            "text/plain": [
              "   0    1    2    3    4    5    6    7    8    9    ...  774  775  776  777  \\\n",
              "0    0    0    0    0    0    0    0    0    0    0  ...    0    0    0    0   \n",
              "1    0    0    0    0    0    0    0    0    0    0  ...    0    0    0    0   \n",
              "2    0    0    0    0    0    0    0    0    0    0  ...    0    0    0    0   \n",
              "3    0    0    0    0    0    0    0    0    0    0  ...    0    0    0    0   \n",
              "4    0    0    0    0    0    0    0    0    0    0  ...    0    0    0    0   \n",
              "5    0    0    0    0    0    0    0    0    0    0  ...    0    0    0    0   \n",
              "6    0    0    0    0    0    0    0    0    0    0  ...    0    0    0    0   \n",
              "7    0    0    0    0    0    0    0    0    0    0  ...    0    0    0    0   \n",
              "8    0    0    0    0    0    0    0    0    0    0  ...    0    0    0    0   \n",
              "9    0    0    0    0    0    0    0    0    0    0  ...    0    0    0    0   \n",
              "\n",
              "   778  779  780  781  782  783  \n",
              "0    0    0    0    0    0    0  \n",
              "1    0    0    0    0    0    0  \n",
              "2    0    0    0    0    0    0  \n",
              "3    0    0    0    0    0    0  \n",
              "4    0    0    0    0    0    0  \n",
              "5    0    0    0    0    0    0  \n",
              "6    0    0    0    0    0    0  \n",
              "7    0    0    0    0    0    0  \n",
              "8    0    0    0    0    0    0  \n",
              "9    0    0    0    0    0    0  \n",
              "\n",
              "[10 rows x 784 columns]"
            ],
            "text/html": [
              "\n",
              "  <div id=\"df-096ccb42-3380-4542-b58c-768a50cdb99a\" class=\"colab-df-container\">\n",
              "    <div>\n",
              "<style scoped>\n",
              "    .dataframe tbody tr th:only-of-type {\n",
              "        vertical-align: middle;\n",
              "    }\n",
              "\n",
              "    .dataframe tbody tr th {\n",
              "        vertical-align: top;\n",
              "    }\n",
              "\n",
              "    .dataframe thead th {\n",
              "        text-align: right;\n",
              "    }\n",
              "</style>\n",
              "<table border=\"1\" class=\"dataframe\">\n",
              "  <thead>\n",
              "    <tr style=\"text-align: right;\">\n",
              "      <th></th>\n",
              "      <th>0</th>\n",
              "      <th>1</th>\n",
              "      <th>2</th>\n",
              "      <th>3</th>\n",
              "      <th>4</th>\n",
              "      <th>5</th>\n",
              "      <th>6</th>\n",
              "      <th>7</th>\n",
              "      <th>8</th>\n",
              "      <th>9</th>\n",
              "      <th>...</th>\n",
              "      <th>774</th>\n",
              "      <th>775</th>\n",
              "      <th>776</th>\n",
              "      <th>777</th>\n",
              "      <th>778</th>\n",
              "      <th>779</th>\n",
              "      <th>780</th>\n",
              "      <th>781</th>\n",
              "      <th>782</th>\n",
              "      <th>783</th>\n",
              "    </tr>\n",
              "  </thead>\n",
              "  <tbody>\n",
              "    <tr>\n",
              "      <th>0</th>\n",
              "      <td>0</td>\n",
              "      <td>0</td>\n",
              "      <td>0</td>\n",
              "      <td>0</td>\n",
              "      <td>0</td>\n",
              "      <td>0</td>\n",
              "      <td>0</td>\n",
              "      <td>0</td>\n",
              "      <td>0</td>\n",
              "      <td>0</td>\n",
              "      <td>...</td>\n",
              "      <td>0</td>\n",
              "      <td>0</td>\n",
              "      <td>0</td>\n",
              "      <td>0</td>\n",
              "      <td>0</td>\n",
              "      <td>0</td>\n",
              "      <td>0</td>\n",
              "      <td>0</td>\n",
              "      <td>0</td>\n",
              "      <td>0</td>\n",
              "    </tr>\n",
              "    <tr>\n",
              "      <th>1</th>\n",
              "      <td>0</td>\n",
              "      <td>0</td>\n",
              "      <td>0</td>\n",
              "      <td>0</td>\n",
              "      <td>0</td>\n",
              "      <td>0</td>\n",
              "      <td>0</td>\n",
              "      <td>0</td>\n",
              "      <td>0</td>\n",
              "      <td>0</td>\n",
              "      <td>...</td>\n",
              "      <td>0</td>\n",
              "      <td>0</td>\n",
              "      <td>0</td>\n",
              "      <td>0</td>\n",
              "      <td>0</td>\n",
              "      <td>0</td>\n",
              "      <td>0</td>\n",
              "      <td>0</td>\n",
              "      <td>0</td>\n",
              "      <td>0</td>\n",
              "    </tr>\n",
              "    <tr>\n",
              "      <th>2</th>\n",
              "      <td>0</td>\n",
              "      <td>0</td>\n",
              "      <td>0</td>\n",
              "      <td>0</td>\n",
              "      <td>0</td>\n",
              "      <td>0</td>\n",
              "      <td>0</td>\n",
              "      <td>0</td>\n",
              "      <td>0</td>\n",
              "      <td>0</td>\n",
              "      <td>...</td>\n",
              "      <td>0</td>\n",
              "      <td>0</td>\n",
              "      <td>0</td>\n",
              "      <td>0</td>\n",
              "      <td>0</td>\n",
              "      <td>0</td>\n",
              "      <td>0</td>\n",
              "      <td>0</td>\n",
              "      <td>0</td>\n",
              "      <td>0</td>\n",
              "    </tr>\n",
              "    <tr>\n",
              "      <th>3</th>\n",
              "      <td>0</td>\n",
              "      <td>0</td>\n",
              "      <td>0</td>\n",
              "      <td>0</td>\n",
              "      <td>0</td>\n",
              "      <td>0</td>\n",
              "      <td>0</td>\n",
              "      <td>0</td>\n",
              "      <td>0</td>\n",
              "      <td>0</td>\n",
              "      <td>...</td>\n",
              "      <td>0</td>\n",
              "      <td>0</td>\n",
              "      <td>0</td>\n",
              "      <td>0</td>\n",
              "      <td>0</td>\n",
              "      <td>0</td>\n",
              "      <td>0</td>\n",
              "      <td>0</td>\n",
              "      <td>0</td>\n",
              "      <td>0</td>\n",
              "    </tr>\n",
              "    <tr>\n",
              "      <th>4</th>\n",
              "      <td>0</td>\n",
              "      <td>0</td>\n",
              "      <td>0</td>\n",
              "      <td>0</td>\n",
              "      <td>0</td>\n",
              "      <td>0</td>\n",
              "      <td>0</td>\n",
              "      <td>0</td>\n",
              "      <td>0</td>\n",
              "      <td>0</td>\n",
              "      <td>...</td>\n",
              "      <td>0</td>\n",
              "      <td>0</td>\n",
              "      <td>0</td>\n",
              "      <td>0</td>\n",
              "      <td>0</td>\n",
              "      <td>0</td>\n",
              "      <td>0</td>\n",
              "      <td>0</td>\n",
              "      <td>0</td>\n",
              "      <td>0</td>\n",
              "    </tr>\n",
              "    <tr>\n",
              "      <th>5</th>\n",
              "      <td>0</td>\n",
              "      <td>0</td>\n",
              "      <td>0</td>\n",
              "      <td>0</td>\n",
              "      <td>0</td>\n",
              "      <td>0</td>\n",
              "      <td>0</td>\n",
              "      <td>0</td>\n",
              "      <td>0</td>\n",
              "      <td>0</td>\n",
              "      <td>...</td>\n",
              "      <td>0</td>\n",
              "      <td>0</td>\n",
              "      <td>0</td>\n",
              "      <td>0</td>\n",
              "      <td>0</td>\n",
              "      <td>0</td>\n",
              "      <td>0</td>\n",
              "      <td>0</td>\n",
              "      <td>0</td>\n",
              "      <td>0</td>\n",
              "    </tr>\n",
              "    <tr>\n",
              "      <th>6</th>\n",
              "      <td>0</td>\n",
              "      <td>0</td>\n",
              "      <td>0</td>\n",
              "      <td>0</td>\n",
              "      <td>0</td>\n",
              "      <td>0</td>\n",
              "      <td>0</td>\n",
              "      <td>0</td>\n",
              "      <td>0</td>\n",
              "      <td>0</td>\n",
              "      <td>...</td>\n",
              "      <td>0</td>\n",
              "      <td>0</td>\n",
              "      <td>0</td>\n",
              "      <td>0</td>\n",
              "      <td>0</td>\n",
              "      <td>0</td>\n",
              "      <td>0</td>\n",
              "      <td>0</td>\n",
              "      <td>0</td>\n",
              "      <td>0</td>\n",
              "    </tr>\n",
              "    <tr>\n",
              "      <th>7</th>\n",
              "      <td>0</td>\n",
              "      <td>0</td>\n",
              "      <td>0</td>\n",
              "      <td>0</td>\n",
              "      <td>0</td>\n",
              "      <td>0</td>\n",
              "      <td>0</td>\n",
              "      <td>0</td>\n",
              "      <td>0</td>\n",
              "      <td>0</td>\n",
              "      <td>...</td>\n",
              "      <td>0</td>\n",
              "      <td>0</td>\n",
              "      <td>0</td>\n",
              "      <td>0</td>\n",
              "      <td>0</td>\n",
              "      <td>0</td>\n",
              "      <td>0</td>\n",
              "      <td>0</td>\n",
              "      <td>0</td>\n",
              "      <td>0</td>\n",
              "    </tr>\n",
              "    <tr>\n",
              "      <th>8</th>\n",
              "      <td>0</td>\n",
              "      <td>0</td>\n",
              "      <td>0</td>\n",
              "      <td>0</td>\n",
              "      <td>0</td>\n",
              "      <td>0</td>\n",
              "      <td>0</td>\n",
              "      <td>0</td>\n",
              "      <td>0</td>\n",
              "      <td>0</td>\n",
              "      <td>...</td>\n",
              "      <td>0</td>\n",
              "      <td>0</td>\n",
              "      <td>0</td>\n",
              "      <td>0</td>\n",
              "      <td>0</td>\n",
              "      <td>0</td>\n",
              "      <td>0</td>\n",
              "      <td>0</td>\n",
              "      <td>0</td>\n",
              "      <td>0</td>\n",
              "    </tr>\n",
              "    <tr>\n",
              "      <th>9</th>\n",
              "      <td>0</td>\n",
              "      <td>0</td>\n",
              "      <td>0</td>\n",
              "      <td>0</td>\n",
              "      <td>0</td>\n",
              "      <td>0</td>\n",
              "      <td>0</td>\n",
              "      <td>0</td>\n",
              "      <td>0</td>\n",
              "      <td>0</td>\n",
              "      <td>...</td>\n",
              "      <td>0</td>\n",
              "      <td>0</td>\n",
              "      <td>0</td>\n",
              "      <td>0</td>\n",
              "      <td>0</td>\n",
              "      <td>0</td>\n",
              "      <td>0</td>\n",
              "      <td>0</td>\n",
              "      <td>0</td>\n",
              "      <td>0</td>\n",
              "    </tr>\n",
              "  </tbody>\n",
              "</table>\n",
              "<p>10 rows × 784 columns</p>\n",
              "</div>\n",
              "    <div class=\"colab-df-buttons\">\n",
              "\n",
              "  <div class=\"colab-df-container\">\n",
              "    <button class=\"colab-df-convert\" onclick=\"convertToInteractive('df-096ccb42-3380-4542-b58c-768a50cdb99a')\"\n",
              "            title=\"Convert this dataframe to an interactive table.\"\n",
              "            style=\"display:none;\">\n",
              "\n",
              "  <svg xmlns=\"http://www.w3.org/2000/svg\" height=\"24px\" viewBox=\"0 -960 960 960\">\n",
              "    <path d=\"M120-120v-720h720v720H120Zm60-500h600v-160H180v160Zm220 220h160v-160H400v160Zm0 220h160v-160H400v160ZM180-400h160v-160H180v160Zm440 0h160v-160H620v160ZM180-180h160v-160H180v160Zm440 0h160v-160H620v160Z\"/>\n",
              "  </svg>\n",
              "    </button>\n",
              "\n",
              "  <style>\n",
              "    .colab-df-container {\n",
              "      display:flex;\n",
              "      gap: 12px;\n",
              "    }\n",
              "\n",
              "    .colab-df-convert {\n",
              "      background-color: #E8F0FE;\n",
              "      border: none;\n",
              "      border-radius: 50%;\n",
              "      cursor: pointer;\n",
              "      display: none;\n",
              "      fill: #1967D2;\n",
              "      height: 32px;\n",
              "      padding: 0 0 0 0;\n",
              "      width: 32px;\n",
              "    }\n",
              "\n",
              "    .colab-df-convert:hover {\n",
              "      background-color: #E2EBFA;\n",
              "      box-shadow: 0px 1px 2px rgba(60, 64, 67, 0.3), 0px 1px 3px 1px rgba(60, 64, 67, 0.15);\n",
              "      fill: #174EA6;\n",
              "    }\n",
              "\n",
              "    .colab-df-buttons div {\n",
              "      margin-bottom: 4px;\n",
              "    }\n",
              "\n",
              "    [theme=dark] .colab-df-convert {\n",
              "      background-color: #3B4455;\n",
              "      fill: #D2E3FC;\n",
              "    }\n",
              "\n",
              "    [theme=dark] .colab-df-convert:hover {\n",
              "      background-color: #434B5C;\n",
              "      box-shadow: 0px 1px 3px 1px rgba(0, 0, 0, 0.15);\n",
              "      filter: drop-shadow(0px 1px 2px rgba(0, 0, 0, 0.3));\n",
              "      fill: #FFFFFF;\n",
              "    }\n",
              "  </style>\n",
              "\n",
              "    <script>\n",
              "      const buttonEl =\n",
              "        document.querySelector('#df-096ccb42-3380-4542-b58c-768a50cdb99a button.colab-df-convert');\n",
              "      buttonEl.style.display =\n",
              "        google.colab.kernel.accessAllowed ? 'block' : 'none';\n",
              "\n",
              "      async function convertToInteractive(key) {\n",
              "        const element = document.querySelector('#df-096ccb42-3380-4542-b58c-768a50cdb99a');\n",
              "        const dataTable =\n",
              "          await google.colab.kernel.invokeFunction('convertToInteractive',\n",
              "                                                    [key], {});\n",
              "        if (!dataTable) return;\n",
              "\n",
              "        const docLinkHtml = 'Like what you see? Visit the ' +\n",
              "          '<a target=\"_blank\" href=https://colab.research.google.com/notebooks/data_table.ipynb>data table notebook</a>'\n",
              "          + ' to learn more about interactive tables.';\n",
              "        element.innerHTML = '';\n",
              "        dataTable['output_type'] = 'display_data';\n",
              "        await google.colab.output.renderOutput(dataTable, element);\n",
              "        const docLink = document.createElement('div');\n",
              "        docLink.innerHTML = docLinkHtml;\n",
              "        element.appendChild(docLink);\n",
              "      }\n",
              "    </script>\n",
              "  </div>\n",
              "\n",
              "\n",
              "<div id=\"df-f8534335-4af0-4b8e-adc7-e14ef3de41d0\">\n",
              "  <button class=\"colab-df-quickchart\" onclick=\"quickchart('df-f8534335-4af0-4b8e-adc7-e14ef3de41d0')\"\n",
              "            title=\"Suggest charts.\"\n",
              "            style=\"display:none;\">\n",
              "\n",
              "<svg xmlns=\"http://www.w3.org/2000/svg\" height=\"24px\"viewBox=\"0 0 24 24\"\n",
              "     width=\"24px\">\n",
              "    <g>\n",
              "        <path d=\"M19 3H5c-1.1 0-2 .9-2 2v14c0 1.1.9 2 2 2h14c1.1 0 2-.9 2-2V5c0-1.1-.9-2-2-2zM9 17H7v-7h2v7zm4 0h-2V7h2v10zm4 0h-2v-4h2v4z\"/>\n",
              "    </g>\n",
              "</svg>\n",
              "  </button>\n",
              "\n",
              "<style>\n",
              "  .colab-df-quickchart {\n",
              "      --bg-color: #E8F0FE;\n",
              "      --fill-color: #1967D2;\n",
              "      --hover-bg-color: #E2EBFA;\n",
              "      --hover-fill-color: #174EA6;\n",
              "      --disabled-fill-color: #AAA;\n",
              "      --disabled-bg-color: #DDD;\n",
              "  }\n",
              "\n",
              "  [theme=dark] .colab-df-quickchart {\n",
              "      --bg-color: #3B4455;\n",
              "      --fill-color: #D2E3FC;\n",
              "      --hover-bg-color: #434B5C;\n",
              "      --hover-fill-color: #FFFFFF;\n",
              "      --disabled-bg-color: #3B4455;\n",
              "      --disabled-fill-color: #666;\n",
              "  }\n",
              "\n",
              "  .colab-df-quickchart {\n",
              "    background-color: var(--bg-color);\n",
              "    border: none;\n",
              "    border-radius: 50%;\n",
              "    cursor: pointer;\n",
              "    display: none;\n",
              "    fill: var(--fill-color);\n",
              "    height: 32px;\n",
              "    padding: 0;\n",
              "    width: 32px;\n",
              "  }\n",
              "\n",
              "  .colab-df-quickchart:hover {\n",
              "    background-color: var(--hover-bg-color);\n",
              "    box-shadow: 0 1px 2px rgba(60, 64, 67, 0.3), 0 1px 3px 1px rgba(60, 64, 67, 0.15);\n",
              "    fill: var(--button-hover-fill-color);\n",
              "  }\n",
              "\n",
              "  .colab-df-quickchart-complete:disabled,\n",
              "  .colab-df-quickchart-complete:disabled:hover {\n",
              "    background-color: var(--disabled-bg-color);\n",
              "    fill: var(--disabled-fill-color);\n",
              "    box-shadow: none;\n",
              "  }\n",
              "\n",
              "  .colab-df-spinner {\n",
              "    border: 2px solid var(--fill-color);\n",
              "    border-color: transparent;\n",
              "    border-bottom-color: var(--fill-color);\n",
              "    animation:\n",
              "      spin 1s steps(1) infinite;\n",
              "  }\n",
              "\n",
              "  @keyframes spin {\n",
              "    0% {\n",
              "      border-color: transparent;\n",
              "      border-bottom-color: var(--fill-color);\n",
              "      border-left-color: var(--fill-color);\n",
              "    }\n",
              "    20% {\n",
              "      border-color: transparent;\n",
              "      border-left-color: var(--fill-color);\n",
              "      border-top-color: var(--fill-color);\n",
              "    }\n",
              "    30% {\n",
              "      border-color: transparent;\n",
              "      border-left-color: var(--fill-color);\n",
              "      border-top-color: var(--fill-color);\n",
              "      border-right-color: var(--fill-color);\n",
              "    }\n",
              "    40% {\n",
              "      border-color: transparent;\n",
              "      border-right-color: var(--fill-color);\n",
              "      border-top-color: var(--fill-color);\n",
              "    }\n",
              "    60% {\n",
              "      border-color: transparent;\n",
              "      border-right-color: var(--fill-color);\n",
              "    }\n",
              "    80% {\n",
              "      border-color: transparent;\n",
              "      border-right-color: var(--fill-color);\n",
              "      border-bottom-color: var(--fill-color);\n",
              "    }\n",
              "    90% {\n",
              "      border-color: transparent;\n",
              "      border-bottom-color: var(--fill-color);\n",
              "    }\n",
              "  }\n",
              "</style>\n",
              "\n",
              "  <script>\n",
              "    async function quickchart(key) {\n",
              "      const quickchartButtonEl =\n",
              "        document.querySelector('#' + key + ' button');\n",
              "      quickchartButtonEl.disabled = true;  // To prevent multiple clicks.\n",
              "      quickchartButtonEl.classList.add('colab-df-spinner');\n",
              "      try {\n",
              "        const charts = await google.colab.kernel.invokeFunction(\n",
              "            'suggestCharts', [key], {});\n",
              "      } catch (error) {\n",
              "        console.error('Error during call to suggestCharts:', error);\n",
              "      }\n",
              "      quickchartButtonEl.classList.remove('colab-df-spinner');\n",
              "      quickchartButtonEl.classList.add('colab-df-quickchart-complete');\n",
              "    }\n",
              "    (() => {\n",
              "      let quickchartButtonEl =\n",
              "        document.querySelector('#df-f8534335-4af0-4b8e-adc7-e14ef3de41d0 button');\n",
              "      quickchartButtonEl.style.display =\n",
              "        google.colab.kernel.accessAllowed ? 'block' : 'none';\n",
              "    })();\n",
              "  </script>\n",
              "</div>\n",
              "    </div>\n",
              "  </div>\n"
            ]
          },
          "metadata": {},
          "execution_count": 34
        }
      ]
    },
    {
      "cell_type": "code",
      "source": [
        "#muestra la forma y dimenciones del dataframe en este caso tiene 60.000 filas x 784 columnas, es decir 60.000 datos de entrenamiento y los 784 pixeles de cada imagen\n",
        "train_data_df.shape"
      ],
      "metadata": {
        "id": "oKLfyhekLgjN",
        "colab": {
          "base_uri": "https://localhost:8080/"
        },
        "outputId": "5c9d0934-b3a9-4298-8220-a3791b0c8924"
      },
      "execution_count": 35,
      "outputs": [
        {
          "output_type": "execute_result",
          "data": {
            "text/plain": [
              "(60000, 784)"
            ]
          },
          "metadata": {},
          "execution_count": 35
        }
      ]
    },
    {
      "cell_type": "code",
      "source": [
        "#aqui se puede apreciar que los datos de entrenamiento originales son 60.000 en matrices de 28 x 28 pixeles\n",
        "train_data.shape"
      ],
      "metadata": {
        "id": "Cp_iGtjvL2WD",
        "colab": {
          "base_uri": "https://localhost:8080/"
        },
        "outputId": "a662e19e-c379-488f-efd4-9ed9bf8536b5"
      },
      "execution_count": 36,
      "outputs": [
        {
          "output_type": "execute_result",
          "data": {
            "text/plain": [
              "(60000, 28, 28)"
            ]
          },
          "metadata": {},
          "execution_count": 36
        }
      ]
    },
    {
      "cell_type": "code",
      "source": [
        "#muestra la columna con etiqueta \"0\" de las 60.000 imagenes de entrenamiento, es como hacer referencia a solo el pixel de la esquina superior izquierda de cada imagen,\n",
        "# y por como esta construido el dataset es ovio que todos o la mayoria darian cero\n",
        "train_data_df[0]"
      ],
      "metadata": {
        "id": "-eNLGX_RL6u-",
        "colab": {
          "base_uri": "https://localhost:8080/"
        },
        "outputId": "a1f6db6b-6c4a-4c97-c72e-a1c18297a069"
      },
      "execution_count": 37,
      "outputs": [
        {
          "output_type": "execute_result",
          "data": {
            "text/plain": [
              "0        0\n",
              "1        0\n",
              "2        0\n",
              "3        0\n",
              "4        0\n",
              "        ..\n",
              "59995    0\n",
              "59996    0\n",
              "59997    0\n",
              "59998    0\n",
              "59999    0\n",
              "Name: 0, Length: 60000, dtype: uint8"
            ]
          },
          "metadata": {},
          "execution_count": 37
        }
      ]
    },
    {
      "cell_type": "code",
      "source": [
        "#Se accede a la primera imagen o la imagen en la posición 0 del conjunto de entrenamiento, dicha expresión muestra los valores de la matriz de 28 x28 que contiene cada una,\n",
        "#se puede observar que los valores van de 0 a 255 donde 0 debe representar el blanco y 255 el negro, por lo tanto la imagen contiene información en escala de grises.\n",
        "train_data[0]"
      ],
      "metadata": {
        "id": "WNR2MEbzLksk",
        "colab": {
          "base_uri": "https://localhost:8080/"
        },
        "outputId": "e52e0843-323d-4caf-ae67-ee2f58e1f7bb"
      },
      "execution_count": 38,
      "outputs": [
        {
          "output_type": "execute_result",
          "data": {
            "text/plain": [
              "array([[  0,   0,   0,   0,   0,   0,   0,   0,   0,   0,   0,   0,   0,\n",
              "          0,   0,   0,   0,   0,   0,   0,   0,   0,   0,   0,   0,   0,\n",
              "          0,   0],\n",
              "       [  0,   0,   0,   0,   0,   0,   0,   0,   0,   0,   0,   0,   0,\n",
              "          0,   0,   0,   0,   0,   0,   0,   0,   0,   0,   0,   0,   0,\n",
              "          0,   0],\n",
              "       [  0,   0,   0,   0,   0,   0,   0,   0,   0,   0,   0,   0,   0,\n",
              "          0,   0,   0,   0,   0,   0,   0,   0,   0,   0,   0,   0,   0,\n",
              "          0,   0],\n",
              "       [  0,   0,   0,   0,   0,   0,   0,   0,   0,   0,   0,   0,   0,\n",
              "          0,   0,   0,   0,   0,   0,   0,   0,   0,   0,   0,   0,   0,\n",
              "          0,   0],\n",
              "       [  0,   0,   0,   0,   0,   0,   0,   0,   0,   0,   0,   0,   0,\n",
              "          0,   0,   0,   0,   0,   0,   0,   0,   0,   0,   0,   0,   0,\n",
              "          0,   0],\n",
              "       [  0,   0,   0,   0,   0,   0,   0,   0,   0,   0,   0,   0,   3,\n",
              "         18,  18,  18, 126, 136, 175,  26, 166, 255, 247, 127,   0,   0,\n",
              "          0,   0],\n",
              "       [  0,   0,   0,   0,   0,   0,   0,   0,  30,  36,  94, 154, 170,\n",
              "        253, 253, 253, 253, 253, 225, 172, 253, 242, 195,  64,   0,   0,\n",
              "          0,   0],\n",
              "       [  0,   0,   0,   0,   0,   0,   0,  49, 238, 253, 253, 253, 253,\n",
              "        253, 253, 253, 253, 251,  93,  82,  82,  56,  39,   0,   0,   0,\n",
              "          0,   0],\n",
              "       [  0,   0,   0,   0,   0,   0,   0,  18, 219, 253, 253, 253, 253,\n",
              "        253, 198, 182, 247, 241,   0,   0,   0,   0,   0,   0,   0,   0,\n",
              "          0,   0],\n",
              "       [  0,   0,   0,   0,   0,   0,   0,   0,  80, 156, 107, 253, 253,\n",
              "        205,  11,   0,  43, 154,   0,   0,   0,   0,   0,   0,   0,   0,\n",
              "          0,   0],\n",
              "       [  0,   0,   0,   0,   0,   0,   0,   0,   0,  14,   1, 154, 253,\n",
              "         90,   0,   0,   0,   0,   0,   0,   0,   0,   0,   0,   0,   0,\n",
              "          0,   0],\n",
              "       [  0,   0,   0,   0,   0,   0,   0,   0,   0,   0,   0, 139, 253,\n",
              "        190,   2,   0,   0,   0,   0,   0,   0,   0,   0,   0,   0,   0,\n",
              "          0,   0],\n",
              "       [  0,   0,   0,   0,   0,   0,   0,   0,   0,   0,   0,  11, 190,\n",
              "        253,  70,   0,   0,   0,   0,   0,   0,   0,   0,   0,   0,   0,\n",
              "          0,   0],\n",
              "       [  0,   0,   0,   0,   0,   0,   0,   0,   0,   0,   0,   0,  35,\n",
              "        241, 225, 160, 108,   1,   0,   0,   0,   0,   0,   0,   0,   0,\n",
              "          0,   0],\n",
              "       [  0,   0,   0,   0,   0,   0,   0,   0,   0,   0,   0,   0,   0,\n",
              "         81, 240, 253, 253, 119,  25,   0,   0,   0,   0,   0,   0,   0,\n",
              "          0,   0],\n",
              "       [  0,   0,   0,   0,   0,   0,   0,   0,   0,   0,   0,   0,   0,\n",
              "          0,  45, 186, 253, 253, 150,  27,   0,   0,   0,   0,   0,   0,\n",
              "          0,   0],\n",
              "       [  0,   0,   0,   0,   0,   0,   0,   0,   0,   0,   0,   0,   0,\n",
              "          0,   0,  16,  93, 252, 253, 187,   0,   0,   0,   0,   0,   0,\n",
              "          0,   0],\n",
              "       [  0,   0,   0,   0,   0,   0,   0,   0,   0,   0,   0,   0,   0,\n",
              "          0,   0,   0,   0, 249, 253, 249,  64,   0,   0,   0,   0,   0,\n",
              "          0,   0],\n",
              "       [  0,   0,   0,   0,   0,   0,   0,   0,   0,   0,   0,   0,   0,\n",
              "          0,  46, 130, 183, 253, 253, 207,   2,   0,   0,   0,   0,   0,\n",
              "          0,   0],\n",
              "       [  0,   0,   0,   0,   0,   0,   0,   0,   0,   0,   0,   0,  39,\n",
              "        148, 229, 253, 253, 253, 250, 182,   0,   0,   0,   0,   0,   0,\n",
              "          0,   0],\n",
              "       [  0,   0,   0,   0,   0,   0,   0,   0,   0,   0,  24, 114, 221,\n",
              "        253, 253, 253, 253, 201,  78,   0,   0,   0,   0,   0,   0,   0,\n",
              "          0,   0],\n",
              "       [  0,   0,   0,   0,   0,   0,   0,   0,  23,  66, 213, 253, 253,\n",
              "        253, 253, 198,  81,   2,   0,   0,   0,   0,   0,   0,   0,   0,\n",
              "          0,   0],\n",
              "       [  0,   0,   0,   0,   0,   0,  18, 171, 219, 253, 253, 253, 253,\n",
              "        195,  80,   9,   0,   0,   0,   0,   0,   0,   0,   0,   0,   0,\n",
              "          0,   0],\n",
              "       [  0,   0,   0,   0,  55, 172, 226, 253, 253, 253, 253, 244, 133,\n",
              "         11,   0,   0,   0,   0,   0,   0,   0,   0,   0,   0,   0,   0,\n",
              "          0,   0],\n",
              "       [  0,   0,   0,   0, 136, 253, 253, 253, 212, 135, 132,  16,   0,\n",
              "          0,   0,   0,   0,   0,   0,   0,   0,   0,   0,   0,   0,   0,\n",
              "          0,   0],\n",
              "       [  0,   0,   0,   0,   0,   0,   0,   0,   0,   0,   0,   0,   0,\n",
              "          0,   0,   0,   0,   0,   0,   0,   0,   0,   0,   0,   0,   0,\n",
              "          0,   0],\n",
              "       [  0,   0,   0,   0,   0,   0,   0,   0,   0,   0,   0,   0,   0,\n",
              "          0,   0,   0,   0,   0,   0,   0,   0,   0,   0,   0,   0,   0,\n",
              "          0,   0],\n",
              "       [  0,   0,   0,   0,   0,   0,   0,   0,   0,   0,   0,   0,   0,\n",
              "          0,   0,   0,   0,   0,   0,   0,   0,   0,   0,   0,   0,   0,\n",
              "          0,   0]], dtype=uint8)"
            ]
          },
          "metadata": {},
          "execution_count": 38
        }
      ]
    },
    {
      "cell_type": "code",
      "source": [
        "#Con este comando, representamos de manera visual la imagen escrita a mano en la posición 689 del conjunto de datos MNIST. Esta representación visual resulta muy útil para inspeccionar los datos del conjunto,\n",
        "# especialmente cuando se trata de información visual, como imágenes de dígitos escritos a mano.\"\n",
        "plt.imshow(train_data[689])"
      ],
      "metadata": {
        "id": "dMnGC9IbLq5k",
        "colab": {
          "base_uri": "https://localhost:8080/",
          "height": 447
        },
        "outputId": "72c91729-29d8-41c3-bcc6-24cbe66e7bf0"
      },
      "execution_count": 39,
      "outputs": [
        {
          "output_type": "execute_result",
          "data": {
            "text/plain": [
              "<matplotlib.image.AxesImage at 0x7cc297f2d690>"
            ]
          },
          "metadata": {},
          "execution_count": 39
        },
        {
          "output_type": "display_data",
          "data": {
            "text/plain": [
              "<Figure size 640x480 with 1 Axes>"
            ],
            "image/png": "[encoded data removed]"
          },
          "metadata": {}
        }
      ]
    },
    {
      "cell_type": "code",
      "source": [
        "#aqui se muestra la etiquieta que corresponde a el dato de entrenamiento 689 y claramete se corresponde con la imagen anterior\n",
        "train_labels[689]"
      ],
      "metadata": {
        "id": "fbNyjcXtMTMZ",
        "colab": {
          "base_uri": "https://localhost:8080/"
        },
        "outputId": "9f615353-c3c9-43bf-8700-b74505f72bf9"
      },
      "execution_count": 40,
      "outputs": [
        {
          "output_type": "execute_result",
          "data": {
            "text/plain": [
              "0"
            ]
          },
          "metadata": {},
          "execution_count": 40
        }
      ]
    },
    {
      "cell_type": "code",
      "source": [
        "#se define un modelo del tipo secuencial de Keras, que son capas apiladas unas sobre las otras\n",
        "model = models.Sequential()"
      ],
      "metadata": {
        "id": "v1NmNS5fMZIj"
      },
      "execution_count": 41,
      "outputs": []
    },
    {
      "cell_type": "markdown",
      "source": [
        "### se agrega una capa de entrada al modelo secuencial, al ser la primera capa se supone que es la capa de entrada\n",
        "### dicha capa es densamente conectada, y cuenta con 512 neuronas\n",
        "# tiene una funcion de activacion de tipo RELU (Rectified Linear Unit)![image.png](data:image/png;base64,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)\n",
        "input_shape=(28*28,))) se definen 784 neuronas en la capa de entrada, que es consistente con el número de características en una imagen MNIST. Luego, la capa Dense con 512 neuronas se encuentra en la arquitectura de la red como una capa oculta que procesa las características extraídas de la capa de entrada.\n"
      ],
      "metadata": {
        "id": "3z4Xq1T_iDmT"
      }
    },
    {
      "cell_type": "code",
      "source": [
        "\n",
        "model.add(layers.Dense(512,activation='relu', input_shape=(28*28,)))\n"
      ],
      "metadata": {
        "id": "kLGoDBjciAob"
      },
      "execution_count": 42,
      "outputs": []
    },
    {
      "cell_type": "code",
      "source": [
        "#Se crea la capa de salida, es de tipo denso, por tanto esta conectada con cada una de las neuronas de la capa anterior,\n",
        "#define 10 neuronas en esta capa por lo que se supone debe ser la capa de salida con la clasificacion entre 0 y 9\n",
        "#la función de activación \"softmax\" permite que la red neuronal genere probabilidades para cada clase, lo que facilita la toma de decisiones en la clasificación de datos.\n",
        "model.add(layers.Dense(10,activation='softmax'))"
      ],
      "metadata": {
        "id": "lNH2LeazlWl9"
      },
      "execution_count": 43,
      "outputs": []
    },
    {
      "cell_type": "code",
      "source": [
        "#se compila el modelo definiendo como obtimizador rmsprop  que es un algoritmo de optimización que se utilizará para ajustar los pesos del modelo durante el entrenamiento.\n",
        "#segun internet \" RMSprop es un algoritmo de optimización que adapta la tasa de aprendizaje de manera adaptativa durante el entrenamiento para acelerar la convergencia.\"\n",
        "#El argumento loss especifica la función de pérdida, La pérdida representa cuán lejos están las predicciones del modelo de los valores reales.\n",
        "#El argumento metrics especifica las métricas que se utilizarán para evaluar el rendimiento del modelo durante el entrenamiento.\n",
        "model.compile(optimizer='rmsprop',\n",
        "              loss='categorical_crossentropy',\n",
        "              metrics=['accuracy', 'Precision'])"
      ],
      "metadata": {
        "id": "il99HYMOMbI5"
      },
      "execution_count": 44,
      "outputs": []
    },
    {
      "cell_type": "code",
      "source": [
        "#en Keras se utiliza para mostrar un resumen detallado de la arquitectura del modelo\n",
        "#Se muestra una tabla que enumera cada capa del modelo. En este caso, hay dos capas densamente conectadas.\n",
        "model.summary()"
      ],
      "metadata": {
        "colab": {
          "base_uri": "https://localhost:8080/"
        },
        "id": "U-SJPCjqMf2E",
        "outputId": "06320133-70e6-4b46-a916-5007b905bc84"
      },
      "execution_count": 45,
      "outputs": [
        {
          "output_type": "stream",
          "name": "stdout",
          "text": [
            "Model: \"sequential_2\"\n",
            "_________________________________________________________________\n",
            " Layer (type)                Output Shape              Param #   \n",
            "=================================================================\n",
            " dense_3 (Dense)             (None, 512)               401920    \n",
            "                                                                 \n",
            " dense_4 (Dense)             (None, 10)                5130      \n",
            "                                                                 \n",
            "=================================================================\n",
            "Total params: 407050 (1.55 MB)\n",
            "Trainable params: 407050 (1.55 MB)\n",
            "Non-trainable params: 0 (0.00 Byte)\n",
            "_________________________________________________________________\n"
          ]
        }
      ]
    },
    {
      "cell_type": "code",
      "source": [
        "# normaliza los datos de entrenamiento en valores de entre 0 y 1\n",
        "x_train = train_data_df\n",
        "#x_train = train_data.reshape((60000,28*28))\n",
        "x_train = x_train.astype('float32')/255\n",
        "# normaliza los datos de testeo en valores de entre 0 y 1\n",
        "x_test = test_data.reshape((10000,28*28))\n",
        "x_test = x_test.astype('float32')/255"
      ],
      "metadata": {
        "id": "N0Ti2l0yMMT2"
      },
      "execution_count": 46,
      "outputs": []
    },
    {
      "cell_type": "code",
      "source": [
        "#muestra los datos de entrenamiento en la fila 0 ya normalizados\n",
        "x_train[0]"
      ],
      "metadata": {
        "id": "z4cmdNlxMrkc",
        "colab": {
          "base_uri": "https://localhost:8080/"
        },
        "outputId": "57402a5d-b9b0-4ce6-a71b-a01f0f6082ac"
      },
      "execution_count": 47,
      "outputs": [
        {
          "output_type": "execute_result",
          "data": {
            "text/plain": [
              "0        0.0\n",
              "1        0.0\n",
              "2        0.0\n",
              "3        0.0\n",
              "4        0.0\n",
              "        ... \n",
              "59995    0.0\n",
              "59996    0.0\n",
              "59997    0.0\n",
              "59998    0.0\n",
              "59999    0.0\n",
              "Name: 0, Length: 60000, dtype: float32"
            ]
          },
          "metadata": {},
          "execution_count": 47
        }
      ]
    },
    {
      "cell_type": "code",
      "source": [
        "#convierte a categórica las etiquetas de entrenamiento y testeo con el fin de que puedan ser usadas por la red neuronal\n",
        "#Por ejemplo, si tienes 10 clases (como en el caso de MNIST, donde hay dígitos del 0 al 9), la etiqueta \"5\" se convertirá en un vector [0, 0, 0, 0, 0, 1, 0, 0, 0, 0].\n",
        "y_train = to_categorical(train_labels)\n",
        "y_test  = to_categorical(test_labels )"
      ],
      "metadata": {
        "id": "ph1tcO85MtaD"
      },
      "execution_count": 48,
      "outputs": []
    },
    {
      "cell_type": "code",
      "source": [
        "#muestra la etiquieta que se corresponde con el dato en la fila 0 de los datos de entrenamiento\n",
        "train_labels[0]"
      ],
      "metadata": {
        "colab": {
          "base_uri": "https://localhost:8080/"
        },
        "id": "at6f6n_MMynk",
        "outputId": "654db8da-fa73-46ed-aae8-a36690aa7a3c"
      },
      "execution_count": 49,
      "outputs": [
        {
          "output_type": "execute_result",
          "data": {
            "text/plain": [
              "5"
            ]
          },
          "metadata": {},
          "execution_count": 49
        }
      ]
    },
    {
      "cell_type": "code",
      "source": [
        "#muestra la etiqueta convertida a categorica en formato formato one-hot encoding.\n",
        "y_train[0]"
      ],
      "metadata": {
        "colab": {
          "base_uri": "https://localhost:8080/"
        },
        "id": "VNq-PACkM5Jz",
        "outputId": "67ae94a0-ed78-4bd9-9c2e-1f25b62b6b4f"
      },
      "execution_count": 50,
      "outputs": [
        {
          "output_type": "execute_result",
          "data": {
            "text/plain": [
              "array([0., 0., 0., 0., 0., 1., 0., 0., 0., 0.], dtype=float32)"
            ]
          },
          "metadata": {},
          "execution_count": 50
        }
      ]
    },
    {
      "cell_type": "code",
      "source": [
        "#se importa callbacks de tensorflow\n",
        "from tensorflow.keras.callbacks import TensorBoard"
      ],
      "metadata": {
        "id": "JNwu2QbQFvKu"
      },
      "execution_count": 51,
      "outputs": []
    },
    {
      "cell_type": "code",
      "source": [
        "#se escoje una ruta para almacenar los datos del entrenamiento\n",
        "tensorboardDenso = TensorBoard(log_dir ='logs/denso')"
      ],
      "metadata": {
        "id": "zOgiEiPZISm-"
      },
      "execution_count": 52,
      "outputs": []
    },
    {
      "cell_type": "markdown",
      "source": [
        "**x_train, y_train:**\n",
        "Estos son los datos de entrenamiento (características y etiquetas) que se utilizarán para entrenar el modelo estos ya estan normalizados y categorizados.\n",
        "**epochs=20:** son las veces que se validaran todos los datos de entrenamiento en cada pasada o epoch se ajustan los pesos de la red neuronal buscando mejorar la prediccion.\n",
        "**callbacks=[tensorboardDenso] :** se define donde se generaran los datos del entrenamiento, este se edita durante el entrenamiento y se usa para hacer seguimiento del progreso.\n",
        "\n",
        "**batch_size=128:** el tamaño del lote de datos que usa en cada iteraccion, es decir procesa 128 imagenes en un solo lote asta agorar las 60.000 imagenes de entrenamiento,Cada lote de 128 imágenes se utiliza para calcular las actualizaciones de los pesos del modelo antes de avanzar al siguiente lote.\n",
        "\n",
        "Esta técnica de entrenamiento en lotes es común en el aprendizaje profundo y se utiliza para acelerar el proceso de entrenamiento y para aprovechar la paralelización de cálculos en hardware especializado. También puede ayudar a estabilizar y suavizar el proceso de aprendizaje.\n",
        "\n",
        "**validation_data=(x_test, y_test):**son datos de validacion independientes de los datos de entrenamiento, y son usados durante el entrenamiento."
      ],
      "metadata": {
        "id": "4mOQldPLiBTc"
      }
    },
    {
      "cell_type": "code",
      "source": [
        "history = model.fit(x_train, y_train, epochs=20,callbacks=[tensorboardDenso], batch_size=128, validation_data=(x_test, y_test))"
      ],
      "metadata": {
        "colab": {
          "base_uri": "https://localhost:8080/"
        },
        "id": "IFDP3PNIM-ba",
        "outputId": "ac788b03-4be9-445a-8ef1-f63d22ba7e01"
      },
      "execution_count": 53,
      "outputs": [
        {
          "output_type": "stream",
          "name": "stdout",
          "text": [
            "Epoch 1/20\n",
            "469/469 [==============================] - 4s 7ms/step - loss: 0.2612 - accuracy: 0.9249 - precision: 0.9529 - val_loss: 0.1374 - val_accuracy: 0.9586 - val_precision: 0.9673\n",
            "Epoch 2/20\n",
            "469/469 [==============================] - 2s 5ms/step - loss: 0.1056 - accuracy: 0.9694 - precision: 0.9755 - val_loss: 0.0967 - val_accuracy: 0.9698 - val_precision: 0.9735\n",
            "Epoch 3/20\n",
            "469/469 [==============================] - 4s 9ms/step - loss: 0.0696 - accuracy: 0.9793 - precision: 0.9827 - val_loss: 0.0895 - val_accuracy: 0.9732 - val_precision: 0.9767\n",
            "Epoch 4/20\n",
            "469/469 [==============================] - 4s 8ms/step - loss: 0.0500 - accuracy: 0.9851 - precision: 0.9872 - val_loss: 0.0687 - val_accuracy: 0.9786 - val_precision: 0.9814\n",
            "Epoch 5/20\n",
            "469/469 [==============================] - 5s 12ms/step - loss: 0.0374 - accuracy: 0.9891 - precision: 0.9906 - val_loss: 0.0663 - val_accuracy: 0.9806 - val_precision: 0.9822\n",
            "Epoch 6/20\n",
            "469/469 [==============================] - 4s 9ms/step - loss: 0.0289 - accuracy: 0.9913 - precision: 0.9924 - val_loss: 0.0658 - val_accuracy: 0.9787 - val_precision: 0.9802\n",
            "Epoch 7/20\n",
            "469/469 [==============================] - 4s 9ms/step - loss: 0.0212 - accuracy: 0.9942 - precision: 0.9947 - val_loss: 0.0714 - val_accuracy: 0.9773 - val_precision: 0.9797\n",
            "Epoch 8/20\n",
            "469/469 [==============================] - 4s 9ms/step - loss: 0.0162 - accuracy: 0.9955 - precision: 0.9960 - val_loss: 0.0710 - val_accuracy: 0.9780 - val_precision: 0.9793\n",
            "Epoch 9/20\n",
            "469/469 [==============================] - 2s 4ms/step - loss: 0.0121 - accuracy: 0.9968 - precision: 0.9971 - val_loss: 0.0647 - val_accuracy: 0.9804 - val_precision: 0.9815\n",
            "Epoch 10/20\n",
            "469/469 [==============================] - 2s 4ms/step - loss: 0.0092 - accuracy: 0.9977 - precision: 0.9980 - val_loss: 0.0620 - val_accuracy: 0.9810 - val_precision: 0.9825\n",
            "Epoch 11/20\n",
            "469/469 [==============================] - 2s 5ms/step - loss: 0.0069 - accuracy: 0.9984 - precision: 0.9985 - val_loss: 0.0634 - val_accuracy: 0.9827 - val_precision: 0.9839\n",
            "Epoch 12/20\n",
            "469/469 [==============================] - 3s 6ms/step - loss: 0.0045 - accuracy: 0.9992 - precision: 0.9993 - val_loss: 0.0692 - val_accuracy: 0.9821 - val_precision: 0.9829\n",
            "Epoch 13/20\n",
            "469/469 [==============================] - 3s 6ms/step - loss: 0.0032 - accuracy: 0.9995 - precision: 0.9996 - val_loss: 0.0632 - val_accuracy: 0.9829 - val_precision: 0.9837\n",
            "Epoch 14/20\n",
            "469/469 [==============================] - 2s 5ms/step - loss: 0.0021 - accuracy: 0.9998 - precision: 0.9998 - val_loss: 0.0674 - val_accuracy: 0.9823 - val_precision: 0.9828\n",
            "Epoch 15/20\n",
            "469/469 [==============================] - 2s 4ms/step - loss: 0.0016 - accuracy: 0.9998 - precision: 0.9998 - val_loss: 0.0652 - val_accuracy: 0.9830 - val_precision: 0.9840\n",
            "Epoch 16/20\n",
            "469/469 [==============================] - 2s 4ms/step - loss: 8.6474e-04 - accuracy: 1.0000 - precision: 1.0000 - val_loss: 0.0661 - val_accuracy: 0.9836 - val_precision: 0.9842\n",
            "Epoch 17/20\n",
            "469/469 [==============================] - 2s 4ms/step - loss: 6.6408e-04 - accuracy: 1.0000 - precision: 1.0000 - val_loss: 0.0672 - val_accuracy: 0.9826 - val_precision: 0.9833\n",
            "Epoch 18/20\n",
            "469/469 [==============================] - 2s 5ms/step - loss: 4.7776e-04 - accuracy: 1.0000 - precision: 1.0000 - val_loss: 0.0681 - val_accuracy: 0.9833 - val_precision: 0.9838\n",
            "Epoch 19/20\n",
            "469/469 [==============================] - 2s 5ms/step - loss: 4.0207e-04 - accuracy: 1.0000 - precision: 1.0000 - val_loss: 0.0682 - val_accuracy: 0.9834 - val_precision: 0.9838\n",
            "Epoch 20/20\n",
            "469/469 [==============================] - 2s 4ms/step - loss: 3.1984e-04 - accuracy: 1.0000 - precision: 1.0000 - val_loss: 0.0685 - val_accuracy: 0.9834 - val_precision: 0.9840\n"
          ]
        }
      ]
    },
    {
      "cell_type": "code",
      "source": [
        "\n",
        "#Crea una grafica comparativa entre la perdida en cada epoca y val loss que es la validacion contra los datos de prueba\n",
        "pd.DataFrame({'loss': history.history['loss'],\n",
        "              'val_loss': history.history['val_loss']}).plot(figsize=(10, 7))\n",
        "#Agrega una cuadrícula al gráfico para facilitar la lectura de los valores.\n",
        "plt.grid(True)\n",
        "#Agrega la etiqueta \"epochs\" al eje x\n",
        "plt.xlabel(\"epochs\")\n",
        "#genera la imagen del grafico\n",
        "plt.show()"
      ],
      "metadata": {
        "colab": {
          "base_uri": "https://localhost:8080/",
          "height": 619
        },
        "id": "6o_zWTPlG-c_",
        "outputId": "1695f286-c940-4f5a-c41c-cc11367f137a"
      },
      "execution_count": 54,
      "outputs": [
        {
          "output_type": "display_data",
          "data": {
            "text/plain": [
              "<Figure size 1000x700 with 1 Axes>"
            ],
            "image/png": "[encoded data removed]"
          },
          "metadata": {}
        }
      ]
    },
    {
      "cell_type": "code",
      "source": [
        "#Se utiliza para evaluar el modelo previamente entrenado con los datos de prueba,\n",
        "#esta línea valida la pérdida y precisión del modelo\n",
        "model.evaluate(x_test, y_test)"
      ],
      "metadata": {
        "id": "BQVdu9blNLk8",
        "colab": {
          "base_uri": "https://localhost:8080/"
        },
        "outputId": "5f21b361-1818-4b2d-884b-4baa35c6c2ce"
      },
      "execution_count": 55,
      "outputs": [
        {
          "output_type": "stream",
          "name": "stdout",
          "text": [
            "313/313 [==============================] - 1s 3ms/step - loss: 0.0685 - accuracy: 0.9834 - precision: 0.9840\n"
          ]
        },
        {
          "output_type": "execute_result",
          "data": {
            "text/plain": [
              "[0.06850093603134155, 0.9833999872207642, 0.9839856028556824]"
            ]
          },
          "metadata": {},
          "execution_count": 55
        }
      ]
    },
    {
      "cell_type": "markdown",
      "source": [
        "### Cambio la cantidad de neuronas por 200"
      ],
      "metadata": {
        "id": "JtpSS-Dlkfqh"
      }
    },
    {
      "cell_type": "code",
      "source": [
        "model = models.Sequential()\n",
        "model.add(layers.Dense(200,activation='relu', input_shape=(28*28,)))\n",
        "model.add(layers.Dense(10,activation='softmax'))\n",
        "model.compile(optimizer='rmsprop',\n",
        "              loss='categorical_crossentropy',\n",
        "              metrics=['accuracy', 'Precision'])\n",
        "model.summary()\n",
        "history = model.fit(x_train, y_train, epochs=20,callbacks=[tensorboardDenso], batch_size=128, validation_data=(x_test, y_test))\n",
        "\n",
        "pd.DataFrame({'loss': history.history['loss'],\n",
        "              'val_loss': history.history['val_loss']}).plot(figsize=(10, 7))\n",
        "plt.grid(True)\n",
        "plt.xlabel(\"epochs\")\n",
        "plt.show()\n",
        "model.evaluate(x_test, y_test)"
      ],
      "metadata": {
        "id": "PNNj4fr5IxeV",
        "colab": {
          "base_uri": "https://localhost:8080/",
          "height": 1000
        },
        "outputId": "4e07b6a3-3b51-455b-e002-5e7c70881f8f"
      },
      "execution_count": 56,
      "outputs": [
        {
          "output_type": "stream",
          "name": "stdout",
          "text": [
            "Model: \"sequential_3\"\n",
            "_________________________________________________________________\n",
            " Layer (type)                Output Shape              Param #   \n",
            "=================================================================\n",
            " dense_5 (Dense)             (None, 200)               157000    \n",
            "                                                                 \n",
            " dense_6 (Dense)             (None, 10)                2010      \n",
            "                                                                 \n",
            "=================================================================\n",
            "Total params: 159010 (621.13 KB)\n",
            "Trainable params: 159010 (621.13 KB)\n",
            "Non-trainable params: 0 (0.00 Byte)\n",
            "_________________________________________________________________\n",
            "Epoch 1/20\n",
            "469/469 [==============================] - 3s 5ms/step - loss: 0.3096 - accuracy: 0.9140 - precision: 0.9503 - val_loss: 0.1679 - val_accuracy: 0.9509 - val_precision: 0.9623\n",
            "Epoch 2/20\n",
            "469/469 [==============================] - 2s 5ms/step - loss: 0.1395 - accuracy: 0.9595 - precision: 0.9682 - val_loss: 0.1151 - val_accuracy: 0.9656 - val_precision: 0.9714\n",
            "Epoch 3/20\n",
            "469/469 [==============================] - 3s 5ms/step - loss: 0.0961 - accuracy: 0.9714 - precision: 0.9769 - val_loss: 0.0907 - val_accuracy: 0.9714 - val_precision: 0.9763\n",
            "Epoch 4/20\n",
            "469/469 [==============================] - 3s 5ms/step - loss: 0.0723 - accuracy: 0.9790 - precision: 0.9828 - val_loss: 0.0785 - val_accuracy: 0.9747 - val_precision: 0.9788\n",
            "Epoch 5/20\n",
            "469/469 [==============================] - 2s 5ms/step - loss: 0.0569 - accuracy: 0.9834 - precision: 0.9859 - val_loss: 0.0761 - val_accuracy: 0.9753 - val_precision: 0.9798\n",
            "Epoch 6/20\n",
            "469/469 [==============================] - 2s 4ms/step - loss: 0.0465 - accuracy: 0.9863 - precision: 0.9882 - val_loss: 0.0762 - val_accuracy: 0.9778 - val_precision: 0.9802\n",
            "Epoch 7/20\n",
            "469/469 [==============================] - 2s 4ms/step - loss: 0.0377 - accuracy: 0.9892 - precision: 0.9908 - val_loss: 0.0667 - val_accuracy: 0.9789 - val_precision: 0.9815\n",
            "Epoch 8/20\n",
            "469/469 [==============================] - 3s 6ms/step - loss: 0.0319 - accuracy: 0.9910 - precision: 0.9923 - val_loss: 0.0646 - val_accuracy: 0.9794 - val_precision: 0.9815\n",
            "Epoch 9/20\n",
            "469/469 [==============================] - 2s 4ms/step - loss: 0.0263 - accuracy: 0.9927 - precision: 0.9936 - val_loss: 0.0669 - val_accuracy: 0.9793 - val_precision: 0.9813\n",
            "Epoch 10/20\n",
            "469/469 [==============================] - 2s 4ms/step - loss: 0.0215 - accuracy: 0.9941 - precision: 0.9948 - val_loss: 0.0653 - val_accuracy: 0.9798 - val_precision: 0.9811\n",
            "Epoch 11/20\n",
            "469/469 [==============================] - 2s 4ms/step - loss: 0.0180 - accuracy: 0.9954 - precision: 0.9959 - val_loss: 0.0634 - val_accuracy: 0.9809 - val_precision: 0.9823\n",
            "Epoch 12/20\n",
            "469/469 [==============================] - 2s 4ms/step - loss: 0.0149 - accuracy: 0.9963 - precision: 0.9967 - val_loss: 0.0756 - val_accuracy: 0.9786 - val_precision: 0.9802\n",
            "Epoch 13/20\n",
            "469/469 [==============================] - 2s 5ms/step - loss: 0.0121 - accuracy: 0.9971 - precision: 0.9974 - val_loss: 0.0650 - val_accuracy: 0.9810 - val_precision: 0.9819\n",
            "Epoch 14/20\n",
            "469/469 [==============================] - 2s 5ms/step - loss: 0.0099 - accuracy: 0.9977 - precision: 0.9979 - val_loss: 0.0687 - val_accuracy: 0.9799 - val_precision: 0.9812\n",
            "Epoch 15/20\n",
            "469/469 [==============================] - 2s 5ms/step - loss: 0.0083 - accuracy: 0.9981 - precision: 0.9982 - val_loss: 0.0683 - val_accuracy: 0.9802 - val_precision: 0.9812\n",
            "Epoch 16/20\n",
            "469/469 [==============================] - 2s 5ms/step - loss: 0.0066 - accuracy: 0.9987 - precision: 0.9989 - val_loss: 0.0667 - val_accuracy: 0.9801 - val_precision: 0.9809\n",
            "Epoch 17/20\n",
            "469/469 [==============================] - 2s 5ms/step - loss: 0.0054 - accuracy: 0.9991 - precision: 0.9992 - val_loss: 0.0717 - val_accuracy: 0.9802 - val_precision: 0.9810\n",
            "Epoch 18/20\n",
            "469/469 [==============================] - 2s 5ms/step - loss: 0.0045 - accuracy: 0.9992 - precision: 0.9992 - val_loss: 0.0721 - val_accuracy: 0.9794 - val_precision: 0.9808\n",
            "Epoch 19/20\n",
            "469/469 [==============================] - 3s 6ms/step - loss: 0.0034 - accuracy: 0.9996 - precision: 0.9996 - val_loss: 0.0695 - val_accuracy: 0.9809 - val_precision: 0.9820\n",
            "Epoch 20/20\n",
            "469/469 [==============================] - 2s 5ms/step - loss: 0.0025 - accuracy: 0.9996 - precision: 0.9997 - val_loss: 0.0730 - val_accuracy: 0.9794 - val_precision: 0.9803\n"
          ]
        },
        {
          "output_type": "display_data",
          "data": {
            "text/plain": [
              "<Figure size 1000x700 with 1 Axes>"
            ],
            "image/png": "[encoded data removed]"
          },
          "metadata": {}
        },
        {
          "output_type": "stream",
          "name": "stdout",
          "text": [
            "313/313 [==============================] - 1s 3ms/step - loss: 0.0730 - accuracy: 0.9794 - precision: 0.9803\n"
          ]
        },
        {
          "output_type": "execute_result",
          "data": {
            "text/plain": [
              "[0.0730474516749382, 0.9793999791145325, 0.9802703857421875]"
            ]
          },
          "metadata": {},
          "execution_count": 56
        }
      ]
    },
    {
      "cell_type": "markdown",
      "source": [
        "### Cambio la cantidad de neuronas por 1000"
      ],
      "metadata": {
        "id": "DqwDfGZLlq7z"
      }
    },
    {
      "cell_type": "code",
      "source": [
        "model = models.Sequential()\n",
        "model.add(layers.Dense(2000,activation='relu', input_shape=(28*28,)))\n",
        "model.add(layers.Dense(10,activation='softmax'))\n",
        "model.compile(optimizer='rmsprop',\n",
        "              loss='categorical_crossentropy',\n",
        "              metrics=['accuracy', 'Precision'])\n",
        "model.summary()\n",
        "history = model.fit(x_train, y_train, epochs=20,callbacks=[tensorboardDenso], batch_size=128, validation_data=(x_test, y_test))\n",
        "\n",
        "pd.DataFrame({'loss': history.history['loss'],\n",
        "              'val_loss': history.history['val_loss']}).plot(figsize=(10, 7))\n",
        "plt.grid(True)\n",
        "plt.xlabel(\"epochs\")\n",
        "plt.show()\n",
        "model.evaluate(x_test, y_test)"
      ],
      "metadata": {
        "colab": {
          "base_uri": "https://localhost:8080/",
          "height": 1000
        },
        "id": "4IRAwlFalmdl",
        "outputId": "3cfbd2fd-9ca2-4b8b-934e-f9a540ffa255"
      },
      "execution_count": 57,
      "outputs": [
        {
          "output_type": "stream",
          "name": "stdout",
          "text": [
            "Model: \"sequential_4\"\n",
            "_________________________________________________________________\n",
            " Layer (type)                Output Shape              Param #   \n",
            "=================================================================\n",
            " dense_7 (Dense)             (None, 2000)              1570000   \n",
            "                                                                 \n",
            " dense_8 (Dense)             (None, 10)                20010     \n",
            "                                                                 \n",
            "=================================================================\n",
            "Total params: 1590010 (6.07 MB)\n",
            "Trainable params: 1590010 (6.07 MB)\n",
            "Non-trainable params: 0 (0.00 Byte)\n",
            "_________________________________________________________________\n",
            "Epoch 1/20\n",
            "469/469 [==============================] - 3s 5ms/step - loss: 0.2279 - accuracy: 0.9315 - precision: 0.9547 - val_loss: 0.0964 - val_accuracy: 0.9720 - val_precision: 0.9770\n",
            "Epoch 2/20\n",
            "469/469 [==============================] - 2s 5ms/step - loss: 0.0834 - accuracy: 0.9754 - precision: 0.9793 - val_loss: 0.0781 - val_accuracy: 0.9766 - val_precision: 0.9793\n",
            "Epoch 3/20\n",
            "469/469 [==============================] - 3s 6ms/step - loss: 0.0533 - accuracy: 0.9838 - precision: 0.9860 - val_loss: 0.0809 - val_accuracy: 0.9746 - val_precision: 0.9770\n",
            "Epoch 4/20\n",
            "469/469 [==============================] - 2s 5ms/step - loss: 0.0351 - accuracy: 0.9894 - precision: 0.9906 - val_loss: 0.0573 - val_accuracy: 0.9814 - val_precision: 0.9832\n",
            "Epoch 5/20\n",
            "469/469 [==============================] - 2s 4ms/step - loss: 0.0244 - accuracy: 0.9925 - precision: 0.9933 - val_loss: 0.0586 - val_accuracy: 0.9826 - val_precision: 0.9844\n",
            "Epoch 6/20\n",
            "469/469 [==============================] - 2s 5ms/step - loss: 0.0166 - accuracy: 0.9949 - precision: 0.9954 - val_loss: 0.0546 - val_accuracy: 0.9839 - val_precision: 0.9846\n",
            "Epoch 7/20\n",
            "469/469 [==============================] - 2s 5ms/step - loss: 0.0108 - accuracy: 0.9970 - precision: 0.9972 - val_loss: 0.0594 - val_accuracy: 0.9823 - val_precision: 0.9842\n",
            "Epoch 8/20\n",
            "469/469 [==============================] - 3s 6ms/step - loss: 0.0072 - accuracy: 0.9983 - precision: 0.9984 - val_loss: 0.0558 - val_accuracy: 0.9843 - val_precision: 0.9854\n",
            "Epoch 9/20\n",
            "469/469 [==============================] - 3s 6ms/step - loss: 0.0044 - accuracy: 0.9989 - precision: 0.9990 - val_loss: 0.0553 - val_accuracy: 0.9843 - val_precision: 0.9852\n",
            "Epoch 10/20\n",
            "469/469 [==============================] - 2s 5ms/step - loss: 0.0025 - accuracy: 0.9994 - precision: 0.9994 - val_loss: 0.0605 - val_accuracy: 0.9837 - val_precision: 0.9842\n",
            "Epoch 11/20\n",
            "469/469 [==============================] - 2s 4ms/step - loss: 0.0014 - accuracy: 0.9998 - precision: 0.9998 - val_loss: 0.0577 - val_accuracy: 0.9843 - val_precision: 0.9853\n",
            "Epoch 12/20\n",
            "469/469 [==============================] - 2s 5ms/step - loss: 6.5479e-04 - accuracy: 1.0000 - precision: 1.0000 - val_loss: 0.0593 - val_accuracy: 0.9848 - val_precision: 0.9855\n",
            "Epoch 13/20\n",
            "469/469 [==============================] - 3s 6ms/step - loss: 4.8061e-04 - accuracy: 1.0000 - precision: 1.0000 - val_loss: 0.0578 - val_accuracy: 0.9854 - val_precision: 0.9861\n",
            "Epoch 14/20\n",
            "469/469 [==============================] - 2s 5ms/step - loss: 3.2903e-04 - accuracy: 1.0000 - precision: 1.0000 - val_loss: 0.0596 - val_accuracy: 0.9852 - val_precision: 0.9858\n",
            "Epoch 15/20\n",
            "469/469 [==============================] - 2s 5ms/step - loss: 2.9110e-04 - accuracy: 1.0000 - precision: 1.0000 - val_loss: 0.0587 - val_accuracy: 0.9861 - val_precision: 0.9865\n",
            "Epoch 16/20\n",
            "469/469 [==============================] - 2s 5ms/step - loss: 2.4880e-04 - accuracy: 1.0000 - precision: 1.0000 - val_loss: 0.0594 - val_accuracy: 0.9853 - val_precision: 0.9861\n",
            "Epoch 17/20\n",
            "469/469 [==============================] - 2s 5ms/step - loss: 2.2209e-04 - accuracy: 1.0000 - precision: 1.0000 - val_loss: 0.0598 - val_accuracy: 0.9853 - val_precision: 0.9859\n",
            "Epoch 18/20\n",
            "469/469 [==============================] - 2s 5ms/step - loss: 2.0172e-04 - accuracy: 1.0000 - precision: 1.0000 - val_loss: 0.0600 - val_accuracy: 0.9854 - val_precision: 0.9860\n",
            "Epoch 19/20\n",
            "469/469 [==============================] - 3s 6ms/step - loss: 1.8570e-04 - accuracy: 1.0000 - precision: 1.0000 - val_loss: 0.0603 - val_accuracy: 0.9852 - val_precision: 0.9859\n",
            "Epoch 20/20\n",
            "469/469 [==============================] - 2s 5ms/step - loss: 1.7319e-04 - accuracy: 1.0000 - precision: 1.0000 - val_loss: 0.0608 - val_accuracy: 0.9854 - val_precision: 0.9861\n"
          ]
        },
        {
          "output_type": "display_data",
          "data": {
            "text/plain": [
              "<Figure size 1000x700 with 1 Axes>"
            ],
            "image/png": "[encoded data removed]"
          },
          "metadata": {}
        },
        {
          "output_type": "stream",
          "name": "stdout",
          "text": [
            "313/313 [==============================] - 1s 4ms/step - loss: 0.0608 - accuracy: 0.9854 - precision: 0.9861\n"
          ]
        },
        {
          "output_type": "execute_result",
          "data": {
            "text/plain": [
              "[0.06083691492676735, 0.9854000210762024, 0.9860888719558716]"
            ]
          },
          "metadata": {},
          "execution_count": 57
        }
      ]
    },
    {
      "cell_type": "markdown",
      "source": [
        "Cambio la cantidad de neuronas por 2000\n"
      ],
      "metadata": {
        "id": "BaI7brJdloxD"
      }
    },
    {
      "cell_type": "code",
      "source": [
        "model = models.Sequential()\n",
        "model.add(layers.Dense(2000,activation='relu', input_shape=(28*28,)))\n",
        "model.add(layers.Dense(10,activation='softmax'))\n",
        "model.compile(optimizer='rmsprop',\n",
        "              loss='categorical_crossentropy',\n",
        "              metrics=['accuracy', 'Precision'])\n",
        "model.summary()\n",
        "history = model.fit(x_train, y_train, epochs=20,callbacks=[tensorboardDenso], batch_size=128, validation_data=(x_test, y_test))\n",
        "\n",
        "pd.DataFrame({'loss': history.history['loss'],\n",
        "              'val_loss': history.history['val_loss']}).plot(figsize=(10, 7))\n",
        "plt.grid(True)\n",
        "plt.xlabel(\"epochs\")\n",
        "plt.show()\n",
        "model.evaluate(x_test, y_test)"
      ],
      "metadata": {
        "id": "qZrHf6HmmgmL",
        "colab": {
          "base_uri": "https://localhost:8080/",
          "height": 1000
        },
        "outputId": "8b24e201-51d1-4ad2-8a8a-35b8a511571c"
      },
      "execution_count": 58,
      "outputs": [
        {
          "output_type": "stream",
          "name": "stdout",
          "text": [
            "Model: \"sequential_5\"\n",
            "_________________________________________________________________\n",
            " Layer (type)                Output Shape              Param #   \n",
            "=================================================================\n",
            " dense_9 (Dense)             (None, 2000)              1570000   \n",
            "                                                                 \n",
            " dense_10 (Dense)            (None, 10)                20010     \n",
            "                                                                 \n",
            "=================================================================\n",
            "Total params: 1590010 (6.07 MB)\n",
            "Trainable params: 1590010 (6.07 MB)\n",
            "Non-trainable params: 0 (0.00 Byte)\n",
            "_________________________________________________________________\n",
            "Epoch 1/20\n",
            "469/469 [==============================] - 3s 5ms/step - loss: 0.2284 - accuracy: 0.9323 - precision: 0.9542 - val_loss: 0.1181 - val_accuracy: 0.9628 - val_precision: 0.9698\n",
            "Epoch 2/20\n",
            "469/469 [==============================] - 3s 6ms/step - loss: 0.0824 - accuracy: 0.9751 - precision: 0.9789 - val_loss: 0.0728 - val_accuracy: 0.9778 - val_precision: 0.9805\n",
            "Epoch 3/20\n",
            "469/469 [==============================] - 2s 4ms/step - loss: 0.0529 - accuracy: 0.9840 - precision: 0.9862 - val_loss: 0.0704 - val_accuracy: 0.9782 - val_precision: 0.9807\n",
            "Epoch 4/20\n",
            "469/469 [==============================] - 2s 5ms/step - loss: 0.0350 - accuracy: 0.9887 - precision: 0.9900 - val_loss: 0.0718 - val_accuracy: 0.9771 - val_precision: 0.9787\n",
            "Epoch 5/20\n",
            "469/469 [==============================] - 2s 4ms/step - loss: 0.0242 - accuracy: 0.9923 - precision: 0.9931 - val_loss: 0.0613 - val_accuracy: 0.9812 - val_precision: 0.9831\n",
            "Epoch 6/20\n",
            "469/469 [==============================] - 2s 4ms/step - loss: 0.0167 - accuracy: 0.9951 - precision: 0.9955 - val_loss: 0.0575 - val_accuracy: 0.9831 - val_precision: 0.9846\n",
            "Epoch 7/20\n",
            "469/469 [==============================] - 3s 5ms/step - loss: 0.0103 - accuracy: 0.9973 - precision: 0.9975 - val_loss: 0.0708 - val_accuracy: 0.9811 - val_precision: 0.9822\n",
            "Epoch 8/20\n",
            "469/469 [==============================] - 2s 5ms/step - loss: 0.0073 - accuracy: 0.9982 - precision: 0.9983 - val_loss: 0.0647 - val_accuracy: 0.9834 - val_precision: 0.9838\n",
            "Epoch 9/20\n",
            "469/469 [==============================] - 2s 5ms/step - loss: 0.0049 - accuracy: 0.9988 - precision: 0.9989 - val_loss: 0.0601 - val_accuracy: 0.9847 - val_precision: 0.9855\n",
            "Epoch 10/20\n",
            "469/469 [==============================] - 2s 5ms/step - loss: 0.0032 - accuracy: 0.9993 - precision: 0.9993 - val_loss: 0.0611 - val_accuracy: 0.9844 - val_precision: 0.9855\n",
            "Epoch 11/20\n",
            "469/469 [==============================] - 2s 5ms/step - loss: 0.0015 - accuracy: 0.9998 - precision: 0.9998 - val_loss: 0.0576 - val_accuracy: 0.9850 - val_precision: 0.9859\n",
            "Epoch 12/20\n",
            "469/469 [==============================] - 2s 5ms/step - loss: 8.3815e-04 - accuracy: 0.9999 - precision: 0.9999 - val_loss: 0.0571 - val_accuracy: 0.9852 - val_precision: 0.9862\n",
            "Epoch 13/20\n",
            "469/469 [==============================] - 3s 7ms/step - loss: 5.5498e-04 - accuracy: 1.0000 - precision: 1.0000 - val_loss: 0.0590 - val_accuracy: 0.9852 - val_precision: 0.9861\n",
            "Epoch 14/20\n",
            "469/469 [==============================] - 3s 5ms/step - loss: 3.7426e-04 - accuracy: 1.0000 - precision: 1.0000 - val_loss: 0.0586 - val_accuracy: 0.9853 - val_precision: 0.9861\n",
            "Epoch 15/20\n",
            "469/469 [==============================] - 2s 5ms/step - loss: 2.7667e-04 - accuracy: 1.0000 - precision: 1.0000 - val_loss: 0.0593 - val_accuracy: 0.9849 - val_precision: 0.9858\n",
            "Epoch 16/20\n",
            "469/469 [==============================] - 2s 5ms/step - loss: 2.3623e-04 - accuracy: 1.0000 - precision: 1.0000 - val_loss: 0.0603 - val_accuracy: 0.9853 - val_precision: 0.9863\n",
            "Epoch 17/20\n",
            "469/469 [==============================] - 2s 5ms/step - loss: 2.1172e-04 - accuracy: 1.0000 - precision: 1.0000 - val_loss: 0.0610 - val_accuracy: 0.9850 - val_precision: 0.9856\n",
            "Epoch 18/20\n",
            "469/469 [==============================] - 3s 6ms/step - loss: 1.9288e-04 - accuracy: 1.0000 - precision: 1.0000 - val_loss: 0.0614 - val_accuracy: 0.9852 - val_precision: 0.9859\n",
            "Epoch 19/20\n",
            "469/469 [==============================] - 2s 5ms/step - loss: 1.7776e-04 - accuracy: 1.0000 - precision: 1.0000 - val_loss: 0.0621 - val_accuracy: 0.9848 - val_precision: 0.9857\n",
            "Epoch 20/20\n",
            "469/469 [==============================] - 2s 4ms/step - loss: 1.6782e-04 - accuracy: 1.0000 - precision: 1.0000 - val_loss: 0.0621 - val_accuracy: 0.9850 - val_precision: 0.9859\n"
          ]
        },
        {
          "output_type": "error",
          "ename": "KeyboardInterrupt",
          "evalue": "ignored",
          "traceback": [
            "\u001b[0;31m---------------------------------------------------------------------------\u001b[0m",
            "\u001b[0;31mKeyboardInterrupt\u001b[0m                         Traceback (most recent call last)",
            "\u001b[0;32m<ipython-input-58-1fa2097e6205>\u001b[0m in \u001b[0;36m<cell line: 8>\u001b[0;34m()\u001b[0m\n\u001b[1;32m      6\u001b[0m               metrics=['accuracy', 'Precision'])\n\u001b[1;32m      7\u001b[0m \u001b[0mmodel\u001b[0m\u001b[0;34m.\u001b[0m\u001b[0msummary\u001b[0m\u001b[0;34m(\u001b[0m\u001b[0;34m)\u001b[0m\u001b[0;34m\u001b[0m\u001b[0;34m\u001b[0m\u001b[0m\n\u001b[0;32m----> 8\u001b[0;31m \u001b[0mhistory\u001b[0m \u001b[0;34m=\u001b[0m \u001b[0mmodel\u001b[0m\u001b[0;34m.\u001b[0m\u001b[0mfit\u001b[0m\u001b[0;34m(\u001b[0m\u001b[0mx_train\u001b[0m\u001b[0;34m,\u001b[0m \u001b[0my_train\u001b[0m\u001b[0;34m,\u001b[0m \u001b[0mepochs\u001b[0m\u001b[0;34m=\u001b[0m\u001b[0;36m20\u001b[0m\u001b[0;34m,\u001b[0m\u001b[0mcallbacks\u001b[0m\u001b[0;34m=\u001b[0m\u001b[0;34m[\u001b[0m\u001b[0mtensorboardDenso\u001b[0m\u001b[0;34m]\u001b[0m\u001b[0;34m,\u001b[0m \u001b[0mbatch_size\u001b[0m\u001b[0;34m=\u001b[0m\u001b[0;36m128\u001b[0m\u001b[0;34m,\u001b[0m \u001b[0mvalidation_data\u001b[0m\u001b[0;34m=\u001b[0m\u001b[0;34m(\u001b[0m\u001b[0mx_test\u001b[0m\u001b[0;34m,\u001b[0m \u001b[0my_test\u001b[0m\u001b[0;34m)\u001b[0m\u001b[0;34m)\u001b[0m\u001b[0;34m\u001b[0m\u001b[0;34m\u001b[0m\u001b[0m\n\u001b[0m\u001b[1;32m      9\u001b[0m \u001b[0;34m\u001b[0m\u001b[0m\n\u001b[1;32m     10\u001b[0m pd.DataFrame({'loss': history.history['loss'],\n",
            "\u001b[0;32m/usr/local/lib/python3.10/dist-packages/keras/src/utils/traceback_utils.py\u001b[0m in \u001b[0;36merror_handler\u001b[0;34m(*args, **kwargs)\u001b[0m\n\u001b[1;32m     63\u001b[0m         \u001b[0mfiltered_tb\u001b[0m \u001b[0;34m=\u001b[0m \u001b[0;32mNone\u001b[0m\u001b[0;34m\u001b[0m\u001b[0;34m\u001b[0m\u001b[0m\n\u001b[1;32m     64\u001b[0m         \u001b[0;32mtry\u001b[0m\u001b[0;34m:\u001b[0m\u001b[0;34m\u001b[0m\u001b[0;34m\u001b[0m\u001b[0m\n\u001b[0;32m---> 65\u001b[0;31m             \u001b[0;32mreturn\u001b[0m \u001b[0mfn\u001b[0m\u001b[0;34m(\u001b[0m\u001b[0;34m*\u001b[0m\u001b[0margs\u001b[0m\u001b[0;34m,\u001b[0m \u001b[0;34m**\u001b[0m\u001b[0mkwargs\u001b[0m\u001b[0;34m)\u001b[0m\u001b[0;34m\u001b[0m\u001b[0;34m\u001b[0m\u001b[0m\n\u001b[0m\u001b[1;32m     66\u001b[0m         \u001b[0;32mexcept\u001b[0m \u001b[0mException\u001b[0m \u001b[0;32mas\u001b[0m \u001b[0me\u001b[0m\u001b[0;34m:\u001b[0m\u001b[0;34m\u001b[0m\u001b[0;34m\u001b[0m\u001b[0m\n\u001b[1;32m     67\u001b[0m             \u001b[0mfiltered_tb\u001b[0m \u001b[0;34m=\u001b[0m \u001b[0m_process_traceback_frames\u001b[0m\u001b[0;34m(\u001b[0m\u001b[0me\u001b[0m\u001b[0;34m.\u001b[0m\u001b[0m__traceback__\u001b[0m\u001b[0;34m)\u001b[0m\u001b[0;34m\u001b[0m\u001b[0;34m\u001b[0m\u001b[0m\n",
            "\u001b[0;31mKeyboardInterrupt\u001b[0m: "
          ]
        }
      ]
    },
    {
      "cell_type": "markdown",
      "source": [
        "##  SGD, RMSprop, Adagrad, Adadelta, Adam, Adamax, Nadam.\n",
        "## Cambiando el tipo de optimizador Adam"
      ],
      "metadata": {
        "id": "VdxTZG45nI3c"
      }
    },
    {
      "cell_type": "code",
      "source": [
        "model = models.Sequential()\n",
        "model.add(layers.Dense(512,activation='relu', input_shape=(28*28,)))\n",
        "model.add(layers.Dense(10,activation='softmax'))\n",
        "model.compile(optimizer='SGD',\n",
        "              loss='categorical_crossentropy',\n",
        "              metrics=['accuracy', 'Precision'])\n",
        "model.summary()\n",
        "history = model.fit(x_train, y_train, epochs=20,callbacks=[tensorboardDenso], batch_size=128, validation_data=(x_test, y_test))\n",
        "\n",
        "pd.DataFrame({'loss': history.history['loss'],\n",
        "              'val_loss': history.history['val_loss']}).plot(figsize=(10, 7))\n",
        "plt.grid(True)\n",
        "plt.xlabel(\"epochs\")\n",
        "plt.show()\n",
        "model.evaluate(x_test, y_test)"
      ],
      "metadata": {
        "id": "LFi82o4InXtz"
      },
      "execution_count": null,
      "outputs": []
    },
    {
      "cell_type": "markdown",
      "source": [
        "## Cambiando al optimizador Adam\n",
        "\n",
        "\n"
      ],
      "metadata": {
        "id": "enY5whsCo9ia"
      }
    },
    {
      "cell_type": "code",
      "source": [
        "model = models.Sequential()\n",
        "model.add(layers.Dense(512,activation='relu', input_shape=(28*28,)))\n",
        "model.add(layers.Dense(10,activation='softmax'))\n",
        "model.compile(optimizer='adam',\n",
        "              loss='categorical_crossentropy',\n",
        "              metrics=['accuracy', 'Precision'])\n",
        "model.summary()\n",
        "history = model.fit(x_train, y_train, epochs=20,callbacks=[tensorboardDenso], batch_size=128, validation_data=(x_test, y_test))\n",
        "\n",
        "pd.DataFrame({'loss': history.history['loss'],\n",
        "              'val_loss': history.history['val_loss']}).plot(figsize=(10, 7))\n",
        "plt.grid(True)\n",
        "plt.xlabel(\"epochs\")\n",
        "plt.show()\n",
        "model.evaluate(x_test, y_test)"
      ],
      "metadata": {
        "id": "Mc3Yhb_TpDzq"
      },
      "execution_count": null,
      "outputs": []
    },
    {
      "cell_type": "markdown",
      "source": [
        "Cambiando al optimizador adadelta  "
      ],
      "metadata": {
        "id": "KAeQyVz5qO_s"
      }
    },
    {
      "cell_type": "code",
      "source": [
        "model = models.Sequential()\n",
        "model.add(layers.Dense(512,activation='relu', input_shape=(28*28,)))\n",
        "model.add(layers.Dense(10,activation='softmax'))\n",
        "model.compile(optimizer='adadelta',\n",
        "              loss='categorical_crossentropy',\n",
        "              metrics=['accuracy', 'Precision'])\n",
        "model.summary()\n",
        "history = model.fit(x_train, y_train, epochs=20,callbacks=[tensorboardDenso], batch_size=128, validation_data=(x_test, y_test))\n",
        "\n",
        "pd.DataFrame({'loss': history.history['loss'],\n",
        "              'val_loss': history.history['val_loss']}).plot(figsize=(10, 7))\n",
        "plt.grid(True)\n",
        "plt.xlabel(\"epochs\")\n",
        "plt.show()\n",
        "model.evaluate(x_test, y_test)"
      ],
      "metadata": {
        "id": "YW2mX6JBqgZX"
      },
      "execution_count": null,
      "outputs": []
    },
    {
      "cell_type": "markdown",
      "source": [
        "Adagrad"
      ],
      "metadata": {
        "id": "1R4_BHEDrta1"
      }
    },
    {
      "cell_type": "code",
      "source": [
        "model = models.Sequential()\n",
        "model.add(layers.Dense(512,activation='relu', input_shape=(28*28,)))\n",
        "model.add(layers.Dense(10,activation='softmax'))\n",
        "model.compile(optimizer='adagrad',\n",
        "              loss='categorical_crossentropy',\n",
        "              metrics=['accuracy', 'Precision'])\n",
        "model.summary()\n",
        "history = model.fit(x_train, y_train, epochs=20,callbacks=[tensorboardDenso], batch_size=128, validation_data=(x_test, y_test))\n",
        "\n",
        "pd.DataFrame({'loss': history.history['loss'],\n",
        "              'val_loss': history.history['val_loss']}).plot(figsize=(10, 7))\n",
        "plt.grid(True)\n",
        "plt.xlabel(\"epochs\")\n",
        "plt.show()\n",
        "model.evaluate(x_test, y_test)"
      ],
      "metadata": {
        "id": "jE6uc0NTrv9u"
      },
      "execution_count": null,
      "outputs": []
    },
    {
      "cell_type": "markdown",
      "source": [
        "modificando la funcion de perdida\n",
        "Error Cuadrático Medio (Mean Squared Error - MSE): Es común en problemas de regresión, donde la salida es un valor numérico. Mide el cuadrado de la diferencia entre las predicciones y los valores reales."
      ],
      "metadata": {
        "id": "pXnwH7NGuojg"
      }
    },
    {
      "cell_type": "code",
      "source": [
        "model = models.Sequential()\n",
        "model.add(layers.Dense(512,activation='relu', input_shape=(28*28,)))\n",
        "model.add(layers.Dense(10,activation='softmax'))\n",
        "model.compile(optimizer='rmsprop',\n",
        "              loss='MSE',\n",
        "              metrics=['accuracy', 'Precision'])\n",
        "model.summary()\n",
        "history = model.fit(x_train, y_train, epochs=20,callbacks=[tensorboardDenso], batch_size=128, validation_data=(x_test, y_test))\n",
        "\n",
        "pd.DataFrame({'loss': history.history['loss'],\n",
        "              'val_loss': history.history['val_loss']}).plot(figsize=(10, 7))\n",
        "plt.grid(True)\n",
        "plt.xlabel(\"epochs\")\n",
        "plt.show()\n",
        "model.evaluate(x_test, y_test)"
      ],
      "metadata": {
        "id": "KOh48mCJusVd"
      },
      "execution_count": null,
      "outputs": []
    },
    {
      "cell_type": "markdown",
      "source": [
        "*MAE* Error Absoluto Medio (Mean Absolute Error - MAE): Es otra función de pérdida de regresión que mide el valor absoluto de la diferencia entre las predicciones y los valores reales."
      ],
      "metadata": {
        "id": "hNLrTxdaxZrn"
      }
    },
    {
      "cell_type": "code",
      "source": [
        "model = models.Sequential()\n",
        "model.add(layers.Dense(512,activation='relu', input_shape=(28*28,)))\n",
        "model.add(layers.Dense(10,activation='softmax'))\n",
        "model.compile(optimizer='rmsprop',\n",
        "              loss='MAE',\n",
        "              metrics=['accuracy', 'Precision'])\n",
        "model.summary()\n",
        "history = model.fit(x_train, y_train, epochs=20,callbacks=[tensorboardDenso], batch_size=128, validation_data=(x_test, y_test))\n",
        "\n",
        "pd.DataFrame({'loss': history.history['loss'],\n",
        "              'val_loss': history.history['val_loss']}).plot(figsize=(10, 7))\n",
        "plt.grid(True)\n",
        "plt.xlabel(\"epochs\")\n",
        "plt.show()\n",
        "model.evaluate(x_test, y_test)"
      ],
      "metadata": {
        "id": "Pj_IKKUpxart"
      },
      "execution_count": null,
      "outputs": []
    },
    {
      "cell_type": "markdown",
      "source": [
        "MAPE"
      ],
      "metadata": {
        "id": "5gk5AiXAxncf"
      }
    },
    {
      "cell_type": "code",
      "source": [
        "model = models.Sequential()\n",
        "model.add(layers.Dense(512,activation='relu', input_shape=(28*28,)))\n",
        "model.add(layers.Dense(10,activation='softmax'))\n",
        "model.compile(optimizer='rmsprop',\n",
        "              loss='MAPE',\n",
        "              metrics=['accuracy', 'Precision'])\n",
        "model.summary()\n",
        "history = model.fit(x_train, y_train, epochs=20,callbacks=[tensorboardDenso], batch_size=128, validation_data=(x_test, y_test))\n",
        "\n",
        "pd.DataFrame({'loss': history.history['loss'],\n",
        "              'val_loss': history.history['val_loss']}).plot(figsize=(10, 7))\n",
        "plt.grid(True)\n",
        "plt.xlabel(\"epochs\")\n",
        "plt.show()\n",
        "model.evaluate(x_test, y_test)"
      ],
      "metadata": {
        "id": "-FjPzKQwxog-"
      },
      "execution_count": null,
      "outputs": []
    },
    {
      "cell_type": "markdown",
      "source": [
        "MSLE Calcula el error logarítmico cuadrático medio entre y_true e y_pred."
      ],
      "metadata": {
        "id": "oHY5scyDzJWw"
      }
    },
    {
      "cell_type": "code",
      "source": [
        "model = models.Sequential()\n",
        "model.add(layers.Dense(512,activation='relu', input_shape=(28*28,)))\n",
        "model.add(layers.Dense(10,activation='softmax'))\n",
        "model.compile(optimizer='rmsprop',\n",
        "              loss='MSLE',\n",
        "              metrics=['accuracy', 'Precision'])\n",
        "model.summary()\n",
        "history = model.fit(x_train, y_train, epochs=20,callbacks=[tensorboardDenso], batch_size=128, validation_data=(x_test, y_test))\n",
        "\n",
        "pd.DataFrame({'loss': history.history['loss'],\n",
        "              'val_loss': history.history['val_loss']}).plot(figsize=(10, 7))\n",
        "plt.grid(True)\n",
        "plt.xlabel(\"epochs\")\n",
        "plt.show()\n",
        "model.evaluate(x_test, y_test)"
      ],
      "metadata": {
        "id": "hFV8CN4GzK_P"
      },
      "execution_count": null,
      "outputs": []
    },
    {
      "cell_type": "code",
      "source": [
        "model.fit(x_train, y_train);"
      ],
      "metadata": {
        "id": "KQGL2u6v1cgo"
      },
      "execution_count": null,
      "outputs": []
    },
    {
      "cell_type": "markdown",
      "source": [
        "mejor modelo con las mejores caracteristicas\n"
      ],
      "metadata": {
        "id": "AvVT5-tEvbcN"
      }
    },
    {
      "cell_type": "code",
      "source": [
        "model = models.Sequential()\n",
        "model.add(layers.Dense(2000,activation='relu', input_shape=(28*28,)))\n",
        "model.add(layers.Dense(10,activation='softmax'))\n",
        "model.compile(optimizer='adam',\n",
        "              loss='MSE',\n",
        "              metrics=['accuracy', 'Precision'])\n",
        "model.summary()\n",
        "history = model.fit(x_train, y_train, epochs=20,callbacks=[tensorboardDenso], batch_size=128, validation_data=(x_test, y_test))\n",
        "\n",
        "pd.DataFrame({'loss': history.history['loss'],\n",
        "              'val_loss': history.history['val_loss']}).plot(figsize=(10, 7))\n",
        "plt.grid(True)\n",
        "plt.xlabel(\"epochs\")\n",
        "plt.show()\n",
        "model.evaluate(x_test, y_test)"
      ],
      "metadata": {
        "id": "q5ijTnZxvfaC"
      },
      "execution_count": null,
      "outputs": []
    },
    {
      "cell_type": "code",
      "source": [
        "model = models.Sequential()\n",
        "model.add(layers.Dense(512,activation='relu', input_shape=(28*28,)))\n",
        "model.add(layers.Dense(512,activation='relu', input_shape=(28*28,)))\n",
        "model.add(layers.Dense(10,activation='softmax'))\n",
        "model.compile(optimizer='rmsprop',\n",
        "              loss='categorical_crossentropy',\n",
        "              metrics=['accuracy', 'Precision'])\n",
        "model.summary()\n",
        "history = model.fit(x_train, y_train, epochs=20,callbacks=[tensorboardDenso], batch_size=128, validation_data=(x_test, y_test))\n",
        "\n",
        "pd.DataFrame({'loss': history.history['loss'],\n",
        "              'val_loss': history.history['val_loss']}).plot(figsize=(10, 7))\n",
        "plt.grid(True)\n",
        "plt.xlabel(\"epochs\")\n",
        "plt.show()\n",
        "model.evaluate(x_test, y_test)"
      ],
      "metadata": {
        "id": "NHKK1XVczVMX"
      },
      "execution_count": null,
      "outputs": []
    },
    {
      "cell_type": "code",
      "source": [
        "model = models.Sequential()\n",
        "model.add(layers.Dense(512,activation='relu', input_shape=(28*28,)))\n",
        "model.add(layers.Dense(512,activation='relu', input_shape=(28*28,)))\n",
        "model.add(layers.Dense(10,activation='softmax'))\n",
        "model.compile(optimizer='rmsprop',\n",
        "              loss='categorical_crossentropy',\n",
        "              metrics=['accuracy', 'Precision'])\n",
        "model.summary()\n",
        "history = model.fit(x_train, y_train, epochs=40,callbacks=[tensorboardDenso], batch_size=64, validation_data=(x_test, y_test))\n",
        "\n",
        "pd.DataFrame({'loss': history.history['loss'],\n",
        "              'val_loss': history.history['val_loss']}).plot(figsize=(10, 7))\n",
        "plt.grid(True)\n",
        "plt.xlabel(\"epochs\")\n",
        "plt.show()\n",
        "model.evaluate(x_test, y_test)"
      ],
      "metadata": {
        "id": "LgBjsl0615Kp"
      },
      "execution_count": null,
      "outputs": []
    },
    {
      "cell_type": "code",
      "source": [
        "model = models.Sequential()\n",
        "model.add(layers.Dense(512,activation='sigmoide', input_shape=(28*28,)))\n",
        "model.add(layers.Dense(10,activation='softmax'))\n",
        "model.compile(optimizer='rmsprop',\n",
        "              loss='categorical_crossentropy',\n",
        "              metrics=['accuracy', 'Precision'])\n",
        "model.summary()\n",
        "history = model.fit(x_train, y_train, epochs=40,callbacks=[tensorboardDenso], batch_size=64, validation_data=(x_test, y_test))\n",
        "\n",
        "pd.DataFrame({'loss': history.history['loss'],\n",
        "              'val_loss': history.history['val_loss']}).plot(figsize=(10, 7))\n",
        "plt.grid(True)\n",
        "plt.xlabel(\"epochs\")\n",
        "plt.show()\n",
        "model.evaluate(x_test, y_test)"
      ],
      "metadata": {
        "colab": {
          "base_uri": "https://localhost:8080/",
          "height": 391
        },
        "id": "cp7Y20WX8599",
        "outputId": "476f92bd-3706-49fe-a3af-28d6b2679a35"
      },
      "execution_count": 61,
      "outputs": [
        {
          "output_type": "error",
          "ename": "ValueError",
          "evalue": "ignored",
          "traceback": [
            "\u001b[0;31m---------------------------------------------------------------------------\u001b[0m",
            "\u001b[0;31mValueError\u001b[0m                                Traceback (most recent call last)",
            "\u001b[0;32m<ipython-input-61-57b6fb275980>\u001b[0m in \u001b[0;36m<cell line: 2>\u001b[0;34m()\u001b[0m\n\u001b[1;32m      1\u001b[0m \u001b[0mmodel\u001b[0m \u001b[0;34m=\u001b[0m \u001b[0mmodels\u001b[0m\u001b[0;34m.\u001b[0m\u001b[0mSequential\u001b[0m\u001b[0;34m(\u001b[0m\u001b[0;34m)\u001b[0m\u001b[0;34m\u001b[0m\u001b[0;34m\u001b[0m\u001b[0m\n\u001b[0;32m----> 2\u001b[0;31m \u001b[0mmodel\u001b[0m\u001b[0;34m.\u001b[0m\u001b[0madd\u001b[0m\u001b[0;34m(\u001b[0m\u001b[0mlayers\u001b[0m\u001b[0;34m.\u001b[0m\u001b[0mDense\u001b[0m\u001b[0;34m(\u001b[0m\u001b[0;36m512\u001b[0m\u001b[0;34m,\u001b[0m\u001b[0mactivation\u001b[0m\u001b[0;34m=\u001b[0m\u001b[0;34m'sigmoide'\u001b[0m\u001b[0;34m,\u001b[0m \u001b[0minput_shape\u001b[0m\u001b[0;34m=\u001b[0m\u001b[0;34m(\u001b[0m\u001b[0;36m28\u001b[0m\u001b[0;34m*\u001b[0m\u001b[0;36m28\u001b[0m\u001b[0;34m,\u001b[0m\u001b[0;34m)\u001b[0m\u001b[0;34m)\u001b[0m\u001b[0;34m)\u001b[0m\u001b[0;34m\u001b[0m\u001b[0;34m\u001b[0m\u001b[0m\n\u001b[0m\u001b[1;32m      3\u001b[0m \u001b[0mmodel\u001b[0m\u001b[0;34m.\u001b[0m\u001b[0madd\u001b[0m\u001b[0;34m(\u001b[0m\u001b[0mlayers\u001b[0m\u001b[0;34m.\u001b[0m\u001b[0mDense\u001b[0m\u001b[0;34m(\u001b[0m\u001b[0;36m10\u001b[0m\u001b[0;34m,\u001b[0m\u001b[0mactivation\u001b[0m\u001b[0;34m=\u001b[0m\u001b[0;34m'softmax'\u001b[0m\u001b[0;34m)\u001b[0m\u001b[0;34m)\u001b[0m\u001b[0;34m\u001b[0m\u001b[0;34m\u001b[0m\u001b[0m\n\u001b[1;32m      4\u001b[0m model.compile(optimizer='rmsprop',\n\u001b[1;32m      5\u001b[0m               \u001b[0mloss\u001b[0m\u001b[0;34m=\u001b[0m\u001b[0;34m'categorical_crossentropy'\u001b[0m\u001b[0;34m,\u001b[0m\u001b[0;34m\u001b[0m\u001b[0;34m\u001b[0m\u001b[0m\n",
            "\u001b[0;32m/usr/local/lib/python3.10/dist-packages/keras/src/dtensor/utils.py\u001b[0m in \u001b[0;36m_wrap_function\u001b[0;34m(layer_instance, *args, **kwargs)\u001b[0m\n\u001b[1;32m     94\u001b[0m                     \u001b[0mlayout_args\u001b[0m\u001b[0;34m[\u001b[0m\u001b[0mvariable_name\u001b[0m \u001b[0;34m+\u001b[0m \u001b[0;34m\"_layout\"\u001b[0m\u001b[0;34m]\u001b[0m \u001b[0;34m=\u001b[0m \u001b[0mlayout\u001b[0m\u001b[0;34m\u001b[0m\u001b[0;34m\u001b[0m\u001b[0m\n\u001b[1;32m     95\u001b[0m \u001b[0;34m\u001b[0m\u001b[0m\n\u001b[0;32m---> 96\u001b[0;31m         \u001b[0minit_method\u001b[0m\u001b[0;34m(\u001b[0m\u001b[0mlayer_instance\u001b[0m\u001b[0;34m,\u001b[0m \u001b[0;34m*\u001b[0m\u001b[0margs\u001b[0m\u001b[0;34m,\u001b[0m \u001b[0;34m**\u001b[0m\u001b[0mkwargs\u001b[0m\u001b[0;34m)\u001b[0m\u001b[0;34m\u001b[0m\u001b[0;34m\u001b[0m\u001b[0m\n\u001b[0m\u001b[1;32m     97\u001b[0m \u001b[0;34m\u001b[0m\u001b[0m\n\u001b[1;32m     98\u001b[0m         \u001b[0;31m# Inject the layout parameter after the invocation of __init__()\u001b[0m\u001b[0;34m\u001b[0m\u001b[0;34m\u001b[0m\u001b[0m\n",
            "\u001b[0;32m/usr/local/lib/python3.10/dist-packages/keras/src/layers/core/dense.py\u001b[0m in \u001b[0;36m__init__\u001b[0;34m(self, units, activation, use_bias, kernel_initializer, bias_initializer, kernel_regularizer, bias_regularizer, activity_regularizer, kernel_constraint, bias_constraint, **kwargs)\u001b[0m\n\u001b[1;32m    123\u001b[0m                 \u001b[0;34mf\"a positive integer. Received: units={units}\"\u001b[0m\u001b[0;34m\u001b[0m\u001b[0;34m\u001b[0m\u001b[0m\n\u001b[1;32m    124\u001b[0m             )\n\u001b[0;32m--> 125\u001b[0;31m         \u001b[0mself\u001b[0m\u001b[0;34m.\u001b[0m\u001b[0mactivation\u001b[0m \u001b[0;34m=\u001b[0m \u001b[0mactivations\u001b[0m\u001b[0;34m.\u001b[0m\u001b[0mget\u001b[0m\u001b[0;34m(\u001b[0m\u001b[0mactivation\u001b[0m\u001b[0;34m)\u001b[0m\u001b[0;34m\u001b[0m\u001b[0;34m\u001b[0m\u001b[0m\n\u001b[0m\u001b[1;32m    126\u001b[0m         \u001b[0mself\u001b[0m\u001b[0;34m.\u001b[0m\u001b[0muse_bias\u001b[0m \u001b[0;34m=\u001b[0m \u001b[0muse_bias\u001b[0m\u001b[0;34m\u001b[0m\u001b[0;34m\u001b[0m\u001b[0m\n\u001b[1;32m    127\u001b[0m         \u001b[0mself\u001b[0m\u001b[0;34m.\u001b[0m\u001b[0mkernel_initializer\u001b[0m \u001b[0;34m=\u001b[0m \u001b[0minitializers\u001b[0m\u001b[0;34m.\u001b[0m\u001b[0mget\u001b[0m\u001b[0;34m(\u001b[0m\u001b[0mkernel_initializer\u001b[0m\u001b[0;34m)\u001b[0m\u001b[0;34m\u001b[0m\u001b[0;34m\u001b[0m\u001b[0m\n",
            "\u001b[0;32m/usr/local/lib/python3.10/dist-packages/tensorflow/python/util/traceback_utils.py\u001b[0m in \u001b[0;36merror_handler\u001b[0;34m(*args, **kwargs)\u001b[0m\n\u001b[1;32m    151\u001b[0m     \u001b[0;32mexcept\u001b[0m \u001b[0mException\u001b[0m \u001b[0;32mas\u001b[0m \u001b[0me\u001b[0m\u001b[0;34m:\u001b[0m\u001b[0;34m\u001b[0m\u001b[0;34m\u001b[0m\u001b[0m\n\u001b[1;32m    152\u001b[0m       \u001b[0mfiltered_tb\u001b[0m \u001b[0;34m=\u001b[0m \u001b[0m_process_traceback_frames\u001b[0m\u001b[0;34m(\u001b[0m\u001b[0me\u001b[0m\u001b[0;34m.\u001b[0m\u001b[0m__traceback__\u001b[0m\u001b[0;34m)\u001b[0m\u001b[0;34m\u001b[0m\u001b[0;34m\u001b[0m\u001b[0m\n\u001b[0;32m--> 153\u001b[0;31m       \u001b[0;32mraise\u001b[0m \u001b[0me\u001b[0m\u001b[0;34m.\u001b[0m\u001b[0mwith_traceback\u001b[0m\u001b[0;34m(\u001b[0m\u001b[0mfiltered_tb\u001b[0m\u001b[0;34m)\u001b[0m \u001b[0;32mfrom\u001b[0m \u001b[0;32mNone\u001b[0m\u001b[0;34m\u001b[0m\u001b[0;34m\u001b[0m\u001b[0m\n\u001b[0m\u001b[1;32m    154\u001b[0m     \u001b[0;32mfinally\u001b[0m\u001b[0;34m:\u001b[0m\u001b[0;34m\u001b[0m\u001b[0;34m\u001b[0m\u001b[0m\n\u001b[1;32m    155\u001b[0m       \u001b[0;32mdel\u001b[0m \u001b[0mfiltered_tb\u001b[0m\u001b[0;34m\u001b[0m\u001b[0;34m\u001b[0m\u001b[0m\n",
            "\u001b[0;32m/usr/local/lib/python3.10/dist-packages/keras/src/activations.py\u001b[0m in \u001b[0;36mget\u001b[0;34m(identifier)\u001b[0m\n\u001b[1;32m    689\u001b[0m             \u001b[0;32melse\u001b[0m \u001b[0;32mFalse\u001b[0m\u001b[0;34m\u001b[0m\u001b[0;34m\u001b[0m\u001b[0m\n\u001b[1;32m    690\u001b[0m         )\n\u001b[0;32m--> 691\u001b[0;31m         \u001b[0;32mreturn\u001b[0m \u001b[0mdeserialize\u001b[0m\u001b[0;34m(\u001b[0m\u001b[0midentifier\u001b[0m\u001b[0;34m,\u001b[0m \u001b[0muse_legacy_format\u001b[0m\u001b[0;34m=\u001b[0m\u001b[0muse_legacy_format\u001b[0m\u001b[0;34m)\u001b[0m\u001b[0;34m\u001b[0m\u001b[0;34m\u001b[0m\u001b[0m\n\u001b[0m\u001b[1;32m    692\u001b[0m     \u001b[0;32melif\u001b[0m \u001b[0mcallable\u001b[0m\u001b[0;34m(\u001b[0m\u001b[0midentifier\u001b[0m\u001b[0;34m)\u001b[0m\u001b[0;34m:\u001b[0m\u001b[0;34m\u001b[0m\u001b[0;34m\u001b[0m\u001b[0m\n\u001b[1;32m    693\u001b[0m         \u001b[0;32mreturn\u001b[0m \u001b[0midentifier\u001b[0m\u001b[0;34m\u001b[0m\u001b[0;34m\u001b[0m\u001b[0m\n",
            "\u001b[0;32m/usr/local/lib/python3.10/dist-packages/keras/src/activations.py\u001b[0m in \u001b[0;36mdeserialize\u001b[0;34m(name, custom_objects, use_legacy_format)\u001b[0m\n\u001b[1;32m    644\u001b[0m \u001b[0;34m\u001b[0m\u001b[0m\n\u001b[1;32m    645\u001b[0m     \u001b[0;32mif\u001b[0m \u001b[0misinstance\u001b[0m\u001b[0;34m(\u001b[0m\u001b[0mreturned_fn\u001b[0m\u001b[0;34m,\u001b[0m \u001b[0mstr\u001b[0m\u001b[0;34m)\u001b[0m\u001b[0;34m:\u001b[0m\u001b[0;34m\u001b[0m\u001b[0;34m\u001b[0m\u001b[0m\n\u001b[0;32m--> 646\u001b[0;31m         raise ValueError(\n\u001b[0m\u001b[1;32m    647\u001b[0m             \u001b[0;34mf\"Unknown activation function '{name}' cannot be deserialized.\"\u001b[0m\u001b[0;34m\u001b[0m\u001b[0;34m\u001b[0m\u001b[0m\n\u001b[1;32m    648\u001b[0m         )\n",
            "\u001b[0;31mValueError\u001b[0m: Unknown activation function 'sigmoide' cannot be deserialized."
          ]
        }
      ]
    },
    {
      "cell_type": "markdown",
      "source": [
        "sigmoide,ReLU6, tanh,elu"
      ],
      "metadata": {
        "id": "57uQUZ5Y9X5j"
      }
    },
    {
      "cell_type": "code",
      "source": [
        "model = models.Sequential()\n",
        "model.add(layers.Dense(512,activation='relu6', input_shape=(28*28,)))\n",
        "model.add(layers.Dense(10,activation='softmax'))\n",
        "model.compile(optimizer='rmsprop',\n",
        "              loss='categorical_crossentropy',\n",
        "              metrics=['accuracy', 'Precision'])\n",
        "model.summary()\n",
        "history = model.fit(x_train, y_train, epochs=20,callbacks=[tensorboardDenso], batch_size=128, validation_data=(x_test, y_test))\n",
        "\n",
        "pd.DataFrame({'loss': history.history['loss'],\n",
        "              'val_loss': history.history['val_loss']}).plot(figsize=(10, 7))\n",
        "plt.grid(True)\n",
        "plt.xlabel(\"epochs\")\n",
        "plt.show()\n",
        "model.evaluate(x_test, y_test)"
      ],
      "metadata": {
        "colab": {
          "base_uri": "https://localhost:8080/",
          "height": 1000
        },
        "id": "uSc7k7_994iL",
        "outputId": "cb7db4ed-a9e7-4846-8c7e-9b7c9a6fcc0c"
      },
      "execution_count": 62,
      "outputs": [
        {
          "output_type": "stream",
          "name": "stdout",
          "text": [
            "Model: \"sequential_9\"\n",
            "_________________________________________________________________\n",
            " Layer (type)                Output Shape              Param #   \n",
            "=================================================================\n",
            " dense_15 (Dense)            (None, 512)               401920    \n",
            "                                                                 \n",
            " dense_16 (Dense)            (None, 10)                5130      \n",
            "                                                                 \n",
            "=================================================================\n",
            "Total params: 407050 (1.55 MB)\n",
            "Trainable params: 407050 (1.55 MB)\n",
            "Non-trainable params: 0 (0.00 Byte)\n",
            "_________________________________________________________________\n",
            "Epoch 1/20\n",
            "469/469 [==============================] - 3s 5ms/step - loss: 0.2657 - accuracy: 0.9240 - precision: 0.9529 - val_loss: 0.1194 - val_accuracy: 0.9651 - val_precision: 0.9744\n",
            "Epoch 2/20\n",
            "469/469 [==============================] - 2s 4ms/step - loss: 0.1071 - accuracy: 0.9687 - precision: 0.9743 - val_loss: 0.0984 - val_accuracy: 0.9688 - val_precision: 0.9738\n",
            "Epoch 3/20\n",
            "469/469 [==============================] - 2s 4ms/step - loss: 0.0700 - accuracy: 0.9790 - precision: 0.9824 - val_loss: 0.0769 - val_accuracy: 0.9755 - val_precision: 0.9777\n",
            "Epoch 4/20\n",
            "469/469 [==============================] - 2s 5ms/step - loss: 0.0500 - accuracy: 0.9852 - precision: 0.9874 - val_loss: 0.0747 - val_accuracy: 0.9774 - val_precision: 0.9801\n",
            "Epoch 5/20\n",
            "469/469 [==============================] - 3s 5ms/step - loss: 0.0380 - accuracy: 0.9891 - precision: 0.9904 - val_loss: 0.0687 - val_accuracy: 0.9786 - val_precision: 0.9817\n",
            "Epoch 6/20\n",
            "469/469 [==============================] - 2s 4ms/step - loss: 0.0284 - accuracy: 0.9918 - precision: 0.9927 - val_loss: 0.0633 - val_accuracy: 0.9804 - val_precision: 0.9825\n",
            "Epoch 7/20\n",
            "469/469 [==============================] - 2s 4ms/step - loss: 0.0214 - accuracy: 0.9940 - precision: 0.9947 - val_loss: 0.0630 - val_accuracy: 0.9807 - val_precision: 0.9834\n",
            "Epoch 8/20\n",
            "469/469 [==============================] - 2s 4ms/step - loss: 0.0160 - accuracy: 0.9959 - precision: 0.9965 - val_loss: 0.0613 - val_accuracy: 0.9821 - val_precision: 0.9838\n",
            "Epoch 9/20\n",
            "469/469 [==============================] - 2s 4ms/step - loss: 0.0124 - accuracy: 0.9972 - precision: 0.9974 - val_loss: 0.0606 - val_accuracy: 0.9820 - val_precision: 0.9837\n",
            "Epoch 10/20\n",
            "469/469 [==============================] - 3s 5ms/step - loss: 0.0092 - accuracy: 0.9978 - precision: 0.9980 - val_loss: 0.0629 - val_accuracy: 0.9822 - val_precision: 0.9835\n",
            "Epoch 11/20\n",
            "469/469 [==============================] - 2s 4ms/step - loss: 0.0071 - accuracy: 0.9986 - precision: 0.9987 - val_loss: 0.0672 - val_accuracy: 0.9817 - val_precision: 0.9825\n",
            "Epoch 12/20\n",
            "469/469 [==============================] - 2s 5ms/step - loss: 0.0050 - accuracy: 0.9991 - precision: 0.9992 - val_loss: 0.0656 - val_accuracy: 0.9815 - val_precision: 0.9828\n",
            "Epoch 13/20\n",
            "469/469 [==============================] - 2s 5ms/step - loss: 0.0034 - accuracy: 0.9994 - precision: 0.9994 - val_loss: 0.0644 - val_accuracy: 0.9824 - val_precision: 0.9831\n",
            "Epoch 14/20\n",
            "469/469 [==============================] - 2s 5ms/step - loss: 0.0026 - accuracy: 0.9996 - precision: 0.9996 - val_loss: 0.0672 - val_accuracy: 0.9818 - val_precision: 0.9824\n",
            "Epoch 15/20\n",
            "469/469 [==============================] - 2s 5ms/step - loss: 0.0017 - accuracy: 0.9998 - precision: 0.9998 - val_loss: 0.0672 - val_accuracy: 0.9829 - val_precision: 0.9837\n",
            "Epoch 16/20\n",
            "469/469 [==============================] - 3s 5ms/step - loss: 0.0011 - accuracy: 0.9999 - precision: 0.9999 - val_loss: 0.0672 - val_accuracy: 0.9825 - val_precision: 0.9830\n",
            "Epoch 17/20\n",
            "469/469 [==============================] - 2s 4ms/step - loss: 7.8992e-04 - accuracy: 0.9999 - precision: 0.9999 - val_loss: 0.0681 - val_accuracy: 0.9837 - val_precision: 0.9843\n",
            "Epoch 18/20\n",
            "469/469 [==============================] - 2s 4ms/step - loss: 5.3792e-04 - accuracy: 1.0000 - precision: 1.0000 - val_loss: 0.0693 - val_accuracy: 0.9830 - val_precision: 0.9838\n",
            "Epoch 19/20\n",
            "469/469 [==============================] - 2s 4ms/step - loss: 4.1836e-04 - accuracy: 1.0000 - precision: 1.0000 - val_loss: 0.0678 - val_accuracy: 0.9835 - val_precision: 0.9846\n",
            "Epoch 20/20\n",
            "469/469 [==============================] - 2s 4ms/step - loss: 3.3581e-04 - accuracy: 1.0000 - precision: 1.0000 - val_loss: 0.0685 - val_accuracy: 0.9835 - val_precision: 0.9844\n"
          ]
        },
        {
          "output_type": "display_data",
          "data": {
            "text/plain": [
              "<Figure size 1000x700 with 1 Axes>"
            ],
            "image/png": "[encoded data removed]"
          },
          "metadata": {}
        },
        {
          "output_type": "stream",
          "name": "stdout",
          "text": [
            "313/313 [==============================] - 1s 3ms/step - loss: 0.0685 - accuracy: 0.9835 - precision: 0.9844\n"
          ]
        },
        {
          "output_type": "execute_result",
          "data": {
            "text/plain": [
              "[0.06852412968873978, 0.9835000038146973, 0.9843812584877014]"
            ]
          },
          "metadata": {},
          "execution_count": 62
        }
      ]
    },
    {
      "cell_type": "code",
      "source": [
        "model = models.Sequential()\n",
        "model.add(layers.Dense(512,activation='tanh', input_shape=(28*28,)))\n",
        "model.add(layers.Dense(10,activation='softmax'))\n",
        "model.compile(optimizer='rmsprop',\n",
        "              loss='categorical_crossentropy',\n",
        "              metrics=['accuracy', 'Precision'])\n",
        "model.summary()\n",
        "history = model.fit(x_train, y_train, epochs=20,callbacks=[tensorboardDenso], batch_size=128, validation_data=(x_test, y_test))\n",
        "\n",
        "pd.DataFrame({'loss': history.history['loss'],\n",
        "              'val_loss': history.history['val_loss']}).plot(figsize=(10, 7))\n",
        "plt.grid(True)\n",
        "plt.xlabel(\"epochs\")\n",
        "plt.show()\n",
        "model.evaluate(x_test, y_test)"
      ],
      "metadata": {
        "colab": {
          "base_uri": "https://localhost:8080/",
          "height": 1000
        },
        "id": "wk_PtQIS9_hV",
        "outputId": "76e7e43d-cee3-4585-f0c6-9e1052123067"
      },
      "execution_count": 63,
      "outputs": [
        {
          "output_type": "stream",
          "name": "stdout",
          "text": [
            "Model: \"sequential_10\"\n",
            "_________________________________________________________________\n",
            " Layer (type)                Output Shape              Param #   \n",
            "=================================================================\n",
            " dense_17 (Dense)            (None, 512)               401920    \n",
            "                                                                 \n",
            " dense_18 (Dense)            (None, 10)                5130      \n",
            "                                                                 \n",
            "=================================================================\n",
            "Total params: 407050 (1.55 MB)\n",
            "Trainable params: 407050 (1.55 MB)\n",
            "Non-trainable params: 0 (0.00 Byte)\n",
            "_________________________________________________________________\n",
            "Epoch 1/20\n",
            "469/469 [==============================] - 3s 5ms/step - loss: 0.3385 - accuracy: 0.8996 - precision: 0.9310 - val_loss: 0.2298 - val_accuracy: 0.9310 - val_precision: 0.9431\n",
            "Epoch 2/20\n",
            "469/469 [==============================] - 2s 4ms/step - loss: 0.1802 - accuracy: 0.9474 - precision: 0.9584 - val_loss: 0.1496 - val_accuracy: 0.9561 - val_precision: 0.9623\n",
            "Epoch 3/20\n",
            "469/469 [==============================] - 2s 5ms/step - loss: 0.1212 - accuracy: 0.9642 - precision: 0.9708 - val_loss: 0.1147 - val_accuracy: 0.9658 - val_precision: 0.9722\n",
            "Epoch 4/20\n",
            "469/469 [==============================] - 3s 6ms/step - loss: 0.0899 - accuracy: 0.9740 - precision: 0.9786 - val_loss: 0.0889 - val_accuracy: 0.9728 - val_precision: 0.9768\n",
            "Epoch 5/20\n",
            "469/469 [==============================] - 2s 4ms/step - loss: 0.0695 - accuracy: 0.9793 - precision: 0.9827 - val_loss: 0.0807 - val_accuracy: 0.9757 - val_precision: 0.9800\n",
            "Epoch 6/20\n",
            "469/469 [==============================] - 2s 4ms/step - loss: 0.0546 - accuracy: 0.9834 - precision: 0.9862 - val_loss: 0.0804 - val_accuracy: 0.9760 - val_precision: 0.9790\n",
            "Epoch 7/20\n",
            "469/469 [==============================] - 2s 4ms/step - loss: 0.0441 - accuracy: 0.9871 - precision: 0.9892 - val_loss: 0.0707 - val_accuracy: 0.9778 - val_precision: 0.9808\n",
            "Epoch 8/20\n",
            "469/469 [==============================] - 2s 4ms/step - loss: 0.0360 - accuracy: 0.9896 - precision: 0.9911 - val_loss: 0.0657 - val_accuracy: 0.9797 - val_precision: 0.9816\n",
            "Epoch 9/20\n",
            "469/469 [==============================] - 3s 6ms/step - loss: 0.0286 - accuracy: 0.9920 - precision: 0.9933 - val_loss: 0.0652 - val_accuracy: 0.9793 - val_precision: 0.9816\n",
            "Epoch 10/20\n",
            "469/469 [==============================] - 2s 4ms/step - loss: 0.0232 - accuracy: 0.9936 - precision: 0.9946 - val_loss: 0.0625 - val_accuracy: 0.9809 - val_precision: 0.9829\n",
            "Epoch 11/20\n",
            "469/469 [==============================] - 2s 4ms/step - loss: 0.0181 - accuracy: 0.9955 - precision: 0.9960 - val_loss: 0.0646 - val_accuracy: 0.9804 - val_precision: 0.9824\n",
            "Epoch 12/20\n",
            "469/469 [==============================] - 2s 4ms/step - loss: 0.0147 - accuracy: 0.9965 - precision: 0.9970 - val_loss: 0.0586 - val_accuracy: 0.9824 - val_precision: 0.9844\n",
            "Epoch 13/20\n",
            "469/469 [==============================] - 2s 4ms/step - loss: 0.0113 - accuracy: 0.9977 - precision: 0.9979 - val_loss: 0.0592 - val_accuracy: 0.9813 - val_precision: 0.9826\n",
            "Epoch 14/20\n",
            "469/469 [==============================] - 2s 5ms/step - loss: 0.0089 - accuracy: 0.9982 - precision: 0.9985 - val_loss: 0.0796 - val_accuracy: 0.9766 - val_precision: 0.9780\n",
            "Epoch 15/20\n",
            "469/469 [==============================] - 3s 5ms/step - loss: 0.0070 - accuracy: 0.9986 - precision: 0.9987 - val_loss: 0.0603 - val_accuracy: 0.9819 - val_precision: 0.9832\n",
            "Epoch 16/20\n",
            "469/469 [==============================] - 2s 4ms/step - loss: 0.0053 - accuracy: 0.9991 - precision: 0.9992 - val_loss: 0.0593 - val_accuracy: 0.9829 - val_precision: 0.9841\n",
            "Epoch 17/20\n",
            "469/469 [==============================] - 2s 4ms/step - loss: 0.0038 - accuracy: 0.9995 - precision: 0.9995 - val_loss: 0.0624 - val_accuracy: 0.9817 - val_precision: 0.9832\n",
            "Epoch 18/20\n",
            "469/469 [==============================] - 3s 6ms/step - loss: 0.0031 - accuracy: 0.9996 - precision: 0.9996 - val_loss: 0.0608 - val_accuracy: 0.9815 - val_precision: 0.9826\n",
            "Epoch 19/20\n",
            "469/469 [==============================] - 2s 5ms/step - loss: 0.0021 - accuracy: 0.9998 - precision: 0.9998 - val_loss: 0.0620 - val_accuracy: 0.9826 - val_precision: 0.9837\n",
            "Epoch 20/20\n",
            "469/469 [==============================] - 3s 6ms/step - loss: 0.0018 - accuracy: 0.9998 - precision: 0.9998 - val_loss: 0.0619 - val_accuracy: 0.9832 - val_precision: 0.9839\n"
          ]
        },
        {
          "output_type": "display_data",
          "data": {
            "text/plain": [
              "<Figure size 1000x700 with 1 Axes>"
            ],
            "image/png": "[encoded data removed]"
          },
          "metadata": {}
        },
        {
          "output_type": "stream",
          "name": "stdout",
          "text": [
            "313/313 [==============================] - 1s 3ms/step - loss: 0.0619 - accuracy: 0.9832 - precision: 0.9839\n"
          ]
        },
        {
          "output_type": "execute_result",
          "data": {
            "text/plain": [
              "[0.06189802289009094, 0.9832000136375427, 0.983877420425415]"
            ]
          },
          "metadata": {},
          "execution_count": 63
        }
      ]
    },
    {
      "cell_type": "code",
      "source": [
        "model = models.Sequential()\n",
        "model.add(layers.Dense(512,activation='elu', input_shape=(28*28,)))\n",
        "model.add(layers.Dense(10,activation='softmax'))\n",
        "model.compile(optimizer='rmsprop',\n",
        "              loss='categorical_crossentropy',\n",
        "              metrics=['accuracy', 'Precision'])\n",
        "model.summary()\n",
        "history = model.fit(x_train, y_train, epochs=20,callbacks=[tensorboardDenso], batch_size=128, validation_data=(x_test, y_test))\n",
        "\n",
        "pd.DataFrame({'loss': history.history['loss'],\n",
        "              'val_loss': history.history['val_loss']}).plot(figsize=(10, 7))\n",
        "plt.grid(True)\n",
        "plt.xlabel(\"epochs\")\n",
        "plt.show()\n",
        "model.evaluate(x_test, y_test)"
      ],
      "metadata": {
        "colab": {
          "base_uri": "https://localhost:8080/",
          "height": 1000
        },
        "id": "hPre6UqW-CzU",
        "outputId": "d63cff66-862b-4c3c-a712-a9ac64f24495"
      },
      "execution_count": 64,
      "outputs": [
        {
          "output_type": "stream",
          "name": "stdout",
          "text": [
            "Model: \"sequential_11\"\n",
            "_________________________________________________________________\n",
            " Layer (type)                Output Shape              Param #   \n",
            "=================================================================\n",
            " dense_19 (Dense)            (None, 512)               401920    \n",
            "                                                                 \n",
            " dense_20 (Dense)            (None, 10)                5130      \n",
            "                                                                 \n",
            "=================================================================\n",
            "Total params: 407050 (1.55 MB)\n",
            "Trainable params: 407050 (1.55 MB)\n",
            "Non-trainable params: 0 (0.00 Byte)\n",
            "_________________________________________________________________\n",
            "Epoch 1/20\n",
            "469/469 [==============================] - 3s 5ms/step - loss: 0.3451 - accuracy: 0.8990 - precision: 0.9298 - val_loss: 0.2736 - val_accuracy: 0.9146 - val_precision: 0.9284\n",
            "Epoch 2/20\n",
            "469/469 [==============================] - 2s 5ms/step - loss: 0.1850 - accuracy: 0.9464 - precision: 0.9574 - val_loss: 0.1417 - val_accuracy: 0.9576 - val_precision: 0.9661\n",
            "Epoch 3/20\n",
            "469/469 [==============================] - 2s 5ms/step - loss: 0.1243 - accuracy: 0.9636 - precision: 0.9698 - val_loss: 0.1203 - val_accuracy: 0.9649 - val_precision: 0.9709\n",
            "Epoch 4/20\n",
            "469/469 [==============================] - 2s 5ms/step - loss: 0.0926 - accuracy: 0.9720 - precision: 0.9767 - val_loss: 0.0892 - val_accuracy: 0.9725 - val_precision: 0.9771\n",
            "Epoch 5/20\n",
            "469/469 [==============================] - 2s 5ms/step - loss: 0.0744 - accuracy: 0.9777 - precision: 0.9809 - val_loss: 0.0887 - val_accuracy: 0.9734 - val_precision: 0.9769\n",
            "Epoch 6/20\n",
            "469/469 [==============================] - 2s 4ms/step - loss: 0.0614 - accuracy: 0.9815 - precision: 0.9841 - val_loss: 0.0765 - val_accuracy: 0.9761 - val_precision: 0.9786\n",
            "Epoch 7/20\n",
            "469/469 [==============================] - 2s 4ms/step - loss: 0.0509 - accuracy: 0.9843 - precision: 0.9865 - val_loss: 0.0859 - val_accuracy: 0.9733 - val_precision: 0.9761\n",
            "Epoch 8/20\n",
            "469/469 [==============================] - 2s 5ms/step - loss: 0.0433 - accuracy: 0.9867 - precision: 0.9882 - val_loss: 0.0780 - val_accuracy: 0.9753 - val_precision: 0.9786\n",
            "Epoch 9/20\n",
            "469/469 [==============================] - 2s 4ms/step - loss: 0.0364 - accuracy: 0.9885 - precision: 0.9900 - val_loss: 0.0688 - val_accuracy: 0.9792 - val_precision: 0.9812\n",
            "Epoch 10/20\n",
            "469/469 [==============================] - 3s 6ms/step - loss: 0.0312 - accuracy: 0.9903 - precision: 0.9915 - val_loss: 0.0635 - val_accuracy: 0.9797 - val_precision: 0.9813\n",
            "Epoch 11/20\n",
            "469/469 [==============================] - 2s 5ms/step - loss: 0.0272 - accuracy: 0.9916 - precision: 0.9926 - val_loss: 0.0716 - val_accuracy: 0.9785 - val_precision: 0.9803\n",
            "Epoch 12/20\n",
            "469/469 [==============================] - 3s 6ms/step - loss: 0.0229 - accuracy: 0.9932 - precision: 0.9938 - val_loss: 0.0712 - val_accuracy: 0.9791 - val_precision: 0.9810\n",
            "Epoch 13/20\n",
            "469/469 [==============================] - 2s 5ms/step - loss: 0.0195 - accuracy: 0.9944 - precision: 0.9950 - val_loss: 0.0746 - val_accuracy: 0.9788 - val_precision: 0.9806\n",
            "Epoch 14/20\n",
            "469/469 [==============================] - 2s 5ms/step - loss: 0.0164 - accuracy: 0.9955 - precision: 0.9958 - val_loss: 0.0672 - val_accuracy: 0.9805 - val_precision: 0.9825\n",
            "Epoch 15/20\n",
            "469/469 [==============================] - 3s 6ms/step - loss: 0.0134 - accuracy: 0.9965 - precision: 0.9969 - val_loss: 0.0724 - val_accuracy: 0.9791 - val_precision: 0.9803\n",
            "Epoch 16/20\n",
            "469/469 [==============================] - 2s 5ms/step - loss: 0.0121 - accuracy: 0.9969 - precision: 0.9970 - val_loss: 0.0706 - val_accuracy: 0.9800 - val_precision: 0.9808\n",
            "Epoch 17/20\n",
            "469/469 [==============================] - 2s 5ms/step - loss: 0.0102 - accuracy: 0.9973 - precision: 0.9975 - val_loss: 0.0716 - val_accuracy: 0.9809 - val_precision: 0.9824\n",
            "Epoch 18/20\n",
            "469/469 [==============================] - 2s 4ms/step - loss: 0.0087 - accuracy: 0.9976 - precision: 0.9977 - val_loss: 0.0742 - val_accuracy: 0.9813 - val_precision: 0.9819\n",
            "Epoch 19/20\n",
            "469/469 [==============================] - 2s 5ms/step - loss: 0.0075 - accuracy: 0.9981 - precision: 0.9982 - val_loss: 0.0772 - val_accuracy: 0.9790 - val_precision: 0.9804\n",
            "Epoch 20/20\n",
            "469/469 [==============================] - 2s 5ms/step - loss: 0.0056 - accuracy: 0.9986 - precision: 0.9987 - val_loss: 0.0770 - val_accuracy: 0.9806 - val_precision: 0.9815\n"
          ]
        },
        {
          "output_type": "display_data",
          "data": {
            "text/plain": [
              "<Figure size 1000x700 with 1 Axes>"
            ],
            "image/png": "[encoded data removed]"
          },
          "metadata": {}
        },
        {
          "output_type": "stream",
          "name": "stdout",
          "text": [
            "313/313 [==============================] - 1s 3ms/step - loss: 0.0770 - accuracy: 0.9806 - precision: 0.9815\n"
          ]
        },
        {
          "output_type": "execute_result",
          "data": {
            "text/plain": [
              "[0.07700393348932266, 0.9805999994277954, 0.9814666509628296]"
            ]
          },
          "metadata": {},
          "execution_count": 64
        }
      ]
    }
  ]
}