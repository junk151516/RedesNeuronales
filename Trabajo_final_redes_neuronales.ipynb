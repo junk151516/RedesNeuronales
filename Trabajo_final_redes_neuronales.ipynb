{
  "nbformat": 4,
  "nbformat_minor": 0,
  "metadata": {
    "colab": {
      "provenance": [],
      "gpuType": "T4",
      "include_colab_link": true
    },
    "kernelspec": {
      "name": "python3",
      "display_name": "Python 3"
    },
    "language_info": {
      "name": "python"
    },
    "accelerator": "GPU"
  },
  "cells": [
    {
      "cell_type": "markdown",
      "metadata": {
        "id": "view-in-github",
        "colab_type": "text"
      },
      "source": [
        "<a href=\"https://colab.research.google.com/github/junk151516/RedesNeuronales/blob/main/Trabajo_final_redes_neuronales.ipynb\" target=\"_parent\"><img src=\"https://colab.research.google.com/assets/colab-badge.svg\" alt=\"Open In Colab\"/></a>"
      ]
    },
    {
      "cell_type": "markdown",
      "source": [
        "Trabajo final redes neuronales\n",
        "\n",
        "\n",
        "\n",
        "\n",
        "\n",
        "\n",
        "\n",
        "\n",
        "\n",
        "Juan Carlos Estrada Montoya\n",
        "\n",
        "Ing. de Sistemas\n",
        "\n",
        "Universidad de Antioquía\n",
        "\n",
        "\n",
        "\n",
        "\n",
        "\n",
        "\n",
        "\n",
        "\n",
        "\n",
        "\n"
      ],
      "metadata": {
        "id": "UHe1UE0dE2X1"
      }
    },
    {
      "cell_type": "markdown",
      "source": [
        "<div align=\"left\">\n",
        "<p><img alt=\"Sapiencia\" height=\"140px\" src=\"https://ubicua.ingeniaudea.co/pluginfile.php/32974/coursecat/description/RF_RedesNeuronales.png\"\n",
        "\n",
        "<div align=\"left\">\n",
        "<br></br>\n",
        "<br></br>\n",
        "\n",
        "\n",
        "\n",
        "<hr size=10 noshade color=\"#663398\">\n",
        "</p>\n",
        "\n",
        "<div align=\"right\">\n",
        "\n",
        "<br>\n",
        "\n",
        "\n",
        "**El presente material hace parte de la ruta de formación del talento especializado de SAPIENCIA**\n",
        "\n",
        "**Los documentos que utilizaremos en la presente y proximas clases son una mezcla del trabajo de muchos profesores y académicos.**\n",
        "\n",
        "**En caso de utilizar el presente contenido favor citarlo y brindar los créditos respectivos.**"
      ],
      "metadata": {
        "id": "ysu802rM00Hd"
      }
    },
    {
      "cell_type": "markdown",
      "source": [
        "#**Descripción trabajo final**\n",
        "\n",
        "<p>\n",
        "  1. Analizar el código paso a paso y entenderlo y realizar una breve explicación de como funciona.<br>\n",
        "  2. Realizar módificaciones variando parámetros como la cantidad de neuronas, tipo de optimizador, funciones de activación, funciones de perdida y tamaños de entrada de la imagen.<br>\n",
        "  3. A partir del entendimiento del código en el punto 1 responda las siguientes preguntas: <br>\n",
        "  <ul>\n",
        "    <li> ¿Cual es el objetivo de categorizar los targets o labels correspondientes a cada imagen? </li>\n",
        "    <li> ¿En que me ayuda la normalización a la hora de entrenar los datos? </li>\n",
        "  </ul>\n",
        "  <p>\n",
        "  4. Realice un informe detallando los resultados obtenidos en el punto 2. El informe debe responder las siguiente preguntas:\n",
        "  <ul>\n",
        "    <li> ¿Cómo variaron los resultados con el aumento o disminución de las neuronas?</li>\n",
        "    <li> ¿Cómo cambia la presición del modelo propuesto, al cambiar la función de activación, que se logra observar de los resultados?</li>\n",
        "    <li> ¿Cuál sería a su criterio la función de activación que se adapta al presente análisis ?</li>\n",
        "    <li> ¿Cómo se comportaron los resultados de las funciones de perdidas analizadas?</li>\n",
        "    <li> ¿Mejoraron los resultados al reducir o aumentar el tamaño de entrada de la imagen?</li>\n",
        "    <li> ¿Cuál fue la mejor solución que logró encontrar y por qué?</li>\n",
        "\n",
        "  </ul>\n",
        "\n",
        "  Nota: El informe debe llevar los valores que probaron en el módelo y para lo cuál como minimo se deben analizar 4 optimizadores,4 funciones de activación, 4 funciones de perdida, 4 opciones de neuronas y tamaños de entrada de la imagen. <br>\n",
        "<p>\n",
        "  5. Concluir en que casos se debe utilizar los optimizadores,funciones de perdida, funciones de activación y tener en cuenta que se debe presentar una gráfica representativa de cada función de activación describiendo los rangos de la función y su comportamiento.\n",
        "</p>"
      ],
      "metadata": {
        "id": "RtUNRiakL2zY"
      }
    },
    {
      "cell_type": "markdown",
      "source": [
        "##**Porcentajes de calificación:**\n",
        "\n",
        "\n",
        "1.   Punto 1 : 10%\n",
        "2.   Punto 2 : 10%\n",
        "3.   Punto 3 : 10%\n",
        "4.   Punto 4 : 25%\n",
        "5.   Punto 5 : 15%\n",
        "6.   Sustentación : 30%\n",
        "\n",
        "\n"
      ],
      "metadata": {
        "id": "-oqfHnoyvk2f"
      }
    },
    {
      "cell_type": "markdown",
      "source": [
        "---"
      ],
      "metadata": {
        "id": "FVpTSK0uX6Vx"
      }
    },
    {
      "cell_type": "markdown",
      "source": [
        "### Esto le permite utilizar TensorFlow en el proyecto de aprendizaje automático y\n",
        "###realizar tareas como entrenar modelos de redes neuronales, inferencia y otras\n",
        "###herramientas que tiene la biblioteca de tensorflow."
      ],
      "metadata": {
        "id": "FfVPUqQAQ-3-"
      }
    },
    {
      "cell_type": "code",
      "execution_count": null,
      "metadata": {
        "id": "ZgbIgNa42evs",
        "colab": {
          "base_uri": "https://localhost:8080/"
        },
        "outputId": "2c8fae8d-bf73-413a-d91d-f298b0854652"
      },
      "outputs": [
        {
          "output_type": "stream",
          "name": "stdout",
          "text": [
            "Requirement already satisfied: tensorflow in /usr/local/lib/python3.10/dist-packages (2.14.0)\n",
            "Requirement already satisfied: absl-py>=1.0.0 in /usr/local/lib/python3.10/dist-packages (from tensorflow) (1.4.0)\n",
            "Requirement already satisfied: astunparse>=1.6.0 in /usr/local/lib/python3.10/dist-packages (from tensorflow) (1.6.3)\n",
            "Requirement already satisfied: flatbuffers>=23.5.26 in /usr/local/lib/python3.10/dist-packages (from tensorflow) (23.5.26)\n",
            "Requirement already satisfied: gast!=0.5.0,!=0.5.1,!=0.5.2,>=0.2.1 in /usr/local/lib/python3.10/dist-packages (from tensorflow) (0.5.4)\n",
            "Requirement already satisfied: google-pasta>=0.1.1 in /usr/local/lib/python3.10/dist-packages (from tensorflow) (0.2.0)\n",
            "Requirement already satisfied: h5py>=2.9.0 in /usr/local/lib/python3.10/dist-packages (from tensorflow) (3.9.0)\n",
            "Requirement already satisfied: libclang>=13.0.0 in /usr/local/lib/python3.10/dist-packages (from tensorflow) (16.0.6)\n",
            "Requirement already satisfied: ml-dtypes==0.2.0 in /usr/local/lib/python3.10/dist-packages (from tensorflow) (0.2.0)\n",
            "Requirement already satisfied: numpy>=1.23.5 in /usr/local/lib/python3.10/dist-packages (from tensorflow) (1.23.5)\n",
            "Requirement already satisfied: opt-einsum>=2.3.2 in /usr/local/lib/python3.10/dist-packages (from tensorflow) (3.3.0)\n",
            "Requirement already satisfied: packaging in /usr/local/lib/python3.10/dist-packages (from tensorflow) (23.2)\n",
            "Requirement already satisfied: protobuf!=4.21.0,!=4.21.1,!=4.21.2,!=4.21.3,!=4.21.4,!=4.21.5,<5.0.0dev,>=3.20.3 in /usr/local/lib/python3.10/dist-packages (from tensorflow) (3.20.3)\n",
            "Requirement already satisfied: setuptools in /usr/local/lib/python3.10/dist-packages (from tensorflow) (67.7.2)\n",
            "Requirement already satisfied: six>=1.12.0 in /usr/local/lib/python3.10/dist-packages (from tensorflow) (1.16.0)\n",
            "Requirement already satisfied: termcolor>=1.1.0 in /usr/local/lib/python3.10/dist-packages (from tensorflow) (2.3.0)\n",
            "Requirement already satisfied: typing-extensions>=3.6.6 in /usr/local/lib/python3.10/dist-packages (from tensorflow) (4.5.0)\n",
            "Requirement already satisfied: wrapt<1.15,>=1.11.0 in /usr/local/lib/python3.10/dist-packages (from tensorflow) (1.14.1)\n",
            "Requirement already satisfied: tensorflow-io-gcs-filesystem>=0.23.1 in /usr/local/lib/python3.10/dist-packages (from tensorflow) (0.34.0)\n",
            "Requirement already satisfied: grpcio<2.0,>=1.24.3 in /usr/local/lib/python3.10/dist-packages (from tensorflow) (1.59.0)\n",
            "Requirement already satisfied: tensorboard<2.15,>=2.14 in /usr/local/lib/python3.10/dist-packages (from tensorflow) (2.14.1)\n",
            "Requirement already satisfied: tensorflow-estimator<2.15,>=2.14.0 in /usr/local/lib/python3.10/dist-packages (from tensorflow) (2.14.0)\n",
            "Requirement already satisfied: keras<2.15,>=2.14.0 in /usr/local/lib/python3.10/dist-packages (from tensorflow) (2.14.0)\n",
            "Requirement already satisfied: wheel<1.0,>=0.23.0 in /usr/local/lib/python3.10/dist-packages (from astunparse>=1.6.0->tensorflow) (0.41.2)\n",
            "Requirement already satisfied: google-auth<3,>=1.6.3 in /usr/local/lib/python3.10/dist-packages (from tensorboard<2.15,>=2.14->tensorflow) (2.17.3)\n",
            "Requirement already satisfied: google-auth-oauthlib<1.1,>=0.5 in /usr/local/lib/python3.10/dist-packages (from tensorboard<2.15,>=2.14->tensorflow) (1.0.0)\n",
            "Requirement already satisfied: markdown>=2.6.8 in /usr/local/lib/python3.10/dist-packages (from tensorboard<2.15,>=2.14->tensorflow) (3.5)\n",
            "Requirement already satisfied: requests<3,>=2.21.0 in /usr/local/lib/python3.10/dist-packages (from tensorboard<2.15,>=2.14->tensorflow) (2.31.0)\n",
            "Requirement already satisfied: tensorboard-data-server<0.8.0,>=0.7.0 in /usr/local/lib/python3.10/dist-packages (from tensorboard<2.15,>=2.14->tensorflow) (0.7.2)\n",
            "Requirement already satisfied: werkzeug>=1.0.1 in /usr/local/lib/python3.10/dist-packages (from tensorboard<2.15,>=2.14->tensorflow) (3.0.1)\n",
            "Requirement already satisfied: cachetools<6.0,>=2.0.0 in /usr/local/lib/python3.10/dist-packages (from google-auth<3,>=1.6.3->tensorboard<2.15,>=2.14->tensorflow) (5.3.2)\n",
            "Requirement already satisfied: pyasn1-modules>=0.2.1 in /usr/local/lib/python3.10/dist-packages (from google-auth<3,>=1.6.3->tensorboard<2.15,>=2.14->tensorflow) (0.3.0)\n",
            "Requirement already satisfied: rsa<5,>=3.1.4 in /usr/local/lib/python3.10/dist-packages (from google-auth<3,>=1.6.3->tensorboard<2.15,>=2.14->tensorflow) (4.9)\n",
            "Requirement already satisfied: requests-oauthlib>=0.7.0 in /usr/local/lib/python3.10/dist-packages (from google-auth-oauthlib<1.1,>=0.5->tensorboard<2.15,>=2.14->tensorflow) (1.3.1)\n",
            "Requirement already satisfied: charset-normalizer<4,>=2 in /usr/local/lib/python3.10/dist-packages (from requests<3,>=2.21.0->tensorboard<2.15,>=2.14->tensorflow) (3.3.1)\n",
            "Requirement already satisfied: idna<4,>=2.5 in /usr/local/lib/python3.10/dist-packages (from requests<3,>=2.21.0->tensorboard<2.15,>=2.14->tensorflow) (3.4)\n",
            "Requirement already satisfied: urllib3<3,>=1.21.1 in /usr/local/lib/python3.10/dist-packages (from requests<3,>=2.21.0->tensorboard<2.15,>=2.14->tensorflow) (2.0.7)\n",
            "Requirement already satisfied: certifi>=2017.4.17 in /usr/local/lib/python3.10/dist-packages (from requests<3,>=2.21.0->tensorboard<2.15,>=2.14->tensorflow) (2023.7.22)\n",
            "Requirement already satisfied: MarkupSafe>=2.1.1 in /usr/local/lib/python3.10/dist-packages (from werkzeug>=1.0.1->tensorboard<2.15,>=2.14->tensorflow) (2.1.3)\n",
            "Requirement already satisfied: pyasn1<0.6.0,>=0.4.6 in /usr/local/lib/python3.10/dist-packages (from pyasn1-modules>=0.2.1->google-auth<3,>=1.6.3->tensorboard<2.15,>=2.14->tensorflow) (0.5.0)\n",
            "Requirement already satisfied: oauthlib>=3.0.0 in /usr/local/lib/python3.10/dist-packages (from requests-oauthlib>=0.7.0->google-auth-oauthlib<1.1,>=0.5->tensorboard<2.15,>=2.14->tensorflow) (3.2.2)\n"
          ]
        }
      ],
      "source": [
        "pip install tensorflow"
      ]
    },
    {
      "cell_type": "markdown",
      "source": [
        "### Aquí se instala la librería de Keras, según Platzi \"se usa para crear prototipos\n",
        "### rápidamente y de manera fácil, pues está pensada para que sea fácil de usar\",\n",
        "### por lo tanto funciona como puente a repositorios donde se alojan ejemplos de redes a usar"
      ],
      "metadata": {
        "id": "SfJzQX_PAffF"
      }
    },
    {
      "cell_type": "code",
      "source": [
        "pip install keras"
      ],
      "metadata": {
        "colab": {
          "base_uri": "https://localhost:8080/"
        },
        "id": "oOKDrhs049Ti",
        "outputId": "2897e231-54f4-4f30-a99a-1b9578305960"
      },
      "execution_count": null,
      "outputs": [
        {
          "output_type": "stream",
          "name": "stdout",
          "text": [
            "Requirement already satisfied: keras in /usr/local/lib/python3.10/dist-packages (2.14.0)\n"
          ]
        }
      ]
    },
    {
      "cell_type": "code",
      "source": [
        "## aqui se instancia a numpy como np, para poder usar calculos numericos y el analisis de datos\n",
        "import numpy as np\n",
        "# se importa las capas(layers) y modelos(models) de Keras\n",
        "from keras import layers, models\n",
        "# La función to_categorical se utiliza para convertir etiquetas categóricas en un formato apropiado para entrenar modelos de aprendizaje profundo.\n",
        "from keras.utils import to_categorical\n",
        "# aqui importa el dataset mnist, que es un conjunto de datos para reconocimiento de dijitos escritos a mano\n",
        "from keras.datasets import mnist\n",
        "#se importa pyplot como plt para la creacion de graficos y vusualizacion de datos\n",
        "import matplotlib.pyplot as plt\n",
        "#se importa pandas como pd para la manipulación y análisis de datos\n",
        "import pandas as pd"
      ],
      "metadata": {
        "id": "GDOSj3865Syn"
      },
      "execution_count": null,
      "outputs": []
    },
    {
      "cell_type": "code",
      "source": [
        "#con esta línea descargo de los datos de entrenamientos y de test de la librería mnist dichos datos estan divididos por tuplas donde cada dato se corresponde con su etiqueta\n",
        "(train_data, train_labels), (test_data, test_labels) =mnist.load_data()\n",
        "# Aplana las imágenes ; convierte cada imagen bidimensional en un vector unidimensional.\n",
        "train_data_flattened = train_data.reshape(train_data.shape[0], -1)\n",
        "#se crea un DataFrame en el que se pueden realizar diversas operaciones de análisis de datos.\n",
        "train_data_df = pd.DataFrame(train_data_flattened)"
      ],
      "metadata": {
        "id": "UzDwuO3CLHRP",
        "colab": {
          "base_uri": "https://localhost:8080/"
        },
        "outputId": "efb983c3-c9c5-42e8-806c-f4fc2b4b5025"
      },
      "execution_count": null,
      "outputs": [
        {
          "output_type": "stream",
          "name": "stdout",
          "text": [
            "Downloading data from https://storage.googleapis.com/tensorflow/tf-keras-datasets/mnist.npz\n",
            "11490434/11490434 [==============================] - 0s 0us/step\n"
          ]
        }
      ]
    },
    {
      "cell_type": "code",
      "source": [
        "#se muestra el arreglo de matrices que contiene los datos de entrenamiento\n",
        "train_data"
      ],
      "metadata": {
        "id": "0ID-YTAHLNUm",
        "colab": {
          "base_uri": "https://localhost:8080/"
        },
        "outputId": "ed84ba97-1d3e-4c22-b4a0-982c6bd06929"
      },
      "execution_count": null,
      "outputs": [
        {
          "output_type": "execute_result",
          "data": {
            "text/plain": [
              "array([[[0, 0, 0, ..., 0, 0, 0],\n",
              "        [0, 0, 0, ..., 0, 0, 0],\n",
              "        [0, 0, 0, ..., 0, 0, 0],\n",
              "        ...,\n",
              "        [0, 0, 0, ..., 0, 0, 0],\n",
              "        [0, 0, 0, ..., 0, 0, 0],\n",
              "        [0, 0, 0, ..., 0, 0, 0]],\n",
              "\n",
              "       [[0, 0, 0, ..., 0, 0, 0],\n",
              "        [0, 0, 0, ..., 0, 0, 0],\n",
              "        [0, 0, 0, ..., 0, 0, 0],\n",
              "        ...,\n",
              "        [0, 0, 0, ..., 0, 0, 0],\n",
              "        [0, 0, 0, ..., 0, 0, 0],\n",
              "        [0, 0, 0, ..., 0, 0, 0]],\n",
              "\n",
              "       [[0, 0, 0, ..., 0, 0, 0],\n",
              "        [0, 0, 0, ..., 0, 0, 0],\n",
              "        [0, 0, 0, ..., 0, 0, 0],\n",
              "        ...,\n",
              "        [0, 0, 0, ..., 0, 0, 0],\n",
              "        [0, 0, 0, ..., 0, 0, 0],\n",
              "        [0, 0, 0, ..., 0, 0, 0]],\n",
              "\n",
              "       ...,\n",
              "\n",
              "       [[0, 0, 0, ..., 0, 0, 0],\n",
              "        [0, 0, 0, ..., 0, 0, 0],\n",
              "        [0, 0, 0, ..., 0, 0, 0],\n",
              "        ...,\n",
              "        [0, 0, 0, ..., 0, 0, 0],\n",
              "        [0, 0, 0, ..., 0, 0, 0],\n",
              "        [0, 0, 0, ..., 0, 0, 0]],\n",
              "\n",
              "       [[0, 0, 0, ..., 0, 0, 0],\n",
              "        [0, 0, 0, ..., 0, 0, 0],\n",
              "        [0, 0, 0, ..., 0, 0, 0],\n",
              "        ...,\n",
              "        [0, 0, 0, ..., 0, 0, 0],\n",
              "        [0, 0, 0, ..., 0, 0, 0],\n",
              "        [0, 0, 0, ..., 0, 0, 0]],\n",
              "\n",
              "       [[0, 0, 0, ..., 0, 0, 0],\n",
              "        [0, 0, 0, ..., 0, 0, 0],\n",
              "        [0, 0, 0, ..., 0, 0, 0],\n",
              "        ...,\n",
              "        [0, 0, 0, ..., 0, 0, 0],\n",
              "        [0, 0, 0, ..., 0, 0, 0],\n",
              "        [0, 0, 0, ..., 0, 0, 0]]], dtype=uint8)"
            ]
          },
          "metadata": {},
          "execution_count": 12
        }
      ]
    },
    {
      "cell_type": "code",
      "source": [
        "#muestra las primeras 10 filas del dataframe, se puede visualizar que tiene 783 columnas que corresponden la imagen aplanada de 28 x 28 = 784 y como la columna 0 ....\n",
        "train_data_df.head(10)"
      ],
      "metadata": {
        "colab": {
          "base_uri": "https://localhost:8080/",
          "height": 392
        },
        "id": "GXfjzxnzIuQA",
        "outputId": "9face808-e0e6-4489-cceb-4196bca9dcc1"
      },
      "execution_count": null,
      "outputs": [
        {
          "output_type": "execute_result",
          "data": {
            "text/plain": [
              "   0    1    2    3    4    5    6    7    8    9    ...  774  775  776  777  \\\n",
              "0    0    0    0    0    0    0    0    0    0    0  ...    0    0    0    0   \n",
              "1    0    0    0    0    0    0    0    0    0    0  ...    0    0    0    0   \n",
              "2    0    0    0    0    0    0    0    0    0    0  ...    0    0    0    0   \n",
              "3    0    0    0    0    0    0    0    0    0    0  ...    0    0    0    0   \n",
              "4    0    0    0    0    0    0    0    0    0    0  ...    0    0    0    0   \n",
              "5    0    0    0    0    0    0    0    0    0    0  ...    0    0    0    0   \n",
              "6    0    0    0    0    0    0    0    0    0    0  ...    0    0    0    0   \n",
              "7    0    0    0    0    0    0    0    0    0    0  ...    0    0    0    0   \n",
              "8    0    0    0    0    0    0    0    0    0    0  ...    0    0    0    0   \n",
              "9    0    0    0    0    0    0    0    0    0    0  ...    0    0    0    0   \n",
              "\n",
              "   778  779  780  781  782  783  \n",
              "0    0    0    0    0    0    0  \n",
              "1    0    0    0    0    0    0  \n",
              "2    0    0    0    0    0    0  \n",
              "3    0    0    0    0    0    0  \n",
              "4    0    0    0    0    0    0  \n",
              "5    0    0    0    0    0    0  \n",
              "6    0    0    0    0    0    0  \n",
              "7    0    0    0    0    0    0  \n",
              "8    0    0    0    0    0    0  \n",
              "9    0    0    0    0    0    0  \n",
              "\n",
              "[10 rows x 784 columns]"
            ],
            "text/html": [
              "\n",
              "  <div id=\"df-89d34a70-186d-4143-b253-b4b79a25ecf7\" class=\"colab-df-container\">\n",
              "    <div>\n",
              "<style scoped>\n",
              "    .dataframe tbody tr th:only-of-type {\n",
              "        vertical-align: middle;\n",
              "    }\n",
              "\n",
              "    .dataframe tbody tr th {\n",
              "        vertical-align: top;\n",
              "    }\n",
              "\n",
              "    .dataframe thead th {\n",
              "        text-align: right;\n",
              "    }\n",
              "</style>\n",
              "<table border=\"1\" class=\"dataframe\">\n",
              "  <thead>\n",
              "    <tr style=\"text-align: right;\">\n",
              "      <th></th>\n",
              "      <th>0</th>\n",
              "      <th>1</th>\n",
              "      <th>2</th>\n",
              "      <th>3</th>\n",
              "      <th>4</th>\n",
              "      <th>5</th>\n",
              "      <th>6</th>\n",
              "      <th>7</th>\n",
              "      <th>8</th>\n",
              "      <th>9</th>\n",
              "      <th>...</th>\n",
              "      <th>774</th>\n",
              "      <th>775</th>\n",
              "      <th>776</th>\n",
              "      <th>777</th>\n",
              "      <th>778</th>\n",
              "      <th>779</th>\n",
              "      <th>780</th>\n",
              "      <th>781</th>\n",
              "      <th>782</th>\n",
              "      <th>783</th>\n",
              "    </tr>\n",
              "  </thead>\n",
              "  <tbody>\n",
              "    <tr>\n",
              "      <th>0</th>\n",
              "      <td>0</td>\n",
              "      <td>0</td>\n",
              "      <td>0</td>\n",
              "      <td>0</td>\n",
              "      <td>0</td>\n",
              "      <td>0</td>\n",
              "      <td>0</td>\n",
              "      <td>0</td>\n",
              "      <td>0</td>\n",
              "      <td>0</td>\n",
              "      <td>...</td>\n",
              "      <td>0</td>\n",
              "      <td>0</td>\n",
              "      <td>0</td>\n",
              "      <td>0</td>\n",
              "      <td>0</td>\n",
              "      <td>0</td>\n",
              "      <td>0</td>\n",
              "      <td>0</td>\n",
              "      <td>0</td>\n",
              "      <td>0</td>\n",
              "    </tr>\n",
              "    <tr>\n",
              "      <th>1</th>\n",
              "      <td>0</td>\n",
              "      <td>0</td>\n",
              "      <td>0</td>\n",
              "      <td>0</td>\n",
              "      <td>0</td>\n",
              "      <td>0</td>\n",
              "      <td>0</td>\n",
              "      <td>0</td>\n",
              "      <td>0</td>\n",
              "      <td>0</td>\n",
              "      <td>...</td>\n",
              "      <td>0</td>\n",
              "      <td>0</td>\n",
              "      <td>0</td>\n",
              "      <td>0</td>\n",
              "      <td>0</td>\n",
              "      <td>0</td>\n",
              "      <td>0</td>\n",
              "      <td>0</td>\n",
              "      <td>0</td>\n",
              "      <td>0</td>\n",
              "    </tr>\n",
              "    <tr>\n",
              "      <th>2</th>\n",
              "      <td>0</td>\n",
              "      <td>0</td>\n",
              "      <td>0</td>\n",
              "      <td>0</td>\n",
              "      <td>0</td>\n",
              "      <td>0</td>\n",
              "      <td>0</td>\n",
              "      <td>0</td>\n",
              "      <td>0</td>\n",
              "      <td>0</td>\n",
              "      <td>...</td>\n",
              "      <td>0</td>\n",
              "      <td>0</td>\n",
              "      <td>0</td>\n",
              "      <td>0</td>\n",
              "      <td>0</td>\n",
              "      <td>0</td>\n",
              "      <td>0</td>\n",
              "      <td>0</td>\n",
              "      <td>0</td>\n",
              "      <td>0</td>\n",
              "    </tr>\n",
              "    <tr>\n",
              "      <th>3</th>\n",
              "      <td>0</td>\n",
              "      <td>0</td>\n",
              "      <td>0</td>\n",
              "      <td>0</td>\n",
              "      <td>0</td>\n",
              "      <td>0</td>\n",
              "      <td>0</td>\n",
              "      <td>0</td>\n",
              "      <td>0</td>\n",
              "      <td>0</td>\n",
              "      <td>...</td>\n",
              "      <td>0</td>\n",
              "      <td>0</td>\n",
              "      <td>0</td>\n",
              "      <td>0</td>\n",
              "      <td>0</td>\n",
              "      <td>0</td>\n",
              "      <td>0</td>\n",
              "      <td>0</td>\n",
              "      <td>0</td>\n",
              "      <td>0</td>\n",
              "    </tr>\n",
              "    <tr>\n",
              "      <th>4</th>\n",
              "      <td>0</td>\n",
              "      <td>0</td>\n",
              "      <td>0</td>\n",
              "      <td>0</td>\n",
              "      <td>0</td>\n",
              "      <td>0</td>\n",
              "      <td>0</td>\n",
              "      <td>0</td>\n",
              "      <td>0</td>\n",
              "      <td>0</td>\n",
              "      <td>...</td>\n",
              "      <td>0</td>\n",
              "      <td>0</td>\n",
              "      <td>0</td>\n",
              "      <td>0</td>\n",
              "      <td>0</td>\n",
              "      <td>0</td>\n",
              "      <td>0</td>\n",
              "      <td>0</td>\n",
              "      <td>0</td>\n",
              "      <td>0</td>\n",
              "    </tr>\n",
              "    <tr>\n",
              "      <th>5</th>\n",
              "      <td>0</td>\n",
              "      <td>0</td>\n",
              "      <td>0</td>\n",
              "      <td>0</td>\n",
              "      <td>0</td>\n",
              "      <td>0</td>\n",
              "      <td>0</td>\n",
              "      <td>0</td>\n",
              "      <td>0</td>\n",
              "      <td>0</td>\n",
              "      <td>...</td>\n",
              "      <td>0</td>\n",
              "      <td>0</td>\n",
              "      <td>0</td>\n",
              "      <td>0</td>\n",
              "      <td>0</td>\n",
              "      <td>0</td>\n",
              "      <td>0</td>\n",
              "      <td>0</td>\n",
              "      <td>0</td>\n",
              "      <td>0</td>\n",
              "    </tr>\n",
              "    <tr>\n",
              "      <th>6</th>\n",
              "      <td>0</td>\n",
              "      <td>0</td>\n",
              "      <td>0</td>\n",
              "      <td>0</td>\n",
              "      <td>0</td>\n",
              "      <td>0</td>\n",
              "      <td>0</td>\n",
              "      <td>0</td>\n",
              "      <td>0</td>\n",
              "      <td>0</td>\n",
              "      <td>...</td>\n",
              "      <td>0</td>\n",
              "      <td>0</td>\n",
              "      <td>0</td>\n",
              "      <td>0</td>\n",
              "      <td>0</td>\n",
              "      <td>0</td>\n",
              "      <td>0</td>\n",
              "      <td>0</td>\n",
              "      <td>0</td>\n",
              "      <td>0</td>\n",
              "    </tr>\n",
              "    <tr>\n",
              "      <th>7</th>\n",
              "      <td>0</td>\n",
              "      <td>0</td>\n",
              "      <td>0</td>\n",
              "      <td>0</td>\n",
              "      <td>0</td>\n",
              "      <td>0</td>\n",
              "      <td>0</td>\n",
              "      <td>0</td>\n",
              "      <td>0</td>\n",
              "      <td>0</td>\n",
              "      <td>...</td>\n",
              "      <td>0</td>\n",
              "      <td>0</td>\n",
              "      <td>0</td>\n",
              "      <td>0</td>\n",
              "      <td>0</td>\n",
              "      <td>0</td>\n",
              "      <td>0</td>\n",
              "      <td>0</td>\n",
              "      <td>0</td>\n",
              "      <td>0</td>\n",
              "    </tr>\n",
              "    <tr>\n",
              "      <th>8</th>\n",
              "      <td>0</td>\n",
              "      <td>0</td>\n",
              "      <td>0</td>\n",
              "      <td>0</td>\n",
              "      <td>0</td>\n",
              "      <td>0</td>\n",
              "      <td>0</td>\n",
              "      <td>0</td>\n",
              "      <td>0</td>\n",
              "      <td>0</td>\n",
              "      <td>...</td>\n",
              "      <td>0</td>\n",
              "      <td>0</td>\n",
              "      <td>0</td>\n",
              "      <td>0</td>\n",
              "      <td>0</td>\n",
              "      <td>0</td>\n",
              "      <td>0</td>\n",
              "      <td>0</td>\n",
              "      <td>0</td>\n",
              "      <td>0</td>\n",
              "    </tr>\n",
              "    <tr>\n",
              "      <th>9</th>\n",
              "      <td>0</td>\n",
              "      <td>0</td>\n",
              "      <td>0</td>\n",
              "      <td>0</td>\n",
              "      <td>0</td>\n",
              "      <td>0</td>\n",
              "      <td>0</td>\n",
              "      <td>0</td>\n",
              "      <td>0</td>\n",
              "      <td>0</td>\n",
              "      <td>...</td>\n",
              "      <td>0</td>\n",
              "      <td>0</td>\n",
              "      <td>0</td>\n",
              "      <td>0</td>\n",
              "      <td>0</td>\n",
              "      <td>0</td>\n",
              "      <td>0</td>\n",
              "      <td>0</td>\n",
              "      <td>0</td>\n",
              "      <td>0</td>\n",
              "    </tr>\n",
              "  </tbody>\n",
              "</table>\n",
              "<p>10 rows × 784 columns</p>\n",
              "</div>\n",
              "    <div class=\"colab-df-buttons\">\n",
              "\n",
              "  <div class=\"colab-df-container\">\n",
              "    <button class=\"colab-df-convert\" onclick=\"convertToInteractive('df-89d34a70-186d-4143-b253-b4b79a25ecf7')\"\n",
              "            title=\"Convert this dataframe to an interactive table.\"\n",
              "            style=\"display:none;\">\n",
              "\n",
              "  <svg xmlns=\"http://www.w3.org/2000/svg\" height=\"24px\" viewBox=\"0 -960 960 960\">\n",
              "    <path d=\"M120-120v-720h720v720H120Zm60-500h600v-160H180v160Zm220 220h160v-160H400v160Zm0 220h160v-160H400v160ZM180-400h160v-160H180v160Zm440 0h160v-160H620v160ZM180-180h160v-160H180v160Zm440 0h160v-160H620v160Z\"/>\n",
              "  </svg>\n",
              "    </button>\n",
              "\n",
              "  <style>\n",
              "    .colab-df-container {\n",
              "      display:flex;\n",
              "      gap: 12px;\n",
              "    }\n",
              "\n",
              "    .colab-df-convert {\n",
              "      background-color: #E8F0FE;\n",
              "      border: none;\n",
              "      border-radius: 50%;\n",
              "      cursor: pointer;\n",
              "      display: none;\n",
              "      fill: #1967D2;\n",
              "      height: 32px;\n",
              "      padding: 0 0 0 0;\n",
              "      width: 32px;\n",
              "    }\n",
              "\n",
              "    .colab-df-convert:hover {\n",
              "      background-color: #E2EBFA;\n",
              "      box-shadow: 0px 1px 2px rgba(60, 64, 67, 0.3), 0px 1px 3px 1px rgba(60, 64, 67, 0.15);\n",
              "      fill: #174EA6;\n",
              "    }\n",
              "\n",
              "    .colab-df-buttons div {\n",
              "      margin-bottom: 4px;\n",
              "    }\n",
              "\n",
              "    [theme=dark] .colab-df-convert {\n",
              "      background-color: #3B4455;\n",
              "      fill: #D2E3FC;\n",
              "    }\n",
              "\n",
              "    [theme=dark] .colab-df-convert:hover {\n",
              "      background-color: #434B5C;\n",
              "      box-shadow: 0px 1px 3px 1px rgba(0, 0, 0, 0.15);\n",
              "      filter: drop-shadow(0px 1px 2px rgba(0, 0, 0, 0.3));\n",
              "      fill: #FFFFFF;\n",
              "    }\n",
              "  </style>\n",
              "\n",
              "    <script>\n",
              "      const buttonEl =\n",
              "        document.querySelector('#df-89d34a70-186d-4143-b253-b4b79a25ecf7 button.colab-df-convert');\n",
              "      buttonEl.style.display =\n",
              "        google.colab.kernel.accessAllowed ? 'block' : 'none';\n",
              "\n",
              "      async function convertToInteractive(key) {\n",
              "        const element = document.querySelector('#df-89d34a70-186d-4143-b253-b4b79a25ecf7');\n",
              "        const dataTable =\n",
              "          await google.colab.kernel.invokeFunction('convertToInteractive',\n",
              "                                                    [key], {});\n",
              "        if (!dataTable) return;\n",
              "\n",
              "        const docLinkHtml = 'Like what you see? Visit the ' +\n",
              "          '<a target=\"_blank\" href=https://colab.research.google.com/notebooks/data_table.ipynb>data table notebook</a>'\n",
              "          + ' to learn more about interactive tables.';\n",
              "        element.innerHTML = '';\n",
              "        dataTable['output_type'] = 'display_data';\n",
              "        await google.colab.output.renderOutput(dataTable, element);\n",
              "        const docLink = document.createElement('div');\n",
              "        docLink.innerHTML = docLinkHtml;\n",
              "        element.appendChild(docLink);\n",
              "      }\n",
              "    </script>\n",
              "  </div>\n",
              "\n",
              "\n",
              "<div id=\"df-36df7b27-ee9a-4210-b562-091384f4bf70\">\n",
              "  <button class=\"colab-df-quickchart\" onclick=\"quickchart('df-36df7b27-ee9a-4210-b562-091384f4bf70')\"\n",
              "            title=\"Suggest charts.\"\n",
              "            style=\"display:none;\">\n",
              "\n",
              "<svg xmlns=\"http://www.w3.org/2000/svg\" height=\"24px\"viewBox=\"0 0 24 24\"\n",
              "     width=\"24px\">\n",
              "    <g>\n",
              "        <path d=\"M19 3H5c-1.1 0-2 .9-2 2v14c0 1.1.9 2 2 2h14c1.1 0 2-.9 2-2V5c0-1.1-.9-2-2-2zM9 17H7v-7h2v7zm4 0h-2V7h2v10zm4 0h-2v-4h2v4z\"/>\n",
              "    </g>\n",
              "</svg>\n",
              "  </button>\n",
              "\n",
              "<style>\n",
              "  .colab-df-quickchart {\n",
              "      --bg-color: #E8F0FE;\n",
              "      --fill-color: #1967D2;\n",
              "      --hover-bg-color: #E2EBFA;\n",
              "      --hover-fill-color: #174EA6;\n",
              "      --disabled-fill-color: #AAA;\n",
              "      --disabled-bg-color: #DDD;\n",
              "  }\n",
              "\n",
              "  [theme=dark] .colab-df-quickchart {\n",
              "      --bg-color: #3B4455;\n",
              "      --fill-color: #D2E3FC;\n",
              "      --hover-bg-color: #434B5C;\n",
              "      --hover-fill-color: #FFFFFF;\n",
              "      --disabled-bg-color: #3B4455;\n",
              "      --disabled-fill-color: #666;\n",
              "  }\n",
              "\n",
              "  .colab-df-quickchart {\n",
              "    background-color: var(--bg-color);\n",
              "    border: none;\n",
              "    border-radius: 50%;\n",
              "    cursor: pointer;\n",
              "    display: none;\n",
              "    fill: var(--fill-color);\n",
              "    height: 32px;\n",
              "    padding: 0;\n",
              "    width: 32px;\n",
              "  }\n",
              "\n",
              "  .colab-df-quickchart:hover {\n",
              "    background-color: var(--hover-bg-color);\n",
              "    box-shadow: 0 1px 2px rgba(60, 64, 67, 0.3), 0 1px 3px 1px rgba(60, 64, 67, 0.15);\n",
              "    fill: var(--button-hover-fill-color);\n",
              "  }\n",
              "\n",
              "  .colab-df-quickchart-complete:disabled,\n",
              "  .colab-df-quickchart-complete:disabled:hover {\n",
              "    background-color: var(--disabled-bg-color);\n",
              "    fill: var(--disabled-fill-color);\n",
              "    box-shadow: none;\n",
              "  }\n",
              "\n",
              "  .colab-df-spinner {\n",
              "    border: 2px solid var(--fill-color);\n",
              "    border-color: transparent;\n",
              "    border-bottom-color: var(--fill-color);\n",
              "    animation:\n",
              "      spin 1s steps(1) infinite;\n",
              "  }\n",
              "\n",
              "  @keyframes spin {\n",
              "    0% {\n",
              "      border-color: transparent;\n",
              "      border-bottom-color: var(--fill-color);\n",
              "      border-left-color: var(--fill-color);\n",
              "    }\n",
              "    20% {\n",
              "      border-color: transparent;\n",
              "      border-left-color: var(--fill-color);\n",
              "      border-top-color: var(--fill-color);\n",
              "    }\n",
              "    30% {\n",
              "      border-color: transparent;\n",
              "      border-left-color: var(--fill-color);\n",
              "      border-top-color: var(--fill-color);\n",
              "      border-right-color: var(--fill-color);\n",
              "    }\n",
              "    40% {\n",
              "      border-color: transparent;\n",
              "      border-right-color: var(--fill-color);\n",
              "      border-top-color: var(--fill-color);\n",
              "    }\n",
              "    60% {\n",
              "      border-color: transparent;\n",
              "      border-right-color: var(--fill-color);\n",
              "    }\n",
              "    80% {\n",
              "      border-color: transparent;\n",
              "      border-right-color: var(--fill-color);\n",
              "      border-bottom-color: var(--fill-color);\n",
              "    }\n",
              "    90% {\n",
              "      border-color: transparent;\n",
              "      border-bottom-color: var(--fill-color);\n",
              "    }\n",
              "  }\n",
              "</style>\n",
              "\n",
              "  <script>\n",
              "    async function quickchart(key) {\n",
              "      const quickchartButtonEl =\n",
              "        document.querySelector('#' + key + ' button');\n",
              "      quickchartButtonEl.disabled = true;  // To prevent multiple clicks.\n",
              "      quickchartButtonEl.classList.add('colab-df-spinner');\n",
              "      try {\n",
              "        const charts = await google.colab.kernel.invokeFunction(\n",
              "            'suggestCharts', [key], {});\n",
              "      } catch (error) {\n",
              "        console.error('Error during call to suggestCharts:', error);\n",
              "      }\n",
              "      quickchartButtonEl.classList.remove('colab-df-spinner');\n",
              "      quickchartButtonEl.classList.add('colab-df-quickchart-complete');\n",
              "    }\n",
              "    (() => {\n",
              "      let quickchartButtonEl =\n",
              "        document.querySelector('#df-36df7b27-ee9a-4210-b562-091384f4bf70 button');\n",
              "      quickchartButtonEl.style.display =\n",
              "        google.colab.kernel.accessAllowed ? 'block' : 'none';\n",
              "    })();\n",
              "  </script>\n",
              "</div>\n",
              "    </div>\n",
              "  </div>\n"
            ]
          },
          "metadata": {},
          "execution_count": 13
        }
      ]
    },
    {
      "cell_type": "code",
      "source": [
        "#muestra la forma y dimenciones del dataframe en este caso tiene 60.000 filas x 784 columnas, es decir 60.000 datos de entrenamiento y los 784 pixeles de cada imagen\n",
        "train_data_df.shape"
      ],
      "metadata": {
        "id": "oKLfyhekLgjN",
        "colab": {
          "base_uri": "https://localhost:8080/"
        },
        "outputId": "f0d0b4dc-1822-462c-c32c-0d470f55ed22"
      },
      "execution_count": null,
      "outputs": [
        {
          "output_type": "execute_result",
          "data": {
            "text/plain": [
              "(60000, 784)"
            ]
          },
          "metadata": {},
          "execution_count": 14
        }
      ]
    },
    {
      "cell_type": "code",
      "source": [
        "#aqui se puede apreciar que los datos de entrenamiento originales son 60.000 en matrices de 28 x 28 pixeles\n",
        "train_data.shape"
      ],
      "metadata": {
        "id": "Cp_iGtjvL2WD",
        "colab": {
          "base_uri": "https://localhost:8080/"
        },
        "outputId": "05c06b42-7efb-491b-c2a3-11b5150da263"
      },
      "execution_count": null,
      "outputs": [
        {
          "output_type": "execute_result",
          "data": {
            "text/plain": [
              "(60000, 28, 28)"
            ]
          },
          "metadata": {},
          "execution_count": 15
        }
      ]
    },
    {
      "cell_type": "code",
      "source": [
        "#muestra la columna con etiqueta \"0\" de las 60.000 imagenes de entrenamiento, es como hacer referencia a solo el pixel de la esquina superior izquierda de cada imagen,\n",
        "# y por como esta construido el dataset es ovio que todos o la mayoria darian cero\n",
        "train_data_df[0]"
      ],
      "metadata": {
        "id": "-eNLGX_RL6u-",
        "colab": {
          "base_uri": "https://localhost:8080/"
        },
        "outputId": "7f5bb919-0cd3-434a-def4-06e571752ac0"
      },
      "execution_count": null,
      "outputs": [
        {
          "output_type": "execute_result",
          "data": {
            "text/plain": [
              "0        0\n",
              "1        0\n",
              "2        0\n",
              "3        0\n",
              "4        0\n",
              "        ..\n",
              "59995    0\n",
              "59996    0\n",
              "59997    0\n",
              "59998    0\n",
              "59999    0\n",
              "Name: 0, Length: 60000, dtype: uint8"
            ]
          },
          "metadata": {},
          "execution_count": 16
        }
      ]
    },
    {
      "cell_type": "code",
      "source": [
        "#Se accede a la primera imagen o la imagen en la posición 0 del conjunto de entrenamiento, dicha expresión muestra los valores de la matriz de 28 x28 que contiene cada una,\n",
        "#se puede observar que los valores van de 0 a 255 donde 0 debe representar el blanco y 255 el negro, por lo tanto la imagen contiene información en escala de grises.\n",
        "train_data[0]"
      ],
      "metadata": {
        "id": "WNR2MEbzLksk",
        "colab": {
          "base_uri": "https://localhost:8080/"
        },
        "outputId": "ac451bf4-05e5-47f0-fc27-f73bace26dcc"
      },
      "execution_count": null,
      "outputs": [
        {
          "output_type": "execute_result",
          "data": {
            "text/plain": [
              "array([[  0,   0,   0,   0,   0,   0,   0,   0,   0,   0,   0,   0,   0,\n",
              "          0,   0,   0,   0,   0,   0,   0,   0,   0,   0,   0,   0,   0,\n",
              "          0,   0],\n",
              "       [  0,   0,   0,   0,   0,   0,   0,   0,   0,   0,   0,   0,   0,\n",
              "          0,   0,   0,   0,   0,   0,   0,   0,   0,   0,   0,   0,   0,\n",
              "          0,   0],\n",
              "       [  0,   0,   0,   0,   0,   0,   0,   0,   0,   0,   0,   0,   0,\n",
              "          0,   0,   0,   0,   0,   0,   0,   0,   0,   0,   0,   0,   0,\n",
              "          0,   0],\n",
              "       [  0,   0,   0,   0,   0,   0,   0,   0,   0,   0,   0,   0,   0,\n",
              "          0,   0,   0,   0,   0,   0,   0,   0,   0,   0,   0,   0,   0,\n",
              "          0,   0],\n",
              "       [  0,   0,   0,   0,   0,   0,   0,   0,   0,   0,   0,   0,   0,\n",
              "          0,   0,   0,   0,   0,   0,   0,   0,   0,   0,   0,   0,   0,\n",
              "          0,   0],\n",
              "       [  0,   0,   0,   0,   0,   0,   0,   0,   0,   0,   0,   0,   3,\n",
              "         18,  18,  18, 126, 136, 175,  26, 166, 255, 247, 127,   0,   0,\n",
              "          0,   0],\n",
              "       [  0,   0,   0,   0,   0,   0,   0,   0,  30,  36,  94, 154, 170,\n",
              "        253, 253, 253, 253, 253, 225, 172, 253, 242, 195,  64,   0,   0,\n",
              "          0,   0],\n",
              "       [  0,   0,   0,   0,   0,   0,   0,  49, 238, 253, 253, 253, 253,\n",
              "        253, 253, 253, 253, 251,  93,  82,  82,  56,  39,   0,   0,   0,\n",
              "          0,   0],\n",
              "       [  0,   0,   0,   0,   0,   0,   0,  18, 219, 253, 253, 253, 253,\n",
              "        253, 198, 182, 247, 241,   0,   0,   0,   0,   0,   0,   0,   0,\n",
              "          0,   0],\n",
              "       [  0,   0,   0,   0,   0,   0,   0,   0,  80, 156, 107, 253, 253,\n",
              "        205,  11,   0,  43, 154,   0,   0,   0,   0,   0,   0,   0,   0,\n",
              "          0,   0],\n",
              "       [  0,   0,   0,   0,   0,   0,   0,   0,   0,  14,   1, 154, 253,\n",
              "         90,   0,   0,   0,   0,   0,   0,   0,   0,   0,   0,   0,   0,\n",
              "          0,   0],\n",
              "       [  0,   0,   0,   0,   0,   0,   0,   0,   0,   0,   0, 139, 253,\n",
              "        190,   2,   0,   0,   0,   0,   0,   0,   0,   0,   0,   0,   0,\n",
              "          0,   0],\n",
              "       [  0,   0,   0,   0,   0,   0,   0,   0,   0,   0,   0,  11, 190,\n",
              "        253,  70,   0,   0,   0,   0,   0,   0,   0,   0,   0,   0,   0,\n",
              "          0,   0],\n",
              "       [  0,   0,   0,   0,   0,   0,   0,   0,   0,   0,   0,   0,  35,\n",
              "        241, 225, 160, 108,   1,   0,   0,   0,   0,   0,   0,   0,   0,\n",
              "          0,   0],\n",
              "       [  0,   0,   0,   0,   0,   0,   0,   0,   0,   0,   0,   0,   0,\n",
              "         81, 240, 253, 253, 119,  25,   0,   0,   0,   0,   0,   0,   0,\n",
              "          0,   0],\n",
              "       [  0,   0,   0,   0,   0,   0,   0,   0,   0,   0,   0,   0,   0,\n",
              "          0,  45, 186, 253, 253, 150,  27,   0,   0,   0,   0,   0,   0,\n",
              "          0,   0],\n",
              "       [  0,   0,   0,   0,   0,   0,   0,   0,   0,   0,   0,   0,   0,\n",
              "          0,   0,  16,  93, 252, 253, 187,   0,   0,   0,   0,   0,   0,\n",
              "          0,   0],\n",
              "       [  0,   0,   0,   0,   0,   0,   0,   0,   0,   0,   0,   0,   0,\n",
              "          0,   0,   0,   0, 249, 253, 249,  64,   0,   0,   0,   0,   0,\n",
              "          0,   0],\n",
              "       [  0,   0,   0,   0,   0,   0,   0,   0,   0,   0,   0,   0,   0,\n",
              "          0,  46, 130, 183, 253, 253, 207,   2,   0,   0,   0,   0,   0,\n",
              "          0,   0],\n",
              "       [  0,   0,   0,   0,   0,   0,   0,   0,   0,   0,   0,   0,  39,\n",
              "        148, 229, 253, 253, 253, 250, 182,   0,   0,   0,   0,   0,   0,\n",
              "          0,   0],\n",
              "       [  0,   0,   0,   0,   0,   0,   0,   0,   0,   0,  24, 114, 221,\n",
              "        253, 253, 253, 253, 201,  78,   0,   0,   0,   0,   0,   0,   0,\n",
              "          0,   0],\n",
              "       [  0,   0,   0,   0,   0,   0,   0,   0,  23,  66, 213, 253, 253,\n",
              "        253, 253, 198,  81,   2,   0,   0,   0,   0,   0,   0,   0,   0,\n",
              "          0,   0],\n",
              "       [  0,   0,   0,   0,   0,   0,  18, 171, 219, 253, 253, 253, 253,\n",
              "        195,  80,   9,   0,   0,   0,   0,   0,   0,   0,   0,   0,   0,\n",
              "          0,   0],\n",
              "       [  0,   0,   0,   0,  55, 172, 226, 253, 253, 253, 253, 244, 133,\n",
              "         11,   0,   0,   0,   0,   0,   0,   0,   0,   0,   0,   0,   0,\n",
              "          0,   0],\n",
              "       [  0,   0,   0,   0, 136, 253, 253, 253, 212, 135, 132,  16,   0,\n",
              "          0,   0,   0,   0,   0,   0,   0,   0,   0,   0,   0,   0,   0,\n",
              "          0,   0],\n",
              "       [  0,   0,   0,   0,   0,   0,   0,   0,   0,   0,   0,   0,   0,\n",
              "          0,   0,   0,   0,   0,   0,   0,   0,   0,   0,   0,   0,   0,\n",
              "          0,   0],\n",
              "       [  0,   0,   0,   0,   0,   0,   0,   0,   0,   0,   0,   0,   0,\n",
              "          0,   0,   0,   0,   0,   0,   0,   0,   0,   0,   0,   0,   0,\n",
              "          0,   0],\n",
              "       [  0,   0,   0,   0,   0,   0,   0,   0,   0,   0,   0,   0,   0,\n",
              "          0,   0,   0,   0,   0,   0,   0,   0,   0,   0,   0,   0,   0,\n",
              "          0,   0]], dtype=uint8)"
            ]
          },
          "metadata": {},
          "execution_count": 17
        }
      ]
    },
    {
      "cell_type": "code",
      "source": [
        "#Con este comando, representamos de manera visual la imagen escrita a mano en la posición 689 del conjunto de datos MNIST. Esta representación visual resulta muy útil para inspeccionar los datos del conjunto,\n",
        "# especialmente cuando se trata de información visual, como imágenes de dígitos escritos a mano.\"\n",
        "plt.imshow(train_data[689])"
      ],
      "metadata": {
        "id": "dMnGC9IbLq5k",
        "colab": {
          "base_uri": "https://localhost:8080/",
          "height": 447
        },
        "outputId": "6f59889e-7e01-4f0c-e42d-ad8bb9ea0c7a"
      },
      "execution_count": null,
      "outputs": [
        {
          "output_type": "execute_result",
          "data": {
            "text/plain": [
              "<matplotlib.image.AxesImage at 0x7fc705f599c0>"
            ]
          },
          "metadata": {},
          "execution_count": 18
        },
        {
          "output_type": "display_data",
          "data": {
            "text/plain": [
              "<Figure size 640x480 with 1 Axes>"
            ],
            "image/png": "[encoded data removed]"
          },
          "metadata": {}
        }
      ]
    },
    {
      "cell_type": "code",
      "source": [
        "#aqui se muestra la etiquieta que corresponde a el dato de entrenamiento 689 y claramete se corresponde con la imagen anterior\n",
        "train_labels[689]"
      ],
      "metadata": {
        "id": "fbNyjcXtMTMZ",
        "colab": {
          "base_uri": "https://localhost:8080/"
        },
        "outputId": "93cb55f2-8a13-4761-9324-bdd35a79fac5"
      },
      "execution_count": null,
      "outputs": [
        {
          "output_type": "execute_result",
          "data": {
            "text/plain": [
              "0"
            ]
          },
          "metadata": {},
          "execution_count": 19
        }
      ]
    },
    {
      "cell_type": "code",
      "source": [
        "#se define un modelo del tipo secuencial de Keras, que son capas apiladas unas sobre las otras\n",
        "model = models.Sequential()"
      ],
      "metadata": {
        "id": "v1NmNS5fMZIj"
      },
      "execution_count": null,
      "outputs": []
    },
    {
      "cell_type": "markdown",
      "source": [
        "### se agrega una capa de entrada al modelo secuencial, al ser la primera capa se supone que es la capa de entrada\n",
        "### dicha capa es densamente conectada, y cuenta con 512 neuronas\n",
        "# tiene una funcion de activacion de tipo RELU (Rectified Linear Unit)![image.png](data:image/png;base64,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)\n",
        "input_shape=(28*28,))) se definen 784 neuronas en la capa de entrada, que es consistente con el número de características en una imagen MNIST. Luego, la capa Dense con 512 neuronas se encuentra en la arquitectura de la red como una capa oculta que procesa las características extraídas de la capa de entrada.\n"
      ],
      "metadata": {
        "id": "3z4Xq1T_iDmT"
      }
    },
    {
      "cell_type": "code",
      "source": [
        "\n",
        "model.add(layers.Dense(512,activation='relu', input_shape=(28*28,)))\n"
      ],
      "metadata": {
        "id": "kLGoDBjciAob"
      },
      "execution_count": null,
      "outputs": []
    },
    {
      "cell_type": "code",
      "source": [
        "#Se crea la capa de salida, es de tipo denso, por tanto esta conectada con cada una de las neuronas de la capa anterior,\n",
        "#define 10 neuronas en esta capa por lo que se supone debe ser la capa de salida con la clasificacion entre 0 y 9\n",
        "#la función de activación \"softmax\" permite que la red neuronal genere probabilidades para cada clase, lo que facilita la toma de decisiones en la clasificación de datos.\n",
        "model.add(layers.Dense(10,activation='softmax'))"
      ],
      "metadata": {
        "id": "lNH2LeazlWl9"
      },
      "execution_count": null,
      "outputs": []
    },
    {
      "cell_type": "code",
      "source": [
        "#se compila el modelo definiendo como obtimizador rmsprop  que es un algoritmo de optimización que se utilizará para ajustar los pesos del modelo durante el entrenamiento.\n",
        "#segun internet \" RMSprop es un algoritmo de optimización que adapta la tasa de aprendizaje de manera adaptativa durante el entrenamiento para acelerar la convergencia.\"\n",
        "#El argumento loss especifica la función de pérdida, La pérdida representa cuán lejos están las predicciones del modelo de los valores reales.\n",
        "#El argumento metrics especifica las métricas que se utilizarán para evaluar el rendimiento del modelo durante el entrenamiento.\n",
        "model.compile(optimizer='rmsprop',\n",
        "              loss='categorical_crossentropy',\n",
        "              metrics=['accuracy', 'Precision'])"
      ],
      "metadata": {
        "id": "il99HYMOMbI5"
      },
      "execution_count": null,
      "outputs": []
    },
    {
      "cell_type": "code",
      "source": [
        "#en Keras se utiliza para mostrar un resumen detallado de la arquitectura del modelo\n",
        "#Se muestra una tabla que enumera cada capa del modelo. En este caso, hay dos capas densamente conectadas.\n",
        "model.summary()"
      ],
      "metadata": {
        "colab": {
          "base_uri": "https://localhost:8080/"
        },
        "id": "U-SJPCjqMf2E",
        "outputId": "ebf88106-659f-49a6-a8d0-e39ea8d9a2c1"
      },
      "execution_count": null,
      "outputs": [
        {
          "output_type": "stream",
          "name": "stdout",
          "text": [
            "Model: \"sequential\"\n",
            "_________________________________________________________________\n",
            " Layer (type)                Output Shape              Param #   \n",
            "=================================================================\n",
            " dense (Dense)               (None, 512)               401920    \n",
            "                                                                 \n",
            " dense_1 (Dense)             (None, 10)                5130      \n",
            "                                                                 \n",
            "=================================================================\n",
            "Total params: 407050 (1.55 MB)\n",
            "Trainable params: 407050 (1.55 MB)\n",
            "Non-trainable params: 0 (0.00 Byte)\n",
            "_________________________________________________________________\n"
          ]
        }
      ]
    },
    {
      "cell_type": "code",
      "source": [
        "# normaliza los datos de entrenamiento en valores de entre 0 y 1\n",
        "x_train = train_data_df\n",
        "#x_train = train_data.reshape((60000,28*28))\n",
        "x_train = x_train.astype('float32')/255\n",
        "# normaliza los datos de testeo en valores de entre 0 y 1\n",
        "x_test = test_data.reshape((10000,28*28))\n",
        "x_test = x_test.astype('float32')/255"
      ],
      "metadata": {
        "id": "N0Ti2l0yMMT2"
      },
      "execution_count": null,
      "outputs": []
    },
    {
      "cell_type": "code",
      "source": [
        "#muestra los datos de entrenamiento en la fila 0 ya normalizados\n",
        "x_train[0]"
      ],
      "metadata": {
        "id": "z4cmdNlxMrkc",
        "colab": {
          "base_uri": "https://localhost:8080/"
        },
        "outputId": "1752c64b-d467-4b74-e56a-f0b95dd28989"
      },
      "execution_count": null,
      "outputs": [
        {
          "output_type": "execute_result",
          "data": {
            "text/plain": [
              "0        0.0\n",
              "1        0.0\n",
              "2        0.0\n",
              "3        0.0\n",
              "4        0.0\n",
              "        ... \n",
              "59995    0.0\n",
              "59996    0.0\n",
              "59997    0.0\n",
              "59998    0.0\n",
              "59999    0.0\n",
              "Name: 0, Length: 60000, dtype: float32"
            ]
          },
          "metadata": {},
          "execution_count": 26
        }
      ]
    },
    {
      "cell_type": "code",
      "source": [
        "#convierte a categórica las etiquetas de entrenamiento y testeo con el fin de que puedan ser usadas por la red neuronal\n",
        "#Por ejemplo, si tienes 10 clases (como en el caso de MNIST, donde hay dígitos del 0 al 9), la etiqueta \"5\" se convertirá en un vector [0, 0, 0, 0, 0, 1, 0, 0, 0, 0].\n",
        "y_train = to_categorical(train_labels)\n",
        "y_test =to_categorical(test_labels)"
      ],
      "metadata": {
        "id": "ph1tcO85MtaD"
      },
      "execution_count": null,
      "outputs": []
    },
    {
      "cell_type": "code",
      "source": [
        "#muestra la etiquieta que se corresponde con el dato en la fila 0 de los datos de entrenamiento\n",
        "train_labels[0]"
      ],
      "metadata": {
        "colab": {
          "base_uri": "https://localhost:8080/"
        },
        "id": "at6f6n_MMynk",
        "outputId": "c6fc0c0d-dae7-4cb3-8ec0-3f9e632845ef"
      },
      "execution_count": null,
      "outputs": [
        {
          "output_type": "execute_result",
          "data": {
            "text/plain": [
              "5"
            ]
          },
          "metadata": {},
          "execution_count": 28
        }
      ]
    },
    {
      "cell_type": "code",
      "source": [
        "#muestra la etiqueta convertida a categorica en formato formato one-hot encoding.\n",
        "y_train[0]"
      ],
      "metadata": {
        "colab": {
          "base_uri": "https://localhost:8080/"
        },
        "id": "VNq-PACkM5Jz",
        "outputId": "742b955b-c3cd-4e16-88d6-9d29b339285f"
      },
      "execution_count": null,
      "outputs": [
        {
          "output_type": "execute_result",
          "data": {
            "text/plain": [
              "array([0., 0., 0., 0., 0., 1., 0., 0., 0., 0.], dtype=float32)"
            ]
          },
          "metadata": {},
          "execution_count": 29
        }
      ]
    },
    {
      "cell_type": "code",
      "source": [
        "from tensorflow.keras.callbacks import TensorBoard"
      ],
      "metadata": {
        "id": "JNwu2QbQFvKu"
      },
      "execution_count": null,
      "outputs": []
    },
    {
      "cell_type": "code",
      "source": [
        "tensorboardDenso = TensorBoard(log_dir ='logs/denso')"
      ],
      "metadata": {
        "id": "zOgiEiPZISm-"
      },
      "execution_count": null,
      "outputs": []
    },
    {
      "cell_type": "code",
      "source": [
        "history = model.fit(x_train, y_train, epochs=20,callbacks=[tensorboardDenso], batch_size=128, validation_data=(x_test, y_test))"
      ],
      "metadata": {
        "colab": {
          "base_uri": "https://localhost:8080/"
        },
        "id": "IFDP3PNIM-ba",
        "outputId": "cf995083-91c0-48ad-b1e9-05788e8fb52a"
      },
      "execution_count": null,
      "outputs": [
        {
          "output_type": "stream",
          "name": "stdout",
          "text": [
            "Epoch 1/20\n",
            "469/469 [==============================] - 7s 7ms/step - loss: 0.2638 - accuracy: 0.9244 - precision: 0.9520 - val_loss: 0.1337 - val_accuracy: 0.9594 - val_precision: 0.9676\n",
            "Epoch 2/20\n",
            "469/469 [==============================] - 3s 7ms/step - loss: 0.1069 - accuracy: 0.9684 - precision: 0.9746 - val_loss: 0.0963 - val_accuracy: 0.9707 - val_precision: 0.9760\n",
            "Epoch 3/20\n",
            "469/469 [==============================] - 4s 8ms/step - loss: 0.0706 - accuracy: 0.9791 - precision: 0.9827 - val_loss: 0.0715 - val_accuracy: 0.9788 - val_precision: 0.9816\n",
            "Epoch 4/20\n",
            "469/469 [==============================] - 4s 9ms/step - loss: 0.0507 - accuracy: 0.9850 - precision: 0.9872 - val_loss: 0.0751 - val_accuracy: 0.9770 - val_precision: 0.9792\n",
            "Epoch 5/20\n",
            "469/469 [==============================] - 4s 8ms/step - loss: 0.0382 - accuracy: 0.9889 - precision: 0.9905 - val_loss: 0.0680 - val_accuracy: 0.9807 - val_precision: 0.9826\n",
            "Epoch 6/20\n",
            "469/469 [==============================] - 4s 8ms/step - loss: 0.0288 - accuracy: 0.9916 - precision: 0.9927 - val_loss: 0.0679 - val_accuracy: 0.9790 - val_precision: 0.9810\n",
            "Epoch 7/20\n",
            "469/469 [==============================] - 3s 6ms/step - loss: 0.0222 - accuracy: 0.9937 - precision: 0.9943 - val_loss: 0.0658 - val_accuracy: 0.9813 - val_precision: 0.9830\n",
            "Epoch 8/20\n",
            "469/469 [==============================] - 2s 4ms/step - loss: 0.0167 - accuracy: 0.9955 - precision: 0.9960 - val_loss: 0.0591 - val_accuracy: 0.9810 - val_precision: 0.9822\n",
            "Epoch 9/20\n",
            "469/469 [==============================] - 2s 4ms/step - loss: 0.0119 - accuracy: 0.9970 - precision: 0.9972 - val_loss: 0.0587 - val_accuracy: 0.9830 - val_precision: 0.9841\n",
            "Epoch 10/20\n",
            "469/469 [==============================] - 2s 4ms/step - loss: 0.0095 - accuracy: 0.9975 - precision: 0.9977 - val_loss: 0.0574 - val_accuracy: 0.9831 - val_precision: 0.9841\n",
            "Epoch 11/20\n",
            "469/469 [==============================] - 2s 4ms/step - loss: 0.0070 - accuracy: 0.9983 - precision: 0.9985 - val_loss: 0.0611 - val_accuracy: 0.9834 - val_precision: 0.9843\n",
            "Epoch 12/20\n",
            "469/469 [==============================] - 2s 5ms/step - loss: 0.0048 - accuracy: 0.9991 - precision: 0.9992 - val_loss: 0.0633 - val_accuracy: 0.9829 - val_precision: 0.9838\n",
            "Epoch 13/20\n",
            "469/469 [==============================] - 2s 5ms/step - loss: 0.0032 - accuracy: 0.9994 - precision: 0.9994 - val_loss: 0.0646 - val_accuracy: 0.9828 - val_precision: 0.9842\n",
            "Epoch 14/20\n",
            "469/469 [==============================] - 2s 4ms/step - loss: 0.0024 - accuracy: 0.9996 - precision: 0.9996 - val_loss: 0.0644 - val_accuracy: 0.9835 - val_precision: 0.9844\n",
            "Epoch 15/20\n",
            "469/469 [==============================] - 2s 4ms/step - loss: 0.0013 - accuracy: 0.9999 - precision: 0.9999 - val_loss: 0.0664 - val_accuracy: 0.9832 - val_precision: 0.9835\n",
            "Epoch 16/20\n",
            "469/469 [==============================] - 2s 4ms/step - loss: 8.2622e-04 - accuracy: 1.0000 - precision: 1.0000 - val_loss: 0.0646 - val_accuracy: 0.9835 - val_precision: 0.9845\n",
            "Epoch 17/20\n",
            "469/469 [==============================] - 2s 4ms/step - loss: 6.5146e-04 - accuracy: 1.0000 - precision: 1.0000 - val_loss: 0.0642 - val_accuracy: 0.9841 - val_precision: 0.9849\n",
            "Epoch 18/20\n",
            "469/469 [==============================] - 2s 5ms/step - loss: 4.5751e-04 - accuracy: 1.0000 - precision: 1.0000 - val_loss: 0.0653 - val_accuracy: 0.9838 - val_precision: 0.9849\n",
            "Epoch 19/20\n",
            "469/469 [==============================] - 3s 7ms/step - loss: 3.9275e-04 - accuracy: 1.0000 - precision: 1.0000 - val_loss: 0.0659 - val_accuracy: 0.9840 - val_precision: 0.9845\n",
            "Epoch 20/20\n",
            "469/469 [==============================] - 4s 8ms/step - loss: 3.3522e-04 - accuracy: 1.0000 - precision: 1.0000 - val_loss: 0.0663 - val_accuracy: 0.9839 - val_precision: 0.9847\n"
          ]
        }
      ]
    },
    {
      "cell_type": "code",
      "source": [
        "\n",
        "\n",
        "pd.DataFrame({'loss': history.history['loss'],\n",
        "              'val_loss': history.history['val_loss']}).plot(figsize=(10, 7))\n",
        "plt.grid(True)\n",
        "plt.xlabel(\"epochs\")\n",
        "plt.show()"
      ],
      "metadata": {
        "colab": {
          "base_uri": "https://localhost:8080/",
          "height": 619
        },
        "id": "6o_zWTPlG-c_",
        "outputId": "7f9d1d88-226f-41ad-a3a3-44825e1e6654"
      },
      "execution_count": null,
      "outputs": [
        {
          "output_type": "display_data",
          "data": {
            "text/plain": [
              "<Figure size 1000x700 with 1 Axes>"
            ],
            "image/png": "[encoded data removed]"
          },
          "metadata": {}
        }
      ]
    },
    {
      "cell_type": "code",
      "source": [
        "model.evaluate(x_test, y_test)"
      ],
      "metadata": {
        "id": "BQVdu9blNLk8",
        "colab": {
          "base_uri": "https://localhost:8080/"
        },
        "outputId": "bbf6936d-b287-4138-998c-0a75f708a4b4"
      },
      "execution_count": null,
      "outputs": [
        {
          "output_type": "stream",
          "name": "stdout",
          "text": [
            "313/313 [==============================] - 2s 5ms/step - loss: 0.0663 - accuracy: 0.9839 - precision: 0.9847\n"
          ]
        },
        {
          "output_type": "execute_result",
          "data": {
            "text/plain": [
              "[0.06631828844547272, 0.9839000105857849, 0.9846861958503723]"
            ]
          },
          "metadata": {},
          "execution_count": 34
        }
      ]
    },
    {
      "cell_type": "code",
      "source": [
        "%load_ext tensorboard"
      ],
      "metadata": {
        "id": "PNNj4fr5IxeV"
      },
      "execution_count": null,
      "outputs": []
    },
    {
      "cell_type": "code",
      "source": [
        " %reload_ext tensorboard"
      ],
      "metadata": {
        "id": "FZ3rmo1hMN-k"
      },
      "execution_count": null,
      "outputs": []
    },
    {
      "cell_type": "code",
      "source": [
        "%tensorboard --logdir logs\n"
      ],
      "metadata": {
        "colab": {
          "base_uri": "https://localhost:8080/",
          "height": 821
        },
        "id": "smIZDMZgI2gz",
        "outputId": "ba4ee46e-5e4d-4a37-ad80-a6d2d16ff23d"
      },
      "execution_count": null,
      "outputs": [
        {
          "output_type": "display_data",
          "data": {
            "text/plain": [
              "<IPython.core.display.Javascript object>"
            ],
            "application/javascript": [
              "\n",
              "        (async () => {\n",
              "            const url = new URL(await google.colab.kernel.proxyPort(6006, {'cache': true}));\n",
              "            url.searchParams.set('tensorboardColab', 'true');\n",
              "            const iframe = document.createElement('iframe');\n",
              "            iframe.src = url;\n",
              "            iframe.setAttribute('width', '100%');\n",
              "            iframe.setAttribute('height', '800');\n",
              "            iframe.setAttribute('frameborder', 0);\n",
              "            document.body.appendChild(iframe);\n",
              "        })();\n",
              "    "
            ]
          },
          "metadata": {}
        }
      ]
    },
    {
      "cell_type": "code",
      "source": [
        "!kill 8369"
      ],
      "metadata": {
        "id": "91MwzElDKEdN",
        "colab": {
          "base_uri": "https://localhost:8080/"
        },
        "outputId": "91fe1782-1aca-4fc1-941d-808f5a0b3e09"
      },
      "execution_count": null,
      "outputs": [
        {
          "output_type": "stream",
          "name": "stdout",
          "text": [
            "/bin/bash: line 1: kill: (8369) - No such process\n"
          ]
        }
      ]
    }
  ]
}